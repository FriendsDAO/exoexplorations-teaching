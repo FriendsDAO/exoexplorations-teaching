{
 "cells": [
  {
   "cell_type": "code",
   "execution_count": 2,
   "metadata": {},
   "outputs": [],
   "source": [
    "import matplotlib.pyplot as plt\n",
    "import numpy as np"
   ]
  },
  {
   "cell_type": "code",
   "execution_count": 3,
   "metadata": {},
   "outputs": [],
   "source": [
    "def create_circular_mask(h, w, center=None, radius=None):\n",
    "\n",
    "    if center is None: # use the middle of the image\n",
    "        center = (int(w/2), int(h/2))\n",
    "    if radius is None: # use the smallest distance between the center and image walls\n",
    "        radius = min(center[0], center[1], w-center[0], h-center[1])\n",
    "\n",
    "    Y, X = np.ogrid[:h, :w]\n",
    "    dist_from_center = np.sqrt((X - center[0])**2 + (Y-center[1])**2)\n",
    "\n",
    "    mask = dist_from_center <= radius\n",
    "    return mask"
   ]
  },
  {
   "cell_type": "code",
   "execution_count": 171,
   "metadata": {},
   "outputs": [],
   "source": [
    "w, h = 500, 150\n",
    "star_radius = 100\n",
    "area_star_fractional = []\n",
    "star = np.zeros((2*h, 2*w))\n",
    "star_mask = create_circular_mask(2*h, 2*w, radius=star_radius)\n",
    "star[star_mask] = 1.0\n",
    "area_star_total = np.sum(star)\n",
    "\n",
    "for x in range(2*w):\n",
    "    star = np.zeros((2*h, 2*w))\n",
    "\n",
    "    star_mask = create_circular_mask(star.shape[0], star.shape[1], radius=star_radius)\n",
    "    planet_mask = create_circular_mask(star.shape[0], star.shape[1], center=(2*w-x, h-0), radius=50)\n",
    "    atmos_mask = planet_mask^create_circular_mask(star.shape[0], star.shape[1], center=(2*w-x, h-0), radius=100)\n",
    "    atmos_mask = np.logical_and(atmos_mask, star_mask)\n",
    "\n",
    "    star[star_mask] = 1.0\n",
    "    star[atmos_mask] = .8\n",
    "    star[planet_mask] = 0.0\n",
    "\n",
    "    area_star_fractional.append(np.sum(star))\n",
    "\n",
    "area_star = np.array(area_star_fractional)/area_star_total"
   ]
  },
  {
   "cell_type": "code",
   "execution_count": 172,
   "metadata": {},
   "outputs": [
    {
     "data": {
      "text/plain": [
       "[<matplotlib.lines.Line2D at 0x7f563853d128>]"
      ]
     },
     "execution_count": 172,
     "metadata": {},
     "output_type": "execute_result"
    },
    {
     "data": {
      "image/png": "[encoded data removed]",
      "text/plain": [
       "<Figure size 432x288 with 1 Axes>"
      ]
     },
     "metadata": {
      "needs_background": "light"
     },
     "output_type": "display_data"
    }
   ],
   "source": [
    "plt.plot(range(w*2), area_star)"
   ]
  },
  {
   "cell_type": "code",
   "execution_count": null,
   "metadata": {},
   "outputs": [],
   "source": []
  }
 ],
 "metadata": {
  "kernelspec": {
   "display_name": "Python 3",
   "language": "python",
   "name": "python3"
  },
  "language_info": {
   "codemirror_mode": {
    "name": "ipython",
    "version": 3
   },
   "file_extension": ".py",
   "mimetype": "text/x-python",
   "name": "python",
   "nbconvert_exporter": "python",
   "pygments_lexer": "ipython3",
   "version": "3.6.9"
  }
 },
 "nbformat": 4,
 "nbformat_minor": 4
}
