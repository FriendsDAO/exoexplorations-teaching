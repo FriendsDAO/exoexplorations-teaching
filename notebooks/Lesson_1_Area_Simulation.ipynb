{
 "cells": [
  {
   "cell_type": "code",
   "execution_count": 2,
   "metadata": {},
   "outputs": [],
   "source": [
    "import matplotlib.pyplot as plt\n",
    "import numpy as np"
   ]
  },
  {
   "cell_type": "code",
   "execution_count": 3,
   "metadata": {},
   "outputs": [],
   "source": [
    "def create_circular_mask(h, w, center=None, radius=None):\n",
    "\n",
    "    if center is None: # use the middle of the image\n",
    "        center = (int(w/2), int(h/2))\n",
    "    if radius is None: # use the smallest distance between the center and image walls\n",
    "        radius = min(center[0], center[1], w-center[0], h-center[1])\n",
    "\n",
    "    Y, X = np.ogrid[:h, :w]\n",
    "    dist_from_center = np.sqrt((X - center[0])**2 + (Y-center[1])**2)\n",
    "\n",
    "    mask = dist_from_center <= radius\n",
    "    return mask"
   ]
  },
  {
   "cell_type": "code",
   "execution_count": 46,
   "metadata": {},
   "outputs": [],
   "source": [
    "star = np.zeros((500, 500))\n",
    "w, h = int(star.shape[0]), int(star.shape[1]/2)\n",
    "\n",
    "star_mask = create_circular_mask(star.shape[0], star.shape[1], radius=100)\n",
    "star[star_mask] = 1.0\n",
    "area_star_total = np.sum(star_mask)\n",
    "area_star_fractional = []\n",
    "    \n",
    "for x in range(star.shape[0]):\n",
    "    \n",
    "    star = np.zeros((500, 500))\n",
    "    star_mask = create_circular_mask(star.shape[0], star.shape[1], radius=100)\n",
    "    planet_mask = create_circular_mask(star.shape[0], star.shape[1], center=(w-x, h-0), radius=50)\n",
    "\n",
    "    star[star_mask] = 1.0\n",
    "    star[planet_mask] = 0.0\n",
    "\n",
    "    area_star_fractional.append(np.sum(star))\n",
    "    \n",
    "area_star = np.array(area_star_fractional)/area_star_total\n",
    "    \n",
    "# plt.imshow(star, origin='lower')"
   ]
  },
  {
   "cell_type": "code",
   "execution_count": 47,
   "metadata": {},
   "outputs": [
    {
     "data": {
      "text/plain": [
       "[<matplotlib.lines.Line2D at 0x7f5644b320f0>]"
      ]
     },
     "execution_count": 47,
     "metadata": {},
     "output_type": "execute_result"
    },
    {
     "data": {
      "image/png": "[encoded data removed]",
      "text/plain": [
       "<Figure size 432x288 with 1 Axes>"
      ]
     },
     "metadata": {
      "needs_background": "light"
     },
     "output_type": "display_data"
    }
   ],
   "source": [
    "plt.plot(range(star.shape[0]), area_star)"
   ]
  },
  {
   "cell_type": "code",
   "execution_count": null,
   "metadata": {},
   "outputs": [],
   "source": []
  }
 ],
 "metadata": {
  "kernelspec": {
   "display_name": "Python 3",
   "language": "python",
   "name": "python3"
  },
  "language_info": {
   "codemirror_mode": {
    "name": "ipython",
    "version": 3
   },
   "file_extension": ".py",
   "mimetype": "text/x-python",
   "name": "python",
   "nbconvert_exporter": "python",
   "pygments_lexer": "ipython3",
   "version": "3.6.9"
  }
 },
 "nbformat": 4,
 "nbformat_minor": 4
}
