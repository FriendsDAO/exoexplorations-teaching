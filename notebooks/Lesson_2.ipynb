{
 "cells": [
  {
   "cell_type": "markdown",
   "metadata": {},
   "source": [
    "<img src=\"https://static1.squarespace.com/static/5a3d47364c326d77c53c659d/t/5c3b8d456d2a73d481f72c11/1592871723538/?format=1500w\" width=\"240\" height=\"240\" align=\"center\"/>\n",
    "\n",
    "In this lesson we will learn how to use graphs and data to try and learn some stuff about LEGO. We will be loading information (data) into our Jupyter notebook and we will create a cool plot to aid our understanding. If you haven't already done so, start with [lesson # 1](./Lesson_1.ipynb) before continuing. \n",
    "\n",
    "Let's think about an easy way for us to categorize data? How do we usually visualize that? What do you do with a bunch of observations or measurements?\n",
    "\n",
    "Usually we use tables where the columns represents the thing we are measuring, and the rows represent the individual measurements. If we do that a bunch of times, and record it, we are basically doing science and deserve to be called scientists!\n",
    "\n",
    "Tables can be a variety of different types of information, for scientists, _a lot of_ tables include _a lot_ of numbers. A simple example is measuring someone's height. Each column contains information relating age and height, and each row tells us which data points are paired. Just looking at this table, what can we learn? What is happening to the height as the age increases? \n",
    "\n",
    "| Age of Bob (years old) | Height (cm) |\n",
    "|-----|--------|\n",
    "| 4   |   100  |\n",
    "| 8   |   128  |\n",
    "| 15  |   162  |\n",
    "| 16  |   174  |\n",
    "\n",
    "This table is easy to interpret what is happening because there are only five rows for ages 4, 8, 15, and 16 and we can easily see how Bob's height increases with age. But what if we had more data? What if we had thousands of rows of data? With that much data, we have to use graphs to aid our understanding."
   ]
  },
  {
   "cell_type": "markdown",
   "metadata": {},
   "source": [
    "# Loading LEGO Data into Python\n",
    "<img src=\"lego.jpg\" width=\"240\" height=\"240\" align=\"center\"/>\n",
    "\n",
    "Back to LEGO: First we have to load the table of information we want to graph. You may find this surprising, but a lot of data is actually freely available over the internet. For example, LEGO has published a dataset on a website called [Kaggle - (an awesome collection of science challenges using programming)](https://www.kaggle.com/), for the community to explore.\n",
    "\n",
    "To load the `package` we will use to load the data, we use something called the `import` command. This imports a bunch of pre-written Python code (kind of like the stuff in this notebook).\n",
    "\n",
    "We've already downloaded the lego data into a location on the computer called `sets.csv`.\n",
    "\n",
    "We will use the `pandas` package to load our data. It's easy, and all we have to do is tell it where to find our data.\n",
    "\n",
    "Don't forget to read the python comments (the text beside a `#` to help you understand what this code is doing)."
   ]
  },
  {
   "cell_type": "code",
   "execution_count": null,
   "metadata": {},
   "outputs": [],
   "source": [
    "# Import the pandas package, and import it under the alias \"pd\"\n",
    "# the alias is simple, and is just shorter than writing out \"pandas\"\n",
    "# because programmers are reallllllly lazy\n",
    "\n",
    "import pandas as pd"
   ]
  },
  {
   "cell_type": "markdown",
   "metadata": {},
   "source": [
    "to access something within pandas, we just use what we called the package (\"pd\")\n",
    "and then the name of the function within that package we want to use. In this\n",
    "case, we want to read a `.csv` file - where our LEGO data is stored.\n",
    "\n",
    "Pandas has a convenient set of code written (hidden from our view for convenience)\n",
    "that we can use to load this data. It's called `\"read_csv\"`.\n",
    "\n",
    "`read_csv` is a function that \"takes\" or \"accepts\" an input. This information is called\n",
    "an \"argument\". This argument has to be given in quotation marks otherwise it won't work properly.\n",
    "an argument also is supplied with brackets function_name(arguments). \n",
    "\n",
    "`read_csv` asks us simply to tell it where to find our .csv file. So take a moment to tell it where to find the data\n",
    "by replacing `'ENTER THE LOCATION OF THE DATA HERE'` with the location of our .csv file. \n",
    "(HINT: I mentioned it earlier!) If you've used it properly, you should see a table printed with data in it.\n",
    "\n",
    "HINT HINT: If you run this cell and you see a red confusing error that is super overwhelming, don't panic. Programmers\n",
    "make hundreds, thousands, (millions?) of errors throughout their career. It just means the computer is confused, \n",
    "not that it will spontaniously combust. Look carefully at what you put in between the brackets.\n",
    "\n",
    "If you're stuck, execute the cell below the error for a hint."
   ]
  },
  {
   "cell_type": "code",
   "execution_count": null,
   "metadata": {},
   "outputs": [],
   "source": [
    "pd.read_csv('ENTER THE LOCATION OF THE DATA HERE')"
   ]
  },
  {
   "cell_type": "code",
   "execution_count": null,
   "metadata": {},
   "outputs": [],
   "source": [
    "from exoexplorations import *\n",
    "execute_for_a_hint()"
   ]
  },
  {
   "cell_type": "markdown",
   "metadata": {},
   "source": [
    "Once you have correctly used the `read_csv` function, let's store it somewhere, in a variable `df`. `df` stands for `data frame`. We could assign what `read_csv` gives us to any variable name, but we will use `df` since it is easy to remember. We can assign a variable by using the `=` symbol."
   ]
  },
  {
   "cell_type": "code",
   "execution_count": null,
   "metadata": {},
   "outputs": [],
   "source": [
    "# In case you're stuck, here is the correct way of loading the dataframe\n",
    "df = pd.read_csv('sets.csv')"
   ]
  },
  {
   "cell_type": "markdown",
   "metadata": {},
   "source": [
    "Now that we've loaded the data into a `data frame`, how to we view what is inside of it? In Jupyter it's very simple. Just put the variable name in a cell and execute it! You may notice this is the same table that we saw earlier, but this time we've stored it in a variable called `df`. See the next cell."
   ]
  },
  {
   "cell_type": "code",
   "execution_count": null,
   "metadata": {},
   "outputs": [],
   "source": [
    "df"
   ]
  },
  {
   "cell_type": "markdown",
   "metadata": {},
   "source": [
    "Below the cell with just `df` in it, you should see a printed table of a bunch of data. Each row represents a measurement of something, and each column represents something that is measureable! We can look at how these different things compare to each other. You may hear words like \"trends\", \"mean\", or \"percentiles\". These are all just measurements of what story data tells us. A trend is something you can examine changing as something else changes with it. For example, in general, the older you get, the taller you get! That upwards \"trend\" is what we can quantify with a trend-line. \n",
    "\n",
    "You may also be familiar with \"mean\" or \"average\" (these mean the same thing). The mean/average refers to the most likely measurement to stumble upon given a set (or group) of measurements. This one of the easiest way of thinking about it.  \n",
    "\n",
    "Let's use this idea to find out some preliminary information about our LEGO dataset. \n",
    "\n",
    "Some interesting things we could figure out from this data set are, in what year was the first LEGO set created? Let's ask the dataframe, `df`."
   ]
  },
  {
   "cell_type": "code",
   "execution_count": null,
   "metadata": {},
   "outputs": [],
   "source": [
    "# this isolates the year data column only from the table\n",
    "df.year"
   ]
  },
  {
   "cell_type": "code",
   "execution_count": null,
   "metadata": {},
   "outputs": [],
   "source": [
    "# this selects the minimum year from that column of data\n",
    "df.year.min()"
   ]
  },
  {
   "cell_type": "markdown",
   "metadata": {},
   "source": [
    "Wow! The first LEGO set in this database was from 1950. If you do a quick google search, you may see that the first lego dataset actually made was in Denmark in 1932. Why then does the data frame tell us its from 1950? Think about where this data comes from, and also keep in mind that data is not the same as a fact, and that data supports facts but are only part of the story. In this case, I don't think the LEGO company even tracked its data before 1950, so this is why we see the first record of LEGO which does not mean its the first set of LEGO ever made.\n",
    "\n",
    "In the next blank cell, print out the most recent year that LEGO was created. This one might also be confusing!"
   ]
  },
  {
   "cell_type": "code",
   "execution_count": null,
   "metadata": {},
   "outputs": [],
   "source": []
  },
  {
   "cell_type": "markdown",
   "metadata": {},
   "source": [
    "Based on our explination about the earliest LEGO data, think about why this might not be the answer you expect!\n",
    "\n",
    "![lego-detective](lego-detective.jpg)\n",
    "\n",
    "Hint: replace `min()` above with `max()` and execute the cell.\n",
    "\n",
    "Let's continue, and look at something else in the `dataframe`, `df`. What other columns might be interesting? How about the column `num_parts`. What do you think that means?\n",
    "\n",
    "...\n",
    "\n",
    "Easy! It's the number of parts (or individual pieces of LEGO) per each new lego set introduced that year! We can access the number of parts, or `num_parts` in the same way we accessed the `year` above. To get it as a column, just use `df.num_parts`."
   ]
  },
  {
   "cell_type": "code",
   "execution_count": null,
   "metadata": {},
   "outputs": [],
   "source": [
    "df.num_parts"
   ]
  },
  {
   "cell_type": "markdown",
   "metadata": {},
   "source": [
    "Use what we've learned so far to find the maximum number of parts in a lego set ever made according to this data frame. Hint: use what we know `max()` and `.min()` do, but use it on the `num_parts` column."
   ]
  },
  {
   "cell_type": "code",
   "execution_count": null,
   "metadata": {},
   "outputs": [],
   "source": []
  },
  {
   "cell_type": "markdown",
   "metadata": {},
   "source": [
    "If you've done that correctly, you should have seen the maximum number of LEGO pieces, and it is A LOT.\n",
    "\n",
    "Let's do something slightly more advanced and ask the question: \"If we choose any LEGO set, what's the most likely number of pieces we would find in it?\" We can answer this using basic statistics, and it's very easy."
   ]
  },
  {
   "cell_type": "code",
   "execution_count": null,
   "metadata": {},
   "outputs": [],
   "source": [
    "df.num_parts.mean()"
   ]
  },
  {
   "cell_type": "markdown",
   "metadata": {},
   "source": [
    "We can interpret that number as the average number of LEGO pieces in a set of LEGO. So if someone was offering you money to guess the number of LEGO pieces in a random LEGO set, guess this number! You're most likely to be close to the actual number. "
   ]
  },
  {
   "cell_type": "markdown",
   "metadata": {},
   "source": [
    "# Plotting\n",
    "\n",
    "In this next section I'm going to do something tricky, and process the data slightly to help us visualize it better. Instead of looking at each year as having many different sets of LEGO in it, I'm going to calculate the average number of LEGO pieces in a given year. If that is confusing to you, don't worry. Just execute the upcoming code and it will make more sense later on."
   ]
  },
  {
   "cell_type": "code",
   "execution_count": null,
   "metadata": {},
   "outputs": [],
   "source": [
    "df_grouped = df.groupby('year', as_index=False).agg({'num_parts': 'mean'}).rename(columns={\"num_parts\": \"num_parts_mean\"})"
   ]
  },
  {
   "cell_type": "markdown",
   "metadata": {},
   "source": [
    "`df_grouped` is now a data frame that is new, but was created from our original dataframe `df`. It's still ok if that doesn't make sense. What I want you to pay attention to is what is contained within df_grouped. What's different about it? What's similar?"
   ]
  },
  {
   "cell_type": "code",
   "execution_count": null,
   "metadata": {},
   "outputs": [],
   "source": [
    "df_grouped"
   ]
  },
  {
   "cell_type": "markdown",
   "metadata": {},
   "source": [
    "I've done something called `aggregating`. It basically means I took the data and manipulated it to give me something more useful. All I did was calculate the average number of lego pieces in a set made in a given year, and group that number into a new column named `num_parts_mean`.\n",
    "\n",
    "What I want to imagine next is, **are LEGO sets getting bigger with time?**\n",
    "\n",
    "To do this, we must produce a graph, figure, plot, chart or whatever you want to call it. I will call it a plot because it sounds cooler than graph in my opinion.\n",
    "\n",
    "The best tips for understanding graphs (even fancy ones) is the following method:\n",
    "\n",
    "1.) Look at the title of the graph. Every good graph has a title. For example, \"Amount of Lego Produced Through Time\"\n",
    "\n",
    "2.) Look at the title on the horizontal and vertical edges of the graph. They should have a description, and/or a unit of measurement (for example, years, hours, minutes, seconds!). The information found on these edges are called \"axis\" and they are the most important part of the graph. \n",
    "\n",
    "3.) The content of the graph. I know this is vague, but bare with me. The contents can be anything - bars, lines, little dots, x's, circles, the letter \"T\", or literally anything that can be represented as an image. Scientists tend to be boring, and stick to circles and lines - but we will change that in this lesson!\n",
    "\n",
    "4.) With all of that above information, we can examine what story a graph is telling us by looking at how the lines, little dots, x's ... etc. are distributed throughout the graph.\n",
    "\n",
    "We will also need the help of another package in python, and is perhaps one of the most widely used packages ever created for python. It's called `matplotlib`. Say it three times fast!\n",
    "\n",
    "We will import it in a very similar way that we imported `pandas` way back at the beginning."
   ]
  },
  {
   "cell_type": "code",
   "execution_count": null,
   "metadata": {},
   "outputs": [],
   "source": [
    "# load the matplotlib package and put it in a variable called \"plt\"\n",
    "import matplotlib.pyplot as plt"
   ]
  },
  {
   "cell_type": "markdown",
   "metadata": {},
   "source": [
    "Next, lets use `matplotlib` to help us answer the question: **are LEGO sets getting bigger with time?**\n",
    "\n",
    "First lets tell it how big we want the plot to be.\n",
    "\n",
    "We should also give our plot a title and description, then we should make sure we tell `Jupyter` to display the plot for us!\n",
    "\n",
    "The final step is to specify what kind of plot we want to make. In this case, let's use little dots. Each dot will represent a `year` and the `average` number of lego sets in that year (what I did magically above). On the `x-axis` we will have time in years, they will increase as you move from left to right. On the `y-axis` we will have the number of LEGO pieces, these will increase from bottom to top. To tell `Python` how we want to plot this information, we have to use a function called `scatter`. `scatter` is a function just like `read_csv` was, and it takes `arguments` or `information` in order to work properly. `scatter` takes the data we want to show on the `x-axis` first, then separated by a comma, the data we want to show on the `y-axis`. \n",
    "\n",
    "The data on the `x-axis` can be accessed by isolating a column from `df_grouped`. Just like we did before, we can simply ask for the year. "
   ]
  },
  {
   "cell_type": "code",
   "execution_count": null,
   "metadata": {},
   "outputs": [],
   "source": [
    "df_grouped.year"
   ]
  },
  {
   "cell_type": "markdown",
   "metadata": {},
   "source": [
    "We can get the data on the `y-axis` by asking it for the column of data we want there, in this case we want the `num_parts_mean` column."
   ]
  },
  {
   "cell_type": "code",
   "execution_count": null,
   "metadata": {},
   "outputs": [],
   "source": [
    "df_grouped.num_parts_mean"
   ]
  },
  {
   "cell_type": "markdown",
   "metadata": {},
   "source": [
    "Now let's use those in `scatter` to create a scatter plot!"
   ]
  },
  {
   "cell_type": "code",
   "execution_count": null,
   "metadata": {},
   "outputs": [],
   "source": [
    "# plot size\n",
    "fig = plt.figure(figsize=(12, 12))\n",
    "# name the plot\n",
    "plt.title('Are LEGO sets getting bigger with time?')\n",
    "# label the x-axis\n",
    "plt.xlabel('Time [Year]')\n",
    "# label the y-axis\n",
    "plt.ylabel('Number of LEGO Pieces [Average Number of Pieces per Set]')\n",
    "# call the scatter function!\n",
    "plt.scatter(df_grouped.year, df_grouped.num_parts_mean, s=100)\n",
    "# show the plot\n",
    "plt.plot()"
   ]
  },
  {
   "cell_type": "markdown",
   "metadata": {},
   "source": [
    "That looks messy, but what can we learn from it? Choose a year a long time ago, and follow it up vertically to the closest data point, or blue circle, then follow that position horizontally to the y-axis to estimate how many pieces of LEGO that year had on average. \n",
    "\n",
    "Do this for the year `1960` and for the year `2010`. What do you notice? This data is trending upwards (not perfectly, but evidently) and will assist us in making a conclusion about the question we asked earlier. In general, are LEGO sets getting larger? Yes! They are!\n",
    "\n",
    "Before, without the use of a plot we could not say yes unless we looked painstakingly at each lego set and kept track of that. However, this data set has thousands of entries in it! That would take years! Here, using the power of coding, we were able to do it almost instantly using a computer. This is why programming has revolutionaized the way some science is done, particularly astronomy. "
   ]
  },
  {
   "cell_type": "code",
   "execution_count": null,
   "metadata": {},
   "outputs": [],
   "source": [
    "# plot size\n",
    "fig = plt.figure(figsize=(12, 12))\n",
    "# name the plot\n",
    "plt.title('Are LEGO sets getting bigger with time?')\n",
    "# label the x-axis\n",
    "plt.xlabel('Time [Year]')\n",
    "# label the y-axis\n",
    "plt.ylabel('Number of LEGO Pieces [Average Number of Pieces per Set]')\n",
    "# call the scatter function!\n",
    "plt.scatter(df_grouped.year, df_grouped.num_parts_mean, alpha=0.5, marker=r'$\\clubsuit$', s=300)\n",
    "# show the plot\n",
    "plt.plot()"
   ]
  },
  {
   "cell_type": "code",
   "execution_count": null,
   "metadata": {},
   "outputs": [],
   "source": []
  }
 ],
 "metadata": {
  "kernelspec": {
   "display_name": "Python 3",
   "language": "python",
   "name": "python3"
  },
  "language_info": {
   "codemirror_mode": {
    "name": "ipython",
    "version": 3
   },
   "file_extension": ".py",
   "mimetype": "text/x-python",
   "name": "python",
   "nbconvert_exporter": "python",
   "pygments_lexer": "ipython3",
   "version": "3.6.9"
  }
 },
 "nbformat": 4,
 "nbformat_minor": 4
}
