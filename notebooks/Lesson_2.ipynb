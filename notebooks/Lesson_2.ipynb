{
 "cells": [
  {
   "cell_type": "markdown",
   "metadata": {},
   "source": [
    "<img src=\"https://static1.squarespace.com/static/5a3d47364c326d77c53c659d/t/5c3b8d456d2a73d481f72c11/1592871723538/?format=1500w\" width=\"240\" height=\"240\" align=\"center\"/>\n",
    "\n",
    "In this lesson we will learn how to use graphs and data to aid our understanding of the world - or at least some of it. \n",
    "\n",
    "What is an easy way for us to categorize information (data)? How do we visualize that?\n",
    "\n",
    "Usually we use tables where the columns represents the thing we are measuring, and the rows represent the individual measurements. If we do that a bunch of times, and record it, we are basically doing science and deserve to be called scientists!\n",
    "\n",
    "Let's get to it, and start by downloading a table. This table is not visible at first, but we will use the power of the internet and code to download it for us."
   ]
  },
  {
   "cell_type": "code",
   "execution_count": 21,
   "metadata": {},
   "outputs": [
    {
     "name": "stdout",
     "output_type": "stream",
     "text": [
      "Traceback (most recent call last):\n",
      "  File \"/home/nannau/FDAO/exoexplorations-teaching/teach-venv/lib/python3.6/site-packages/pkg_resources/__init__.py\", line 582, in _build_master\n",
      "    ws.require(__requires__)\n",
      "  File \"/home/nannau/FDAO/exoexplorations-teaching/teach-venv/lib/python3.6/site-packages/pkg_resources/__init__.py\", line 899, in require\n",
      "    needed = self.resolve(parse_requirements(requirements))\n",
      "  File \"/home/nannau/FDAO/exoexplorations-teaching/teach-venv/lib/python3.6/site-packages/pkg_resources/__init__.py\", line 790, in resolve\n",
      "    raise VersionConflict(dist, req).with_context(dependent_req)\n",
      "pkg_resources.ContextualVersionConflict: (urllib3 1.25.10 (/home/nannau/FDAO/exoexplorations-teaching/teach-venv/lib/python3.6/site-packages), Requirement.parse('urllib3<1.25,>=1.21.1'), {'kaggle'})\n",
      "\n",
      "During handling of the above exception, another exception occurred:\n",
      "\n",
      "Traceback (most recent call last):\n",
      "  File \"/home/nannau/FDAO/exoexplorations-teaching/teach-venv/bin/kaggle\", line 6, in <module>\n",
      "    from pkg_resources import load_entry_point\n",
      "  File \"/home/nannau/FDAO/exoexplorations-teaching/teach-venv/lib/python3.6/site-packages/pkg_resources/__init__.py\", line 3256, in <module>\n",
      "    @_call_aside\n",
      "  File \"/home/nannau/FDAO/exoexplorations-teaching/teach-venv/lib/python3.6/site-packages/pkg_resources/__init__.py\", line 3240, in _call_aside\n",
      "    f(*args, **kwargs)\n",
      "  File \"/home/nannau/FDAO/exoexplorations-teaching/teach-venv/lib/python3.6/site-packages/pkg_resources/__init__.py\", line 3269, in _initialize_master_working_set\n",
      "    working_set = WorkingSet._build_master()\n",
      "  File \"/home/nannau/FDAO/exoexplorations-teaching/teach-venv/lib/python3.6/site-packages/pkg_resources/__init__.py\", line 584, in _build_master\n",
      "    return cls._build_from_requirements(__requires__)\n",
      "  File \"/home/nannau/FDAO/exoexplorations-teaching/teach-venv/lib/python3.6/site-packages/pkg_resources/__init__.py\", line 597, in _build_from_requirements\n",
      "    dists = ws.resolve(reqs, Environment())\n",
      "  File \"/home/nannau/FDAO/exoexplorations-teaching/teach-venv/lib/python3.6/site-packages/pkg_resources/__init__.py\", line 785, in resolve\n",
      "    raise DistributionNotFound(req, requirers)\n",
      "pkg_resources.DistributionNotFound: The 'urllib3<1.25,>=1.21.1' distribution was not found and is required by kaggle\n",
      "Archive:  lego-database.zip\n",
      "  inflating: sets.csv                \n"
     ]
    }
   ],
   "source": [
    "# !kaggle datasets download -d data/ crawford/80-cereals\n",
    "# let's start off by downloading the data. You don't have to worry about this step. This just downloads the data into our notebook.\n",
    "\n",
    "!kaggle datasets download -d rtatman/lego-database\n",
    "!unzip -o lego-database.zip sets.csv"
   ]
  },
  {
   "cell_type": "markdown",
   "metadata": {},
   "source": [
    "# Loading Data into Python\n",
    "\n",
    "First we have to load the information we want to graph. You may find this surprising, but a lot of data is actually freely available over the internet. For example, LEGO has published a dataset on Kaggle - (an awesome collection of science challenges using programming), for the community to explore.\n",
    "\n",
    "To load the `package` we will use to load the data, we use something called the `import` command. This imports a bunch of pre-written Python code (kind of like the stuff in this notebook).\n",
    "\n",
    "We've downloaded the lego data into a location on the computer called `sets.csv`.\n",
    "\n",
    "We will use the `pandas` package to load our data. It's super easy, and all we have to do is tell it where to find our data.\n",
    "\n",
    "Don't forget to read the python comments (the text beside a `#` to help you understand what this code is doing)."
   ]
  },
  {
   "cell_type": "code",
   "execution_count": 2,
   "metadata": {},
   "outputs": [],
   "source": [
    "# Import the pandas package, and import it under the alias \"pd\"\n",
    "# the alias is simple, and is just shorter than writing out \"pandas\"\n",
    "# because programmers are reallllllly lazy\n",
    "\n",
    "import pandas as pd"
   ]
  },
  {
   "cell_type": "markdown",
   "metadata": {},
   "source": [
    "to access something within pandas, we just use what we called the package (\"pd\")\n",
    "and then the name of the function within that package we want to use. In this\n",
    "case, we want to read a `.csv` file - where our LEGO data is stored.\n",
    "\n",
    "Pandas has a convenient set of code written (hidden from our view for convenience)\n",
    "that we can use to load this data. It's called `\"read_csv\"`.\n",
    "\n",
    "`read_csv` is a function that \"takes\" or \"accepts\" an input. This information is called\n",
    "an \"argument\". This argument has to be given in quotation marks otherwise it won't work properly.\n",
    "an argument also is supplied with brackets function_name(arguments). \n",
    "\n",
    "`read_csv` asks us simply to tell it where to find our .csv file. So take a moment to tell it where to find the data\n",
    "by replacing `'ENTER THE LOCATION OF THE DATA HERE'` with the location of our .csv file. \n",
    "(HINT: I mentioned it earlier!) If you've used it properly, you should see a table printed with data in it.\n",
    "\n",
    "HINT HINT: If you run this cell and you see a red confusing error that is super overwhelming, don't panic. Programmers\n",
    "make hundreds, thousands, (millions?) of errors throughout their career. It just means the computer is confused, \n",
    "not that it will spontaniously combust. Look carefully at what you put in between the brackets.\n",
    "\n",
    "If you're stuck, execute the cell below the error for a hint."
   ]
  },
  {
   "cell_type": "code",
   "execution_count": 3,
   "metadata": {},
   "outputs": [
    {
     "ename": "FileNotFoundError",
     "evalue": "[Errno 2] File ENTER THE LOCATION OF THE DATA HERE does not exist: 'ENTER THE LOCATION OF THE DATA HERE'",
     "output_type": "error",
     "traceback": [
      "\u001b[0;31m---------------------------------------------------------------------------\u001b[0m",
      "\u001b[0;31mFileNotFoundError\u001b[0m                         Traceback (most recent call last)",
      "\u001b[0;32m<ipython-input-3-63c3ec8401e2>\u001b[0m in \u001b[0;36m<module>\u001b[0;34m\u001b[0m\n\u001b[0;32m----> 1\u001b[0;31m \u001b[0mpd\u001b[0m\u001b[0;34m.\u001b[0m\u001b[0mread_csv\u001b[0m\u001b[0;34m(\u001b[0m\u001b[0;34m'ENTER THE LOCATION OF THE DATA HERE'\u001b[0m\u001b[0;34m)\u001b[0m\u001b[0;34m\u001b[0m\u001b[0;34m\u001b[0m\u001b[0m\n\u001b[0m",
      "\u001b[0;32m~/FDAO/exoexplorations-teaching/teach-venv/lib/python3.6/site-packages/pandas/io/parsers.py\u001b[0m in \u001b[0;36mparser_f\u001b[0;34m(filepath_or_buffer, sep, delimiter, header, names, index_col, usecols, squeeze, prefix, mangle_dupe_cols, dtype, engine, converters, true_values, false_values, skipinitialspace, skiprows, skipfooter, nrows, na_values, keep_default_na, na_filter, verbose, skip_blank_lines, parse_dates, infer_datetime_format, keep_date_col, date_parser, dayfirst, cache_dates, iterator, chunksize, compression, thousands, decimal, lineterminator, quotechar, quoting, doublequote, escapechar, comment, encoding, dialect, error_bad_lines, warn_bad_lines, delim_whitespace, low_memory, memory_map, float_precision)\u001b[0m\n\u001b[1;32m    674\u001b[0m         )\n\u001b[1;32m    675\u001b[0m \u001b[0;34m\u001b[0m\u001b[0m\n\u001b[0;32m--> 676\u001b[0;31m         \u001b[0;32mreturn\u001b[0m \u001b[0m_read\u001b[0m\u001b[0;34m(\u001b[0m\u001b[0mfilepath_or_buffer\u001b[0m\u001b[0;34m,\u001b[0m \u001b[0mkwds\u001b[0m\u001b[0;34m)\u001b[0m\u001b[0;34m\u001b[0m\u001b[0;34m\u001b[0m\u001b[0m\n\u001b[0m\u001b[1;32m    677\u001b[0m \u001b[0;34m\u001b[0m\u001b[0m\n\u001b[1;32m    678\u001b[0m     \u001b[0mparser_f\u001b[0m\u001b[0;34m.\u001b[0m\u001b[0m__name__\u001b[0m \u001b[0;34m=\u001b[0m \u001b[0mname\u001b[0m\u001b[0;34m\u001b[0m\u001b[0;34m\u001b[0m\u001b[0m\n",
      "\u001b[0;32m~/FDAO/exoexplorations-teaching/teach-venv/lib/python3.6/site-packages/pandas/io/parsers.py\u001b[0m in \u001b[0;36m_read\u001b[0;34m(filepath_or_buffer, kwds)\u001b[0m\n\u001b[1;32m    446\u001b[0m \u001b[0;34m\u001b[0m\u001b[0m\n\u001b[1;32m    447\u001b[0m     \u001b[0;31m# Create the parser.\u001b[0m\u001b[0;34m\u001b[0m\u001b[0;34m\u001b[0m\u001b[0;34m\u001b[0m\u001b[0m\n\u001b[0;32m--> 448\u001b[0;31m     \u001b[0mparser\u001b[0m \u001b[0;34m=\u001b[0m \u001b[0mTextFileReader\u001b[0m\u001b[0;34m(\u001b[0m\u001b[0mfp_or_buf\u001b[0m\u001b[0;34m,\u001b[0m \u001b[0;34m**\u001b[0m\u001b[0mkwds\u001b[0m\u001b[0;34m)\u001b[0m\u001b[0;34m\u001b[0m\u001b[0;34m\u001b[0m\u001b[0m\n\u001b[0m\u001b[1;32m    449\u001b[0m \u001b[0;34m\u001b[0m\u001b[0m\n\u001b[1;32m    450\u001b[0m     \u001b[0;32mif\u001b[0m \u001b[0mchunksize\u001b[0m \u001b[0;32mor\u001b[0m \u001b[0miterator\u001b[0m\u001b[0;34m:\u001b[0m\u001b[0;34m\u001b[0m\u001b[0;34m\u001b[0m\u001b[0m\n",
      "\u001b[0;32m~/FDAO/exoexplorations-teaching/teach-venv/lib/python3.6/site-packages/pandas/io/parsers.py\u001b[0m in \u001b[0;36m__init__\u001b[0;34m(self, f, engine, **kwds)\u001b[0m\n\u001b[1;32m    878\u001b[0m             \u001b[0mself\u001b[0m\u001b[0;34m.\u001b[0m\u001b[0moptions\u001b[0m\u001b[0;34m[\u001b[0m\u001b[0;34m\"has_index_names\"\u001b[0m\u001b[0;34m]\u001b[0m \u001b[0;34m=\u001b[0m \u001b[0mkwds\u001b[0m\u001b[0;34m[\u001b[0m\u001b[0;34m\"has_index_names\"\u001b[0m\u001b[0;34m]\u001b[0m\u001b[0;34m\u001b[0m\u001b[0;34m\u001b[0m\u001b[0m\n\u001b[1;32m    879\u001b[0m \u001b[0;34m\u001b[0m\u001b[0m\n\u001b[0;32m--> 880\u001b[0;31m         \u001b[0mself\u001b[0m\u001b[0;34m.\u001b[0m\u001b[0m_make_engine\u001b[0m\u001b[0;34m(\u001b[0m\u001b[0mself\u001b[0m\u001b[0;34m.\u001b[0m\u001b[0mengine\u001b[0m\u001b[0;34m)\u001b[0m\u001b[0;34m\u001b[0m\u001b[0;34m\u001b[0m\u001b[0m\n\u001b[0m\u001b[1;32m    881\u001b[0m \u001b[0;34m\u001b[0m\u001b[0m\n\u001b[1;32m    882\u001b[0m     \u001b[0;32mdef\u001b[0m \u001b[0mclose\u001b[0m\u001b[0;34m(\u001b[0m\u001b[0mself\u001b[0m\u001b[0;34m)\u001b[0m\u001b[0;34m:\u001b[0m\u001b[0;34m\u001b[0m\u001b[0;34m\u001b[0m\u001b[0m\n",
      "\u001b[0;32m~/FDAO/exoexplorations-teaching/teach-venv/lib/python3.6/site-packages/pandas/io/parsers.py\u001b[0m in \u001b[0;36m_make_engine\u001b[0;34m(self, engine)\u001b[0m\n\u001b[1;32m   1112\u001b[0m     \u001b[0;32mdef\u001b[0m \u001b[0m_make_engine\u001b[0m\u001b[0;34m(\u001b[0m\u001b[0mself\u001b[0m\u001b[0;34m,\u001b[0m \u001b[0mengine\u001b[0m\u001b[0;34m=\u001b[0m\u001b[0;34m\"c\"\u001b[0m\u001b[0;34m)\u001b[0m\u001b[0;34m:\u001b[0m\u001b[0;34m\u001b[0m\u001b[0;34m\u001b[0m\u001b[0m\n\u001b[1;32m   1113\u001b[0m         \u001b[0;32mif\u001b[0m \u001b[0mengine\u001b[0m \u001b[0;34m==\u001b[0m \u001b[0;34m\"c\"\u001b[0m\u001b[0;34m:\u001b[0m\u001b[0;34m\u001b[0m\u001b[0;34m\u001b[0m\u001b[0m\n\u001b[0;32m-> 1114\u001b[0;31m             \u001b[0mself\u001b[0m\u001b[0;34m.\u001b[0m\u001b[0m_engine\u001b[0m \u001b[0;34m=\u001b[0m \u001b[0mCParserWrapper\u001b[0m\u001b[0;34m(\u001b[0m\u001b[0mself\u001b[0m\u001b[0;34m.\u001b[0m\u001b[0mf\u001b[0m\u001b[0;34m,\u001b[0m \u001b[0;34m**\u001b[0m\u001b[0mself\u001b[0m\u001b[0;34m.\u001b[0m\u001b[0moptions\u001b[0m\u001b[0;34m)\u001b[0m\u001b[0;34m\u001b[0m\u001b[0;34m\u001b[0m\u001b[0m\n\u001b[0m\u001b[1;32m   1115\u001b[0m         \u001b[0;32melse\u001b[0m\u001b[0;34m:\u001b[0m\u001b[0;34m\u001b[0m\u001b[0;34m\u001b[0m\u001b[0m\n\u001b[1;32m   1116\u001b[0m             \u001b[0;32mif\u001b[0m \u001b[0mengine\u001b[0m \u001b[0;34m==\u001b[0m \u001b[0;34m\"python\"\u001b[0m\u001b[0;34m:\u001b[0m\u001b[0;34m\u001b[0m\u001b[0;34m\u001b[0m\u001b[0m\n",
      "\u001b[0;32m~/FDAO/exoexplorations-teaching/teach-venv/lib/python3.6/site-packages/pandas/io/parsers.py\u001b[0m in \u001b[0;36m__init__\u001b[0;34m(self, src, **kwds)\u001b[0m\n\u001b[1;32m   1889\u001b[0m         \u001b[0mkwds\u001b[0m\u001b[0;34m[\u001b[0m\u001b[0;34m\"usecols\"\u001b[0m\u001b[0;34m]\u001b[0m \u001b[0;34m=\u001b[0m \u001b[0mself\u001b[0m\u001b[0;34m.\u001b[0m\u001b[0musecols\u001b[0m\u001b[0;34m\u001b[0m\u001b[0;34m\u001b[0m\u001b[0m\n\u001b[1;32m   1890\u001b[0m \u001b[0;34m\u001b[0m\u001b[0m\n\u001b[0;32m-> 1891\u001b[0;31m         \u001b[0mself\u001b[0m\u001b[0;34m.\u001b[0m\u001b[0m_reader\u001b[0m \u001b[0;34m=\u001b[0m \u001b[0mparsers\u001b[0m\u001b[0;34m.\u001b[0m\u001b[0mTextReader\u001b[0m\u001b[0;34m(\u001b[0m\u001b[0msrc\u001b[0m\u001b[0;34m,\u001b[0m \u001b[0;34m**\u001b[0m\u001b[0mkwds\u001b[0m\u001b[0;34m)\u001b[0m\u001b[0;34m\u001b[0m\u001b[0;34m\u001b[0m\u001b[0m\n\u001b[0m\u001b[1;32m   1892\u001b[0m         \u001b[0mself\u001b[0m\u001b[0;34m.\u001b[0m\u001b[0munnamed_cols\u001b[0m \u001b[0;34m=\u001b[0m \u001b[0mself\u001b[0m\u001b[0;34m.\u001b[0m\u001b[0m_reader\u001b[0m\u001b[0;34m.\u001b[0m\u001b[0munnamed_cols\u001b[0m\u001b[0;34m\u001b[0m\u001b[0;34m\u001b[0m\u001b[0m\n\u001b[1;32m   1893\u001b[0m \u001b[0;34m\u001b[0m\u001b[0m\n",
      "\u001b[0;32mpandas/_libs/parsers.pyx\u001b[0m in \u001b[0;36mpandas._libs.parsers.TextReader.__cinit__\u001b[0;34m()\u001b[0m\n",
      "\u001b[0;32mpandas/_libs/parsers.pyx\u001b[0m in \u001b[0;36mpandas._libs.parsers.TextReader._setup_parser_source\u001b[0;34m()\u001b[0m\n",
      "\u001b[0;31mFileNotFoundError\u001b[0m: [Errno 2] File ENTER THE LOCATION OF THE DATA HERE does not exist: 'ENTER THE LOCATION OF THE DATA HERE'"
     ]
    }
   ],
   "source": [
    "pd.read_csv('ENTER THE LOCATION OF THE DATA HERE')"
   ]
  },
  {
   "cell_type": "code",
   "execution_count": 4,
   "metadata": {},
   "outputs": [
    {
     "data": {
      "text/plain": [
       "\"pd.read_csv('sets.csv')\""
      ]
     },
     "execution_count": 4,
     "metadata": {},
     "output_type": "execute_result"
    }
   ],
   "source": [
    "from exoexplorations import *\n",
    "execute_for_a_hint()"
   ]
  },
  {
   "cell_type": "markdown",
   "metadata": {},
   "source": [
    "Once you have correctly used the `read_csv` function, let's store it somewhere, in a variable `df`. `df` stands for `data frame`. We could assign what `read_csv` gives us to any variable name, but we will use `df` since it is easy to remember. We can assign a variable by using the `=` symbol."
   ]
  },
  {
   "cell_type": "code",
   "execution_count": 5,
   "metadata": {},
   "outputs": [],
   "source": [
    "# In case you're stuck, here is the correct way of loading the dataframe\n",
    "df = pd.read_csv('sets.csv')"
   ]
  },
  {
   "cell_type": "markdown",
   "metadata": {},
   "source": [
    "Now that we've loaded the data into a `data frame`, how to we view what is inside of it? In Jupyter it's very simple. Just put the variable name in a cell and execute it! You may notice this is the same table that we saw earlier, but this time we've stored it in a variable called `df`. See the next cell."
   ]
  },
  {
   "cell_type": "code",
   "execution_count": 6,
   "metadata": {},
   "outputs": [
    {
     "data": {
      "text/html": [
       "<div>\n",
       "<style scoped>\n",
       "    .dataframe tbody tr th:only-of-type {\n",
       "        vertical-align: middle;\n",
       "    }\n",
       "\n",
       "    .dataframe tbody tr th {\n",
       "        vertical-align: top;\n",
       "    }\n",
       "\n",
       "    .dataframe thead th {\n",
       "        text-align: right;\n",
       "    }\n",
       "</style>\n",
       "<table border=\"1\" class=\"dataframe\">\n",
       "  <thead>\n",
       "    <tr style=\"text-align: right;\">\n",
       "      <th></th>\n",
       "      <th>set_num</th>\n",
       "      <th>name</th>\n",
       "      <th>year</th>\n",
       "      <th>theme_id</th>\n",
       "      <th>num_parts</th>\n",
       "    </tr>\n",
       "  </thead>\n",
       "  <tbody>\n",
       "    <tr>\n",
       "      <th>0</th>\n",
       "      <td>00-1</td>\n",
       "      <td>Weetabix Castle</td>\n",
       "      <td>1970</td>\n",
       "      <td>414</td>\n",
       "      <td>471</td>\n",
       "    </tr>\n",
       "    <tr>\n",
       "      <th>1</th>\n",
       "      <td>0011-2</td>\n",
       "      <td>Town Mini-Figures</td>\n",
       "      <td>1978</td>\n",
       "      <td>84</td>\n",
       "      <td>12</td>\n",
       "    </tr>\n",
       "    <tr>\n",
       "      <th>2</th>\n",
       "      <td>0011-3</td>\n",
       "      <td>Castle 2 for 1 Bonus Offer</td>\n",
       "      <td>1987</td>\n",
       "      <td>199</td>\n",
       "      <td>2</td>\n",
       "    </tr>\n",
       "    <tr>\n",
       "      <th>3</th>\n",
       "      <td>0012-1</td>\n",
       "      <td>Space Mini-Figures</td>\n",
       "      <td>1979</td>\n",
       "      <td>143</td>\n",
       "      <td>12</td>\n",
       "    </tr>\n",
       "    <tr>\n",
       "      <th>4</th>\n",
       "      <td>0013-1</td>\n",
       "      <td>Space Mini-Figures</td>\n",
       "      <td>1979</td>\n",
       "      <td>143</td>\n",
       "      <td>12</td>\n",
       "    </tr>\n",
       "    <tr>\n",
       "      <th>...</th>\n",
       "      <td>...</td>\n",
       "      <td>...</td>\n",
       "      <td>...</td>\n",
       "      <td>...</td>\n",
       "      <td>...</td>\n",
       "    </tr>\n",
       "    <tr>\n",
       "      <th>11668</th>\n",
       "      <td>Wauwatosa-1</td>\n",
       "      <td>LEGO Store Grand Opening Exclusive Set, Mayfai...</td>\n",
       "      <td>2012</td>\n",
       "      <td>408</td>\n",
       "      <td>15</td>\n",
       "    </tr>\n",
       "    <tr>\n",
       "      <th>11669</th>\n",
       "      <td>WHITEHOUSE-1</td>\n",
       "      <td>Micro White House</td>\n",
       "      <td>2015</td>\n",
       "      <td>598</td>\n",
       "      <td>59</td>\n",
       "    </tr>\n",
       "    <tr>\n",
       "      <th>11670</th>\n",
       "      <td>Wiesbaden-1</td>\n",
       "      <td>LEGO Store Grand Opening Exclusive Set, Wiesba...</td>\n",
       "      <td>2010</td>\n",
       "      <td>408</td>\n",
       "      <td>146</td>\n",
       "    </tr>\n",
       "    <tr>\n",
       "      <th>11671</th>\n",
       "      <td>WishingWell-1</td>\n",
       "      <td>Wishing Well [Toys R Us Promo]</td>\n",
       "      <td>2013</td>\n",
       "      <td>494</td>\n",
       "      <td>28</td>\n",
       "    </tr>\n",
       "    <tr>\n",
       "      <th>11672</th>\n",
       "      <td>wwgp1-1</td>\n",
       "      <td>Wild West Limited Edition Gift Pack</td>\n",
       "      <td>1996</td>\n",
       "      <td>476</td>\n",
       "      <td>3</td>\n",
       "    </tr>\n",
       "  </tbody>\n",
       "</table>\n",
       "<p>11673 rows × 5 columns</p>\n",
       "</div>"
      ],
      "text/plain": [
       "             set_num                                               name  year  \\\n",
       "0               00-1                                    Weetabix Castle  1970   \n",
       "1             0011-2                                  Town Mini-Figures  1978   \n",
       "2             0011-3                         Castle 2 for 1 Bonus Offer  1987   \n",
       "3             0012-1                                 Space Mini-Figures  1979   \n",
       "4             0013-1                                 Space Mini-Figures  1979   \n",
       "...              ...                                                ...   ...   \n",
       "11668    Wauwatosa-1  LEGO Store Grand Opening Exclusive Set, Mayfai...  2012   \n",
       "11669   WHITEHOUSE-1                                  Micro White House  2015   \n",
       "11670    Wiesbaden-1  LEGO Store Grand Opening Exclusive Set, Wiesba...  2010   \n",
       "11671  WishingWell-1                     Wishing Well [Toys R Us Promo]  2013   \n",
       "11672        wwgp1-1                Wild West Limited Edition Gift Pack  1996   \n",
       "\n",
       "       theme_id  num_parts  \n",
       "0           414        471  \n",
       "1            84         12  \n",
       "2           199          2  \n",
       "3           143         12  \n",
       "4           143         12  \n",
       "...         ...        ...  \n",
       "11668       408         15  \n",
       "11669       598         59  \n",
       "11670       408        146  \n",
       "11671       494         28  \n",
       "11672       476          3  \n",
       "\n",
       "[11673 rows x 5 columns]"
      ]
     },
     "execution_count": 6,
     "metadata": {},
     "output_type": "execute_result"
    }
   ],
   "source": [
    "df"
   ]
  },
  {
   "cell_type": "markdown",
   "metadata": {},
   "source": [
    "Below the cell with just `df` in it, you should see a printed table of a bunch of data. Each row represents a measurement of something, and each column represents something that is measureable! We can look at how these different things compare to each other. You may hear words like \"trends\", \"mean\", or \"percentiles\". These are all just measurements of what story data tells us. A trend is something you can examine changing as something else changes with it. For example, in general, the older you get, the taller you get! That upwards \"trend\" is what we can quantify with a trend-line. \n",
    "\n",
    "You may also be familiar with \"mean\" or \"average\" (these mean the same thing). The mean/average refers to the most likely measurement to stumble upon given a set (or group) of measurements. This one of the easiest way of thinking about it.  \n",
    "\n",
    "Let's use this idea to find out some preliminary information about our LEGO dataset. \n",
    "\n",
    "Some interesting things we could figure out from this data set are, in what year was the first LEGO set created? Let's ask the dataframe, `df`."
   ]
  },
  {
   "cell_type": "code",
   "execution_count": 7,
   "metadata": {},
   "outputs": [
    {
     "data": {
      "text/plain": [
       "0        1970\n",
       "1        1978\n",
       "2        1987\n",
       "3        1979\n",
       "4        1979\n",
       "         ... \n",
       "11668    2012\n",
       "11669    2015\n",
       "11670    2010\n",
       "11671    2013\n",
       "11672    1996\n",
       "Name: year, Length: 11673, dtype: int64"
      ]
     },
     "execution_count": 7,
     "metadata": {},
     "output_type": "execute_result"
    }
   ],
   "source": [
    "# this isolates the year data column only from the table\n",
    "df.year"
   ]
  },
  {
   "cell_type": "code",
   "execution_count": 8,
   "metadata": {},
   "outputs": [
    {
     "data": {
      "text/plain": [
       "1950"
      ]
     },
     "execution_count": 8,
     "metadata": {},
     "output_type": "execute_result"
    }
   ],
   "source": [
    "# this selects the minimum year from that column of data\n",
    "df.year.min()"
   ]
  },
  {
   "cell_type": "markdown",
   "metadata": {},
   "source": [
    "Wow! The first LEGO set in this database was from 1950. If you do a quick google search, you may see that the first lego dataset actually made was in Denmark in 1932. Why then does the data frame tell us its from 1950? Think about where this data comes from, and also keep in mind that data is not the same as a fact, and that data supports facts but are only part of the story. In this case, I don't think the LEGO company even tracked its data before 1950, so this is why we see the first record of LEGO which does not mean its the first set of LEGO ever made.\n",
    "\n",
    "In the next blank cell, print out the most recent year that LEGO was created. This one might also be confusing!"
   ]
  },
  {
   "cell_type": "code",
   "execution_count": null,
   "metadata": {},
   "outputs": [],
   "source": []
  },
  {
   "cell_type": "markdown",
   "metadata": {},
   "source": [
    "Based on our explination about the earliest LEGO data, think about why this might not be the answer you expect!\n",
    "\n",
    "![lego-detective](lego-detective.jpg)\n",
    "\n",
    "Hint: replace `min()` above with `max()` and execute the cell.\n",
    "\n",
    "Let's continue, and look at something else in the `dataframe`, `df`. What other columns might be interesting? How about the column `num_parts`. What do you think that means?\n",
    "\n",
    "...\n",
    "\n",
    "Easy! It's the number of parts (or individual pieces of LEGO) per each new lego set introduced that year! We can access the number of parts, or `num_parts` in the same way we accessed the `year` above. To get it as a column, just use `df.num_parts`."
   ]
  },
  {
   "cell_type": "code",
   "execution_count": 9,
   "metadata": {},
   "outputs": [
    {
     "data": {
      "text/plain": [
       "0        471\n",
       "1         12\n",
       "2          2\n",
       "3         12\n",
       "4         12\n",
       "        ... \n",
       "11668     15\n",
       "11669     59\n",
       "11670    146\n",
       "11671     28\n",
       "11672      3\n",
       "Name: num_parts, Length: 11673, dtype: int64"
      ]
     },
     "execution_count": 9,
     "metadata": {},
     "output_type": "execute_result"
    }
   ],
   "source": [
    "df.num_parts"
   ]
  },
  {
   "cell_type": "markdown",
   "metadata": {},
   "source": [
    "Use what we've learned so far to find the maximum number of parts in a lego set ever made according to this data frame. Hint: use what we know `max()` and `.min()` do, but use it on the `num_parts` column."
   ]
  },
  {
   "cell_type": "code",
   "execution_count": null,
   "metadata": {},
   "outputs": [],
   "source": []
  },
  {
   "cell_type": "markdown",
   "metadata": {},
   "source": [
    "If you've done that correctly, you should have seen the maximum number of LEGO pieces, and it is A LOT.\n",
    "\n",
    "Let's do something slightly more advanced and ask the question: \"If we choose any LEGO set, what's the most likely number of pieces we would find in it?\" We can answer this using basic statistics, and it's very easy."
   ]
  },
  {
   "cell_type": "code",
   "execution_count": 12,
   "metadata": {},
   "outputs": [
    {
     "data": {
      "text/plain": [
       "162.26240041120533"
      ]
     },
     "execution_count": 12,
     "metadata": {},
     "output_type": "execute_result"
    }
   ],
   "source": [
    "df.num_parts.mean()"
   ]
  },
  {
   "cell_type": "markdown",
   "metadata": {},
   "source": [
    "We can interpret that number as the average number of LEGO pieces in a set of LEGO. So if someone was offering you money to guess the number of LEGO pieces in a random LEGO set, guess this number! You're most likely to be close to the actual number. "
   ]
  },
  {
   "cell_type": "markdown",
   "metadata": {},
   "source": [
    "# Plotting\n",
    "\n",
    "In this next section I'm going to do something tricky, and process the data slightly to help us visualize it better. Instead of looking at each year as having many different sets of LEGO in it, I'm going to calculate the average number of LEGO pieces in a given year. If that is confusing to you, don't worry. Just execute the upcoming code and it will make more sense later on."
   ]
  },
  {
   "cell_type": "code",
   "execution_count": 18,
   "metadata": {},
   "outputs": [],
   "source": [
    "df_grouped = df.groupby('year', as_index=False).agg({'num_parts': 'mean'}).rename(columns={\"num_parts\": \"num_parts_mean\"})"
   ]
  },
  {
   "cell_type": "markdown",
   "metadata": {},
   "source": [
    "`df_grouped` is now a data frame that is new, but was created from our original dataframe `df`. It's still ok if that doesn't make sense. What I want you to pay attention to is what is contained within df_grouped. What's different about it? What's similar?"
   ]
  },
  {
   "cell_type": "code",
   "execution_count": 20,
   "metadata": {},
   "outputs": [
    {
     "data": {
      "text/html": [
       "<div>\n",
       "<style scoped>\n",
       "    .dataframe tbody tr th:only-of-type {\n",
       "        vertical-align: middle;\n",
       "    }\n",
       "\n",
       "    .dataframe tbody tr th {\n",
       "        vertical-align: top;\n",
       "    }\n",
       "\n",
       "    .dataframe thead th {\n",
       "        text-align: right;\n",
       "    }\n",
       "</style>\n",
       "<table border=\"1\" class=\"dataframe\">\n",
       "  <thead>\n",
       "    <tr style=\"text-align: right;\">\n",
       "      <th></th>\n",
       "      <th>year</th>\n",
       "      <th>num_parts_mean</th>\n",
       "    </tr>\n",
       "  </thead>\n",
       "  <tbody>\n",
       "    <tr>\n",
       "      <th>0</th>\n",
       "      <td>1950</td>\n",
       "      <td>10.142857</td>\n",
       "    </tr>\n",
       "    <tr>\n",
       "      <th>1</th>\n",
       "      <td>1953</td>\n",
       "      <td>16.500000</td>\n",
       "    </tr>\n",
       "    <tr>\n",
       "      <th>2</th>\n",
       "      <td>1954</td>\n",
       "      <td>12.357143</td>\n",
       "    </tr>\n",
       "    <tr>\n",
       "      <th>3</th>\n",
       "      <td>1955</td>\n",
       "      <td>36.857143</td>\n",
       "    </tr>\n",
       "    <tr>\n",
       "      <th>4</th>\n",
       "      <td>1956</td>\n",
       "      <td>18.500000</td>\n",
       "    </tr>\n",
       "    <tr>\n",
       "      <th>...</th>\n",
       "      <td>...</td>\n",
       "      <td>...</td>\n",
       "    </tr>\n",
       "    <tr>\n",
       "      <th>61</th>\n",
       "      <td>2013</td>\n",
       "      <td>181.344013</td>\n",
       "    </tr>\n",
       "    <tr>\n",
       "      <th>62</th>\n",
       "      <td>2014</td>\n",
       "      <td>169.715288</td>\n",
       "    </tr>\n",
       "    <tr>\n",
       "      <th>63</th>\n",
       "      <td>2015</td>\n",
       "      <td>201.669173</td>\n",
       "    </tr>\n",
       "    <tr>\n",
       "      <th>64</th>\n",
       "      <td>2016</td>\n",
       "      <td>253.077181</td>\n",
       "    </tr>\n",
       "    <tr>\n",
       "      <th>65</th>\n",
       "      <td>2017</td>\n",
       "      <td>260.820946</td>\n",
       "    </tr>\n",
       "  </tbody>\n",
       "</table>\n",
       "<p>66 rows × 2 columns</p>\n",
       "</div>"
      ],
      "text/plain": [
       "    year  num_parts_mean\n",
       "0   1950       10.142857\n",
       "1   1953       16.500000\n",
       "2   1954       12.357143\n",
       "3   1955       36.857143\n",
       "4   1956       18.500000\n",
       "..   ...             ...\n",
       "61  2013      181.344013\n",
       "62  2014      169.715288\n",
       "63  2015      201.669173\n",
       "64  2016      253.077181\n",
       "65  2017      260.820946\n",
       "\n",
       "[66 rows x 2 columns]"
      ]
     },
     "execution_count": 20,
     "metadata": {},
     "output_type": "execute_result"
    }
   ],
   "source": [
    "df_grouped"
   ]
  },
  {
   "cell_type": "markdown",
   "metadata": {},
   "source": [
    "I've done something called `aggregating`. It basically means I took the data and manipulated it to give me something more useful. All I did was calculate the average number of lego pieces in a set made in a given year, and group that number into a new column named `num_parts_mean`.\n",
    "\n",
    "What I want to imagine next is, **are LEGO sets getting bigger with time?**\n",
    "\n",
    "To do this, we must produce a graph, figure, plot, chart or whatever you want to call it. I will call it a plot because it sounds cooler than graph in my opinion.\n",
    "\n",
    "The best tips for understanding graphs (even fancy ones) is the following method:\n",
    "\n",
    "1.) Look at the title of the graph. Every good graph has a title. For example, \"Amount of Lego Produced Through Time\"\n",
    "\n",
    "2.) Look at the title on the horizontal and vertical edges of the graph. They should have a description, and/or a unit of measurement (for example, years, hours, minutes, seconds!). The information found on these edges are called \"axis\" and they are the most important part of the graph. \n",
    "\n",
    "3.) The content of the graph. I know this is vague, but bare with me. The contents can be anything - bars, lines, little dots, x's, circles, the letter \"T\", or literally anything that can be represented as an image. Scientists tend to be boring, and stick to circles and lines - but we will change that in this lesson!\n",
    "\n",
    "4.) With all of that above information, we can examine what story a graph is telling us by looking at how the lines, little dots, x's ... etc. are distributed throughout the graph.\n",
    "\n",
    "We will also need the help of another package in python, and is perhaps one of the most widely used packages ever created for python. It's called `matplotlib`. Say it three times fast!\n",
    "\n",
    "We will import it in a very similar way that we imported `pandas` way back at the beginning."
   ]
  },
  {
   "cell_type": "code",
   "execution_count": 25,
   "metadata": {},
   "outputs": [],
   "source": [
    "# load the matplotlib package and put it in a variable called \"plt\"\n",
    "import matplotlib.pyplot as plt"
   ]
  },
  {
   "cell_type": "markdown",
   "metadata": {},
   "source": [
    "Next, lets use `matplotlib` to help us answer the question: **are LEGO sets getting bigger with time?**\n",
    "\n",
    "First lets tell it how big we want the plot to be.\n",
    "\n",
    "We should also give our plot a title and description, then we should make sure we tell `Jupyter` to display the plot for us!\n",
    "\n",
    "The final step is to specify what kind of plot we want to make. In this case, let's use little dots. Each dot will represent a `year` and the `average` number of lego sets in that year (what I did magically above). On the `x-axis` we will have time in years, they will increase as you move from left to right. On the `y-axis` we will have the number of LEGO pieces, these will increase from bottom to top. To tell `Python` how we want to plot this information, we have to use a function called `scatter`. `scatter` is a function just like `read_csv` was, and it takes `arguments` or `information` in order to work properly. `scatter` takes the data we want to show on the `x-axis` first, then separated by a comma, the data we want to show on the `y-axis`. \n",
    "\n",
    "The data on the `x-axis` can be accessed by isolating a column from `df_grouped`. Just like we did before, we can simply ask for the year. "
   ]
  },
  {
   "cell_type": "code",
   "execution_count": 28,
   "metadata": {},
   "outputs": [
    {
     "data": {
      "text/plain": [
       "0     1950\n",
       "1     1953\n",
       "2     1954\n",
       "3     1955\n",
       "4     1956\n",
       "      ... \n",
       "61    2013\n",
       "62    2014\n",
       "63    2015\n",
       "64    2016\n",
       "65    2017\n",
       "Name: year, Length: 66, dtype: int64"
      ]
     },
     "execution_count": 28,
     "metadata": {},
     "output_type": "execute_result"
    }
   ],
   "source": [
    "df_grouped.year"
   ]
  },
  {
   "cell_type": "markdown",
   "metadata": {},
   "source": [
    "We can get the data on the `y-axis` by asking it for the column of data we want there, in this case we want the `num_parts_mean` column."
   ]
  },
  {
   "cell_type": "code",
   "execution_count": 29,
   "metadata": {},
   "outputs": [
    {
     "data": {
      "text/plain": [
       "0      10.142857\n",
       "1      16.500000\n",
       "2      12.357143\n",
       "3      36.857143\n",
       "4      18.500000\n",
       "         ...    \n",
       "61    181.344013\n",
       "62    169.715288\n",
       "63    201.669173\n",
       "64    253.077181\n",
       "65    260.820946\n",
       "Name: num_parts_mean, Length: 66, dtype: float64"
      ]
     },
     "execution_count": 29,
     "metadata": {},
     "output_type": "execute_result"
    }
   ],
   "source": [
    "df_grouped.num_parts_mean"
   ]
  },
  {
   "cell_type": "markdown",
   "metadata": {},
   "source": [
    "Now let's use those in `scatter` to create a scatter plot!"
   ]
  },
  {
   "cell_type": "code",
   "execution_count": 36,
   "metadata": {},
   "outputs": [
    {
     "data": {
      "text/plain": [
       "[]"
      ]
     },
     "execution_count": 36,
     "metadata": {},
     "output_type": "execute_result"
    },
    {
     "data": {
      "image/png": "[encoded data removed]",
      "text/plain": [
       "<Figure size 864x864 with 1 Axes>"
      ]
     },
     "metadata": {
      "needs_background": "light"
     },
     "output_type": "display_data"
    }
   ],
   "source": [
    "# plot size\n",
    "fig = plt.figure(figsize=(12, 12))\n",
    "# name the plot\n",
    "plt.title('Are LEGO sets getting bigger with time?')\n",
    "# label the x-axis\n",
    "plt.xlabel('Time [Year]')\n",
    "# label the y-axis\n",
    "plt.ylabel('Number of LEGO Pieces [Average Number of Pieces per Set]')\n",
    "# call the scatter function!\n",
    "plt.scatter(df_grouped.year, df_grouped.num_parts_mean, s=100)\n",
    "# show the plot\n",
    "plt.plot()"
   ]
  },
  {
   "cell_type": "markdown",
   "metadata": {},
   "source": [
    "That looks messy, but what can we learn from it? Choose a year a long time ago, and follow it up vertically to the closest data point, or blue circle, then follow that position horizontally to the y-axis to estimate how many pieces of LEGO that year had on average. \n",
    "\n",
    "Do this for the year `1960` and for the year `2010`. What do you notice? This data is trending upwards (not perfectly, but evidently) and will assist us in making a conclusion about the question we asked earlier. In general, are LEGO sets getting larger? Yes! They are!\n",
    "\n",
    "Before, without the use of a plot we could not say yes unless we looked painstakingly at each lego set and kept track of that. However, this data set has thousands of entries in it! That would take years! Here, using the power of coding, we were able to do it almost instantly using a computer. This is why programming has revolutionaized the way some science is done, particularly astronomy. "
   ]
  },
  {
   "cell_type": "code",
   "execution_count": null,
   "metadata": {},
   "outputs": [],
   "source": []
  }
 ],
 "metadata": {
  "kernelspec": {
   "display_name": "Python 3",
   "language": "python",
   "name": "python3"
  },
  "language_info": {
   "codemirror_mode": {
    "name": "ipython",
    "version": 3
   },
   "file_extension": ".py",
   "mimetype": "text/x-python",
   "name": "python",
   "nbconvert_exporter": "python",
   "pygments_lexer": "ipython3",
   "version": "3.6.9"
  }
 },
 "nbformat": 4,
 "nbformat_minor": 4
}
