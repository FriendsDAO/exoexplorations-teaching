{
 "cells": [
  {
   "cell_type": "code",
   "execution_count": 1,
   "metadata": {},
   "outputs": [
    {
     "data": {
      "image/jpeg": "[encoded data removed]",
      "text/html": [
       "\n",
       "        <iframe\n",
       "            width=\"800\"\n",
       "            height=\"300\"\n",
       "            src=\"https://www.youtube.com/embed/8v4SRfmoTuU\"\n",
       "            frameborder=\"0\"\n",
       "            allowfullscreen\n",
       "        ></iframe>\n",
       "        "
      ],
      "text/plain": [
       "<IPython.lib.display.YouTubeVideo at 0x7fe7dd355e48>"
      ]
     },
     "execution_count": 1,
     "metadata": {},
     "output_type": "execute_result"
    }
   ],
   "source": [
    "from exoexplorations import *\n",
    "show_transit_video()"
   ]
  },
  {
   "cell_type": "code",
   "execution_count": 10,
   "metadata": {},
   "outputs": [],
   "source": [
    "# adjust the planet and the star's radius\n",
    "# make star less than 0.5 the smallest imsize \n",
    "planet_radius, star_radius = 80, 100\n",
    "inclination = 30"
   ]
  },
  {
   "cell_type": "code",
   "execution_count": 11,
   "metadata": {},
   "outputs": [
    {
     "data": {
      "text/html": [
       "        <script type=\"text/javascript\">\n",
       "        window.PlotlyConfig = {MathJaxConfig: 'local'};\n",
       "        if (window.MathJax) {MathJax.Hub.Config({SVG: {font: \"STIX-Web\"}});}\n",
       "        if (typeof require !== 'undefined') {\n",
       "        require.undef(\"plotly\");\n",
       "        requirejs.config({\n",
       "            paths: {\n",
       "                'plotly': ['https://cdn.plot.ly/plotly-latest.min']\n",
       "            }\n",
       "        });\n",
       "        require(['plotly'], function(Plotly) {\n",
       "            window._Plotly = Plotly;\n",
       "        });\n",
       "        }\n",
       "        </script>\n",
       "        "
      ]
     },
     "metadata": {},
     "output_type": "display_data"
    },
    {
     "data": {
      "application/vnd.plotly.v1+json": {
       "config": {
        "plotlyServerURL": "https://plot.ly"
       },
       "data": [
        {
         "line": {
          "color": "blue",
          "width": 2
         },
         "marker": {
          "color": "red",
          "size": 10
         },
         "mode": "markers",
         "name": "Imaginary Planet",
         "type": "scatter",
         "x": [
          115
         ],
         "y": [
          0.6886399083298851
         ]
        },
        {
         "line": {
          "color": "blue",
          "width": 2
         },
         "mode": "lines",
         "name": "Light from a Star",
         "type": "scatter",
         "x": [
          0,
          1,
          2,
          3,
          4,
          5,
          6,
          7,
          8,
          9,
          10,
          11,
          12,
          13,
          14,
          15,
          16,
          17,
          18,
          19,
          20,
          21,
          22,
          23,
          24,
          25,
          26,
          27,
          28,
          29,
          30,
          31,
          32,
          33,
          34,
          35,
          36,
          37,
          38,
          39,
          40,
          41,
          42,
          43,
          44,
          45,
          46,
          47,
          48,
          49,
          50,
          51,
          52,
          53,
          54,
          55,
          56,
          57,
          58,
          59,
          60,
          61,
          62,
          63,
          64,
          65,
          66,
          67,
          68,
          69,
          70,
          71,
          72,
          73,
          74,
          75,
          76,
          77,
          78,
          79,
          80,
          81,
          82,
          83,
          84,
          85,
          86,
          87,
          88,
          89,
          90,
          91,
          92,
          93,
          94,
          95,
          96,
          97,
          98,
          99,
          100,
          101,
          102,
          103,
          104,
          105,
          106,
          107,
          108,
          109,
          110,
          111,
          112,
          113,
          114,
          115,
          116,
          117,
          118,
          119,
          120,
          121,
          122,
          123,
          124,
          125,
          126,
          127,
          128,
          129,
          130,
          131,
          132,
          133,
          134,
          135,
          136,
          137,
          138,
          139,
          140,
          141,
          142,
          143,
          144,
          145,
          146,
          147,
          148,
          149,
          150,
          151,
          152,
          153,
          154,
          155,
          156,
          157,
          158,
          159,
          160,
          161,
          162,
          163,
          164,
          165,
          166,
          167,
          168,
          169,
          170,
          171,
          172,
          173,
          174,
          175,
          176,
          177,
          178,
          179,
          180,
          181,
          182,
          183,
          184,
          185,
          186,
          187,
          188,
          189,
          190,
          191,
          192,
          193,
          194,
          195,
          196,
          197,
          198,
          199,
          200,
          201,
          202,
          203,
          204,
          205,
          206,
          207,
          208,
          209,
          210,
          211,
          212,
          213,
          214,
          215,
          216,
          217,
          218,
          219,
          220,
          221,
          222,
          223,
          224,
          225,
          226,
          227,
          228,
          229,
          230,
          231,
          232,
          233,
          234,
          235,
          236,
          237,
          238,
          239,
          240,
          241,
          242,
          243,
          244,
          245,
          246,
          247,
          248,
          249,
          250,
          251,
          252,
          253,
          254,
          255,
          256,
          257,
          258,
          259,
          260,
          261,
          262,
          263,
          264,
          265,
          266,
          267,
          268,
          269,
          270,
          271,
          272,
          273,
          274,
          275,
          276,
          277,
          278,
          279,
          280,
          281,
          282,
          283,
          284,
          285,
          286,
          287,
          288,
          289,
          290,
          291,
          292,
          293,
          294,
          295,
          296,
          297,
          298,
          299,
          300,
          301,
          302,
          303,
          304,
          305,
          306,
          307,
          308,
          309,
          310,
          311,
          312,
          313,
          314,
          315,
          316,
          317,
          318,
          319,
          320,
          321,
          322,
          323,
          324,
          325,
          326,
          327,
          328,
          329,
          330,
          331,
          332,
          333,
          334,
          335,
          336,
          337,
          338,
          339,
          340,
          341,
          342,
          343,
          344,
          345,
          346,
          347,
          348,
          349,
          350,
          351,
          352,
          353,
          354,
          355,
          356,
          357,
          358,
          359,
          360,
          361,
          362,
          363,
          364,
          365,
          366,
          367,
          368,
          369,
          370,
          371,
          372,
          373,
          374,
          375,
          376,
          377,
          378,
          379,
          380,
          381,
          382,
          383,
          384,
          385,
          386,
          387,
          388,
          389,
          390,
          391,
          392,
          393,
          394,
          395,
          396,
          397,
          398,
          399
         ],
         "y": [
          1,
          1,
          1,
          1,
          1,
          1,
          1,
          1,
          1,
          1,
          1,
          1,
          1,
          1,
          1,
          1,
          1,
          1,
          1,
          1,
          1,
          1,
          1,
          0.999872680395964,
          0.9993634019798199,
          0.9985994843556036,
          0.9976445873253335,
          0.9965305407900181,
          0.9952891746506668,
          0.9938886590062704,
          0.9923608237578381,
          0.9907374988063787,
          0.9890186841518923,
          0.9871725498933698,
          0.9852309259318204,
          0.9832574720692618,
          0.9811885285036763,
          0.9790240952350638,
          0.9767960021644333,
          0.9745042492917847,
          0.9721488366171182,
          0.9697615940414426,
          0.967310691663749,
          0.9647642995830283,
          0.9621542477002897,
          0.959512365916542,
          0.9567749944297673,
          0.9540057930419836,
          0.951172931852182,
          0.9482764108603622,
          0.9453798898685425,
          0.9424197090747047,
          0.9394276983798581,
          0.9364038577840023,
          0.9332845274851195,
          0.9301651971862368,
          0.926982207085336,
          0.9237355571824172,
          0.9204570773784894,
          0.9171467676735525,
          0.9138046280676068,
          0.9104306585606519,
          0.906993029251679,
          0.9035235700416971,
          0.9000541108317153,
          0.8965209918197155,
          0.8929560429067066,
          0.8893592640926886,
          0.8856988254766528,
          0.8820383868606169,
          0.8783779482445809,
          0.874653849826527,
          0.8709297514084732,
          0.8671419931884012,
          0.8633224050673203,
          0.8595028169462393,
          0.8556195690231403,
          0.8517363211000414,
          0.8477894133749244,
          0.8438425056498075,
          0.8398955979246905,
          0.8358850303975555,
          0.8318744628704204,
          0.8278320654422765,
          0.8237578381131234,
          0.8196836107839705,
          0.8155775535538085,
          0.8114396664226374,
          0.8072699493904574,
          0.8031002323582773,
          0.7988986854250884,
          0.7946653085908902,
          0.7904001018556832,
          0.7861348951204762,
          0.7818696883852692,
          0.7775726517490531,
          0.773243785211828,
          0.7689149186746029,
          0.7645542222363688,
          0.7601935257981348,
          0.7558328293599007,
          0.7514084731196486,
          0.7469841168793965,
          0.7425597606391444,
          0.7381354043988924,
          0.7336792182576313,
          0.7292230321163701,
          0.724766845975109,
          0.7202788299328389,
          0.7157908138905688,
          0.7113027978482986,
          0.7067829519050196,
          0.7022631059617405,
          0.6977432600184613,
          0.6931915841741733,
          0.6886399083298851,
          0.6840882324855969,
          0.6795365566413089,
          0.6749530508960118,
          0.6703695451507146,
          0.6657860394054175,
          0.6612025336601203,
          0.6566190279148232,
          0.6520036922685171,
          0.647388356622211,
          0.6427730209759047,
          0.6381895152306076,
          0.6335741795843015,
          0.6289588439379954,
          0.6243435082916892,
          0.619728172645383,
          0.615144666900086,
          0.6105611611547888,
          0.6059458255084826,
          0.6013623197631855,
          0.5967788140178885,
          0.5921953082725913,
          0.5876436324283032,
          0.583091956584015,
          0.5785402807397269,
          0.5739886048954388,
          0.5694369290511506,
          0.5649170831078716,
          0.5604290670656015,
          0.5559410510233314,
          0.5514848648820703,
          0.5470286787408091,
          0.542572492599548,
          0.5381481363592959,
          0.5337556100200528,
          0.5293630836808098,
          0.5250023872425756,
          0.5206735207053506,
          0.5163764840691345,
          0.5121112773339275,
          0.5078779004997295,
          0.5036763535665404,
          0.49953846643536937,
          0.49543240920520737,
          0.4913263519750454,
          0.4872839545469014,
          0.48327338701976635,
          0.4792628194926314,
          0.4753795715695324,
          0.4715281535474425,
          0.4677085654263615,
          0.4639526371072986,
          0.4602603685902537,
          0.4566317598752268,
          0.4530668109622179,
          0.44956552185122706,
          0.4461278925422542,
          0.44275392303529937,
          0.4394436133303625,
          0.43619696342744374,
          0.43307763312856096,
          0.43002196263169623,
          0.4270617818378585,
          0.4242289206480568,
          0.4215233790622911,
          0.41888149727854346,
          0.41633510519782285,
          0.4138842028201292,
          0.4115924499474807,
          0.40945984657987716,
          0.40739090301429165,
          0.40548110895375117,
          0.4036668045962377,
          0.40197981984276027,
          0.4003883247923099,
          0.39892414934589554,
          0.3976191234045262,
          0.3964732469682019,
          0.39545469013591367,
          0.3945634529076615,
          0.3938313651844543,
          0.3931947671642741,
          0.392717318649139,
          0.3923671897380399,
          0.39217621033198585,
          0.3921443804309769,
          0.39217621033198585,
          0.3923671897380399,
          0.392717318649139,
          0.3931947671642741,
          0.3938313651844543,
          0.3945634529076615,
          0.39545469013591367,
          0.3964732469682019,
          0.3976191234045262,
          0.39892414934589554,
          0.4003883247923099,
          0.40197981984276027,
          0.4036668045962377,
          0.40548110895375117,
          0.40739090301429165,
          0.40945984657987716,
          0.4115924499474807,
          0.4138842028201292,
          0.41633510519782285,
          0.41888149727854346,
          0.4215233790622911,
          0.4242289206480568,
          0.4270617818378585,
          0.43002196263169623,
          0.43307763312856096,
          0.43619696342744374,
          0.4394436133303625,
          0.44275392303529937,
          0.4461278925422542,
          0.44956552185122706,
          0.4530668109622179,
          0.4566317598752268,
          0.4602603685902537,
          0.4639526371072986,
          0.4677085654263615,
          0.4715281535474425,
          0.4753795715695324,
          0.4792628194926314,
          0.48327338701976635,
          0.4872839545469014,
          0.4913263519750454,
          0.49543240920520737,
          0.49953846643536937,
          0.5036763535665404,
          0.5078779004997295,
          0.5121112773339275,
          0.5163764840691345,
          0.5206735207053506,
          0.5250023872425756,
          0.5293630836808098,
          0.5337556100200528,
          0.5381481363592959,
          0.542572492599548,
          0.5470286787408091,
          0.5514848648820703,
          0.5559410510233314,
          0.5604290670656015,
          0.5649170831078716,
          0.5694369290511506,
          0.5739886048954388,
          0.5785402807397269,
          0.583091956584015,
          0.5876436324283032,
          0.5921953082725913,
          0.5967788140178885,
          0.6013623197631855,
          0.6059458255084826,
          0.6105611611547888,
          0.615144666900086,
          0.619728172645383,
          0.6243435082916892,
          0.6289588439379954,
          0.6335741795843015,
          0.6381895152306076,
          0.6427730209759047,
          0.647388356622211,
          0.6520036922685171,
          0.6566190279148232,
          0.6612025336601203,
          0.6657860394054175,
          0.6703695451507146,
          0.6749530508960118,
          0.6795365566413089,
          0.6840882324855969,
          0.6886399083298851,
          0.6931915841741733,
          0.6977432600184613,
          0.7022631059617405,
          0.7067829519050196,
          0.7113027978482986,
          0.7157908138905688,
          0.7202788299328389,
          0.724766845975109,
          0.7292230321163701,
          0.7336792182576313,
          0.7381354043988924,
          0.7425597606391444,
          0.7469841168793965,
          0.7514084731196486,
          0.7558328293599007,
          0.7601935257981348,
          0.7645542222363688,
          0.7689149186746029,
          0.773243785211828,
          0.7775726517490531,
          0.7818696883852692,
          0.7861348951204762,
          0.7904001018556832,
          0.7946653085908902,
          0.7988986854250884,
          0.8031002323582773,
          0.8072699493904574,
          0.8114396664226374,
          0.8155775535538085,
          0.8196836107839705,
          0.8237578381131234,
          0.8278320654422765,
          0.8318744628704204,
          0.8358850303975555,
          0.8398955979246905,
          0.8438425056498075,
          0.8477894133749244,
          0.8517363211000414,
          0.8556195690231403,
          0.8595028169462393,
          0.8633224050673203,
          0.8671419931884012,
          0.8709297514084732,
          0.874653849826527,
          0.8783779482445809,
          0.8820383868606169,
          0.8856988254766528,
          0.8893592640926886,
          0.8929560429067066,
          0.8965209918197155,
          0.9000541108317153,
          0.9035235700416971,
          0.906993029251679,
          0.9104306585606519,
          0.9138046280676068,
          0.9171467676735525,
          0.9204570773784894,
          0.9237355571824172,
          0.926982207085336,
          0.9301651971862368,
          0.9332845274851195,
          0.9364038577840023,
          0.9394276983798581,
          0.9424197090747047,
          0.9453798898685425,
          0.9482764108603622,
          0.951172931852182,
          0.9540057930419836,
          0.9567749944297673,
          0.959512365916542,
          0.9621542477002897,
          0.9647642995830283,
          0.967310691663749,
          0.9697615940414426,
          0.9721488366171182,
          0.9745042492917847,
          0.9767960021644333,
          0.9790240952350638,
          0.9811885285036763,
          0.9832574720692618,
          0.9852309259318204,
          0.9871725498933698,
          0.9890186841518923,
          0.9907374988063787,
          0.9923608237578381,
          0.9938886590062704,
          0.9952891746506668,
          0.9965305407900181,
          0.9976445873253335,
          0.9985994843556036,
          0.9993634019798199,
          0.999872680395964,
          1,
          1,
          1,
          1,
          1,
          1,
          1,
          1,
          1,
          1,
          1,
          1,
          1,
          1,
          1,
          1,
          1,
          1,
          1,
          1,
          1,
          1
         ]
        }
       ],
       "frames": [
        {
         "data": [
          {
           "marker": {
            "color": "red",
            "size": 10
           },
           "mode": "markers",
           "type": "scatter",
           "x": [
            0
           ],
           "y": [
            1
           ]
          }
         ]
        },
        {
         "data": [
          {
           "marker": {
            "color": "red",
            "size": 10
           },
           "mode": "markers",
           "type": "scatter",
           "x": [
            5
           ],
           "y": [
            1
           ]
          }
         ]
        },
        {
         "data": [
          {
           "marker": {
            "color": "red",
            "size": 10
           },
           "mode": "markers",
           "type": "scatter",
           "x": [
            10
           ],
           "y": [
            1
           ]
          }
         ]
        },
        {
         "data": [
          {
           "marker": {
            "color": "red",
            "size": 10
           },
           "mode": "markers",
           "type": "scatter",
           "x": [
            15
           ],
           "y": [
            1
           ]
          }
         ]
        },
        {
         "data": [
          {
           "marker": {
            "color": "red",
            "size": 10
           },
           "mode": "markers",
           "type": "scatter",
           "x": [
            20
           ],
           "y": [
            1
           ]
          }
         ]
        },
        {
         "data": [
          {
           "marker": {
            "color": "red",
            "size": 10
           },
           "mode": "markers",
           "type": "scatter",
           "x": [
            25
           ],
           "y": [
            0.9985994843556036
           ]
          }
         ]
        },
        {
         "data": [
          {
           "marker": {
            "color": "red",
            "size": 10
           },
           "mode": "markers",
           "type": "scatter",
           "x": [
            30
           ],
           "y": [
            0.9923608237578381
           ]
          }
         ]
        },
        {
         "data": [
          {
           "marker": {
            "color": "red",
            "size": 10
           },
           "mode": "markers",
           "type": "scatter",
           "x": [
            35
           ],
           "y": [
            0.9832574720692618
           ]
          }
         ]
        },
        {
         "data": [
          {
           "marker": {
            "color": "red",
            "size": 10
           },
           "mode": "markers",
           "type": "scatter",
           "x": [
            40
           ],
           "y": [
            0.9721488366171182
           ]
          }
         ]
        },
        {
         "data": [
          {
           "marker": {
            "color": "red",
            "size": 10
           },
           "mode": "markers",
           "type": "scatter",
           "x": [
            45
           ],
           "y": [
            0.959512365916542
           ]
          }
         ]
        },
        {
         "data": [
          {
           "marker": {
            "color": "red",
            "size": 10
           },
           "mode": "markers",
           "type": "scatter",
           "x": [
            50
           ],
           "y": [
            0.9453798898685425
           ]
          }
         ]
        },
        {
         "data": [
          {
           "marker": {
            "color": "red",
            "size": 10
           },
           "mode": "markers",
           "type": "scatter",
           "x": [
            55
           ],
           "y": [
            0.9301651971862368
           ]
          }
         ]
        },
        {
         "data": [
          {
           "marker": {
            "color": "red",
            "size": 10
           },
           "mode": "markers",
           "type": "scatter",
           "x": [
            60
           ],
           "y": [
            0.9138046280676068
           ]
          }
         ]
        },
        {
         "data": [
          {
           "marker": {
            "color": "red",
            "size": 10
           },
           "mode": "markers",
           "type": "scatter",
           "x": [
            65
           ],
           "y": [
            0.8965209918197155
           ]
          }
         ]
        },
        {
         "data": [
          {
           "marker": {
            "color": "red",
            "size": 10
           },
           "mode": "markers",
           "type": "scatter",
           "x": [
            70
           ],
           "y": [
            0.8783779482445809
           ]
          }
         ]
        },
        {
         "data": [
          {
           "marker": {
            "color": "red",
            "size": 10
           },
           "mode": "markers",
           "type": "scatter",
           "x": [
            75
           ],
           "y": [
            0.8595028169462393
           ]
          }
         ]
        },
        {
         "data": [
          {
           "marker": {
            "color": "red",
            "size": 10
           },
           "mode": "markers",
           "type": "scatter",
           "x": [
            80
           ],
           "y": [
            0.8398955979246905
           ]
          }
         ]
        },
        {
         "data": [
          {
           "marker": {
            "color": "red",
            "size": 10
           },
           "mode": "markers",
           "type": "scatter",
           "x": [
            85
           ],
           "y": [
            0.8196836107839705
           ]
          }
         ]
        },
        {
         "data": [
          {
           "marker": {
            "color": "red",
            "size": 10
           },
           "mode": "markers",
           "type": "scatter",
           "x": [
            90
           ],
           "y": [
            0.7988986854250884
           ]
          }
         ]
        },
        {
         "data": [
          {
           "marker": {
            "color": "red",
            "size": 10
           },
           "mode": "markers",
           "type": "scatter",
           "x": [
            95
           ],
           "y": [
            0.7775726517490531
           ]
          }
         ]
        },
        {
         "data": [
          {
           "marker": {
            "color": "red",
            "size": 10
           },
           "mode": "markers",
           "type": "scatter",
           "x": [
            100
           ],
           "y": [
            0.7558328293599007
           ]
          }
         ]
        },
        {
         "data": [
          {
           "marker": {
            "color": "red",
            "size": 10
           },
           "mode": "markers",
           "type": "scatter",
           "x": [
            105
           ],
           "y": [
            0.7336792182576313
           ]
          }
         ]
        },
        {
         "data": [
          {
           "marker": {
            "color": "red",
            "size": 10
           },
           "mode": "markers",
           "type": "scatter",
           "x": [
            110
           ],
           "y": [
            0.7113027978482986
           ]
          }
         ]
        },
        {
         "data": [
          {
           "marker": {
            "color": "red",
            "size": 10
           },
           "mode": "markers",
           "type": "scatter",
           "x": [
            115
           ],
           "y": [
            0.6886399083298851
           ]
          }
         ]
        },
        {
         "data": [
          {
           "marker": {
            "color": "red",
            "size": 10
           },
           "mode": "markers",
           "type": "scatter",
           "x": [
            120
           ],
           "y": [
            0.6657860394054175
           ]
          }
         ]
        },
        {
         "data": [
          {
           "marker": {
            "color": "red",
            "size": 10
           },
           "mode": "markers",
           "type": "scatter",
           "x": [
            125
           ],
           "y": [
            0.6427730209759047
           ]
          }
         ]
        },
        {
         "data": [
          {
           "marker": {
            "color": "red",
            "size": 10
           },
           "mode": "markers",
           "type": "scatter",
           "x": [
            130
           ],
           "y": [
            0.619728172645383
           ]
          }
         ]
        },
        {
         "data": [
          {
           "marker": {
            "color": "red",
            "size": 10
           },
           "mode": "markers",
           "type": "scatter",
           "x": [
            135
           ],
           "y": [
            0.5967788140178885
           ]
          }
         ]
        },
        {
         "data": [
          {
           "marker": {
            "color": "red",
            "size": 10
           },
           "mode": "markers",
           "type": "scatter",
           "x": [
            140
           ],
           "y": [
            0.5739886048954388
           ]
          }
         ]
        },
        {
         "data": [
          {
           "marker": {
            "color": "red",
            "size": 10
           },
           "mode": "markers",
           "type": "scatter",
           "x": [
            145
           ],
           "y": [
            0.5514848648820703
           ]
          }
         ]
        },
        {
         "data": [
          {
           "marker": {
            "color": "red",
            "size": 10
           },
           "mode": "markers",
           "type": "scatter",
           "x": [
            150
           ],
           "y": [
            0.5293630836808098
           ]
          }
         ]
        },
        {
         "data": [
          {
           "marker": {
            "color": "red",
            "size": 10
           },
           "mode": "markers",
           "type": "scatter",
           "x": [
            155
           ],
           "y": [
            0.5078779004997295
           ]
          }
         ]
        },
        {
         "data": [
          {
           "marker": {
            "color": "red",
            "size": 10
           },
           "mode": "markers",
           "type": "scatter",
           "x": [
            160
           ],
           "y": [
            0.4872839545469014
           ]
          }
         ]
        },
        {
         "data": [
          {
           "marker": {
            "color": "red",
            "size": 10
           },
           "mode": "markers",
           "type": "scatter",
           "x": [
            165
           ],
           "y": [
            0.4677085654263615
           ]
          }
         ]
        },
        {
         "data": [
          {
           "marker": {
            "color": "red",
            "size": 10
           },
           "mode": "markers",
           "type": "scatter",
           "x": [
            170
           ],
           "y": [
            0.44956552185122706
           ]
          }
         ]
        },
        {
         "data": [
          {
           "marker": {
            "color": "red",
            "size": 10
           },
           "mode": "markers",
           "type": "scatter",
           "x": [
            175
           ],
           "y": [
            0.43307763312856096
           ]
          }
         ]
        },
        {
         "data": [
          {
           "marker": {
            "color": "red",
            "size": 10
           },
           "mode": "markers",
           "type": "scatter",
           "x": [
            180
           ],
           "y": [
            0.41888149727854346
           ]
          }
         ]
        },
        {
         "data": [
          {
           "marker": {
            "color": "red",
            "size": 10
           },
           "mode": "markers",
           "type": "scatter",
           "x": [
            185
           ],
           "y": [
            0.40739090301429165
           ]
          }
         ]
        },
        {
         "data": [
          {
           "marker": {
            "color": "red",
            "size": 10
           },
           "mode": "markers",
           "type": "scatter",
           "x": [
            190
           ],
           "y": [
            0.39892414934589554
           ]
          }
         ]
        },
        {
         "data": [
          {
           "marker": {
            "color": "red",
            "size": 10
           },
           "mode": "markers",
           "type": "scatter",
           "x": [
            195
           ],
           "y": [
            0.3938313651844543
           ]
          }
         ]
        },
        {
         "data": [
          {
           "marker": {
            "color": "red",
            "size": 10
           },
           "mode": "markers",
           "type": "scatter",
           "x": [
            200
           ],
           "y": [
            0.3921443804309769
           ]
          }
         ]
        },
        {
         "data": [
          {
           "marker": {
            "color": "red",
            "size": 10
           },
           "mode": "markers",
           "type": "scatter",
           "x": [
            205
           ],
           "y": [
            0.3938313651844543
           ]
          }
         ]
        },
        {
         "data": [
          {
           "marker": {
            "color": "red",
            "size": 10
           },
           "mode": "markers",
           "type": "scatter",
           "x": [
            210
           ],
           "y": [
            0.39892414934589554
           ]
          }
         ]
        },
        {
         "data": [
          {
           "marker": {
            "color": "red",
            "size": 10
           },
           "mode": "markers",
           "type": "scatter",
           "x": [
            215
           ],
           "y": [
            0.40739090301429165
           ]
          }
         ]
        },
        {
         "data": [
          {
           "marker": {
            "color": "red",
            "size": 10
           },
           "mode": "markers",
           "type": "scatter",
           "x": [
            220
           ],
           "y": [
            0.41888149727854346
           ]
          }
         ]
        },
        {
         "data": [
          {
           "marker": {
            "color": "red",
            "size": 10
           },
           "mode": "markers",
           "type": "scatter",
           "x": [
            225
           ],
           "y": [
            0.43307763312856096
           ]
          }
         ]
        },
        {
         "data": [
          {
           "marker": {
            "color": "red",
            "size": 10
           },
           "mode": "markers",
           "type": "scatter",
           "x": [
            230
           ],
           "y": [
            0.44956552185122706
           ]
          }
         ]
        },
        {
         "data": [
          {
           "marker": {
            "color": "red",
            "size": 10
           },
           "mode": "markers",
           "type": "scatter",
           "x": [
            235
           ],
           "y": [
            0.4677085654263615
           ]
          }
         ]
        },
        {
         "data": [
          {
           "marker": {
            "color": "red",
            "size": 10
           },
           "mode": "markers",
           "type": "scatter",
           "x": [
            240
           ],
           "y": [
            0.4872839545469014
           ]
          }
         ]
        },
        {
         "data": [
          {
           "marker": {
            "color": "red",
            "size": 10
           },
           "mode": "markers",
           "type": "scatter",
           "x": [
            245
           ],
           "y": [
            0.5078779004997295
           ]
          }
         ]
        },
        {
         "data": [
          {
           "marker": {
            "color": "red",
            "size": 10
           },
           "mode": "markers",
           "type": "scatter",
           "x": [
            250
           ],
           "y": [
            0.5293630836808098
           ]
          }
         ]
        },
        {
         "data": [
          {
           "marker": {
            "color": "red",
            "size": 10
           },
           "mode": "markers",
           "type": "scatter",
           "x": [
            255
           ],
           "y": [
            0.5514848648820703
           ]
          }
         ]
        },
        {
         "data": [
          {
           "marker": {
            "color": "red",
            "size": 10
           },
           "mode": "markers",
           "type": "scatter",
           "x": [
            260
           ],
           "y": [
            0.5739886048954388
           ]
          }
         ]
        },
        {
         "data": [
          {
           "marker": {
            "color": "red",
            "size": 10
           },
           "mode": "markers",
           "type": "scatter",
           "x": [
            265
           ],
           "y": [
            0.5967788140178885
           ]
          }
         ]
        },
        {
         "data": [
          {
           "marker": {
            "color": "red",
            "size": 10
           },
           "mode": "markers",
           "type": "scatter",
           "x": [
            270
           ],
           "y": [
            0.619728172645383
           ]
          }
         ]
        },
        {
         "data": [
          {
           "marker": {
            "color": "red",
            "size": 10
           },
           "mode": "markers",
           "type": "scatter",
           "x": [
            275
           ],
           "y": [
            0.6427730209759047
           ]
          }
         ]
        },
        {
         "data": [
          {
           "marker": {
            "color": "red",
            "size": 10
           },
           "mode": "markers",
           "type": "scatter",
           "x": [
            280
           ],
           "y": [
            0.6657860394054175
           ]
          }
         ]
        },
        {
         "data": [
          {
           "marker": {
            "color": "red",
            "size": 10
           },
           "mode": "markers",
           "type": "scatter",
           "x": [
            285
           ],
           "y": [
            0.6886399083298851
           ]
          }
         ]
        },
        {
         "data": [
          {
           "marker": {
            "color": "red",
            "size": 10
           },
           "mode": "markers",
           "type": "scatter",
           "x": [
            290
           ],
           "y": [
            0.7113027978482986
           ]
          }
         ]
        },
        {
         "data": [
          {
           "marker": {
            "color": "red",
            "size": 10
           },
           "mode": "markers",
           "type": "scatter",
           "x": [
            295
           ],
           "y": [
            0.7336792182576313
           ]
          }
         ]
        },
        {
         "data": [
          {
           "marker": {
            "color": "red",
            "size": 10
           },
           "mode": "markers",
           "type": "scatter",
           "x": [
            300
           ],
           "y": [
            0.7558328293599007
           ]
          }
         ]
        },
        {
         "data": [
          {
           "marker": {
            "color": "red",
            "size": 10
           },
           "mode": "markers",
           "type": "scatter",
           "x": [
            305
           ],
           "y": [
            0.7775726517490531
           ]
          }
         ]
        },
        {
         "data": [
          {
           "marker": {
            "color": "red",
            "size": 10
           },
           "mode": "markers",
           "type": "scatter",
           "x": [
            310
           ],
           "y": [
            0.7988986854250884
           ]
          }
         ]
        },
        {
         "data": [
          {
           "marker": {
            "color": "red",
            "size": 10
           },
           "mode": "markers",
           "type": "scatter",
           "x": [
            315
           ],
           "y": [
            0.8196836107839705
           ]
          }
         ]
        },
        {
         "data": [
          {
           "marker": {
            "color": "red",
            "size": 10
           },
           "mode": "markers",
           "type": "scatter",
           "x": [
            320
           ],
           "y": [
            0.8398955979246905
           ]
          }
         ]
        },
        {
         "data": [
          {
           "marker": {
            "color": "red",
            "size": 10
           },
           "mode": "markers",
           "type": "scatter",
           "x": [
            325
           ],
           "y": [
            0.8595028169462393
           ]
          }
         ]
        },
        {
         "data": [
          {
           "marker": {
            "color": "red",
            "size": 10
           },
           "mode": "markers",
           "type": "scatter",
           "x": [
            330
           ],
           "y": [
            0.8783779482445809
           ]
          }
         ]
        },
        {
         "data": [
          {
           "marker": {
            "color": "red",
            "size": 10
           },
           "mode": "markers",
           "type": "scatter",
           "x": [
            335
           ],
           "y": [
            0.8965209918197155
           ]
          }
         ]
        },
        {
         "data": [
          {
           "marker": {
            "color": "red",
            "size": 10
           },
           "mode": "markers",
           "type": "scatter",
           "x": [
            340
           ],
           "y": [
            0.9138046280676068
           ]
          }
         ]
        },
        {
         "data": [
          {
           "marker": {
            "color": "red",
            "size": 10
           },
           "mode": "markers",
           "type": "scatter",
           "x": [
            345
           ],
           "y": [
            0.9301651971862368
           ]
          }
         ]
        },
        {
         "data": [
          {
           "marker": {
            "color": "red",
            "size": 10
           },
           "mode": "markers",
           "type": "scatter",
           "x": [
            350
           ],
           "y": [
            0.9453798898685425
           ]
          }
         ]
        },
        {
         "data": [
          {
           "marker": {
            "color": "red",
            "size": 10
           },
           "mode": "markers",
           "type": "scatter",
           "x": [
            355
           ],
           "y": [
            0.959512365916542
           ]
          }
         ]
        },
        {
         "data": [
          {
           "marker": {
            "color": "red",
            "size": 10
           },
           "mode": "markers",
           "type": "scatter",
           "x": [
            360
           ],
           "y": [
            0.9721488366171182
           ]
          }
         ]
        },
        {
         "data": [
          {
           "marker": {
            "color": "red",
            "size": 10
           },
           "mode": "markers",
           "type": "scatter",
           "x": [
            365
           ],
           "y": [
            0.9832574720692618
           ]
          }
         ]
        },
        {
         "data": [
          {
           "marker": {
            "color": "red",
            "size": 10
           },
           "mode": "markers",
           "type": "scatter",
           "x": [
            370
           ],
           "y": [
            0.9923608237578381
           ]
          }
         ]
        },
        {
         "data": [
          {
           "marker": {
            "color": "red",
            "size": 10
           },
           "mode": "markers",
           "type": "scatter",
           "x": [
            375
           ],
           "y": [
            0.9985994843556036
           ]
          }
         ]
        },
        {
         "data": [
          {
           "marker": {
            "color": "red",
            "size": 10
           },
           "mode": "markers",
           "type": "scatter",
           "x": [
            380
           ],
           "y": [
            1
           ]
          }
         ]
        },
        {
         "data": [
          {
           "marker": {
            "color": "red",
            "size": 10
           },
           "mode": "markers",
           "type": "scatter",
           "x": [
            385
           ],
           "y": [
            1
           ]
          }
         ]
        },
        {
         "data": [
          {
           "marker": {
            "color": "red",
            "size": 10
           },
           "mode": "markers",
           "type": "scatter",
           "x": [
            390
           ],
           "y": [
            1
           ]
          }
         ]
        },
        {
         "data": [
          {
           "marker": {
            "color": "red",
            "size": 10
           },
           "mode": "markers",
           "type": "scatter",
           "x": [
            395
           ],
           "y": [
            1
           ]
          }
         ]
        }
       ],
       "layout": {
        "annotations": [
         {
          "arrowhead": 7,
          "ax": 0,
          "ay": -40,
          "showarrow": true,
          "text": "Planet starts to occult the star",
          "x": 22,
          "xref": "x",
          "y": 1,
          "yref": "y"
         },
         {
          "arrowhead": 7,
          "ax": 0,
          "ay": -40,
          "showarrow": true,
          "text": "Planet is fully in front of the star",
          "x": 199,
          "xref": "x",
          "y": 0.39217621033198585,
          "yref": "y"
         },
         {
          "arrowhead": 7,
          "ax": 0,
          "ay": 40,
          "showarrow": true,
          "text": "Planet has reached the edge of the star",
          "x": 200,
          "xref": "x",
          "y": 0.3921443804309769,
          "yref": "y"
         },
         {
          "arrowhead": 7,
          "ax": 0,
          "ay": -40,
          "showarrow": true,
          "text": "Planet has stopped occulting the star",
          "x": 377,
          "xref": "x",
          "y": 0.999872680395964,
          "yref": "y"
         }
        ],
        "autosize": true,
        "hovermode": "closest",
        "showlegend": false,
        "template": {
         "data": {
          "bar": [
           {
            "error_x": {
             "color": "#2a3f5f"
            },
            "error_y": {
             "color": "#2a3f5f"
            },
            "marker": {
             "line": {
              "color": "#E5ECF6",
              "width": 0.5
             }
            },
            "type": "bar"
           }
          ],
          "barpolar": [
           {
            "marker": {
             "line": {
              "color": "#E5ECF6",
              "width": 0.5
             }
            },
            "type": "barpolar"
           }
          ],
          "carpet": [
           {
            "aaxis": {
             "endlinecolor": "#2a3f5f",
             "gridcolor": "white",
             "linecolor": "white",
             "minorgridcolor": "white",
             "startlinecolor": "#2a3f5f"
            },
            "baxis": {
             "endlinecolor": "#2a3f5f",
             "gridcolor": "white",
             "linecolor": "white",
             "minorgridcolor": "white",
             "startlinecolor": "#2a3f5f"
            },
            "type": "carpet"
           }
          ],
          "choropleth": [
           {
            "colorbar": {
             "outlinewidth": 0,
             "ticks": ""
            },
            "type": "choropleth"
           }
          ],
          "contour": [
           {
            "colorbar": {
             "outlinewidth": 0,
             "ticks": ""
            },
            "colorscale": [
             [
              0,
              "#0d0887"
             ],
             [
              0.1111111111111111,
              "#46039f"
             ],
             [
              0.2222222222222222,
              "#7201a8"
             ],
             [
              0.3333333333333333,
              "#9c179e"
             ],
             [
              0.4444444444444444,
              "#bd3786"
             ],
             [
              0.5555555555555556,
              "#d8576b"
             ],
             [
              0.6666666666666666,
              "#ed7953"
             ],
             [
              0.7777777777777778,
              "#fb9f3a"
             ],
             [
              0.8888888888888888,
              "#fdca26"
             ],
             [
              1,
              "#f0f921"
             ]
            ],
            "type": "contour"
           }
          ],
          "contourcarpet": [
           {
            "colorbar": {
             "outlinewidth": 0,
             "ticks": ""
            },
            "type": "contourcarpet"
           }
          ],
          "heatmap": [
           {
            "colorbar": {
             "outlinewidth": 0,
             "ticks": ""
            },
            "colorscale": [
             [
              0,
              "#0d0887"
             ],
             [
              0.1111111111111111,
              "#46039f"
             ],
             [
              0.2222222222222222,
              "#7201a8"
             ],
             [
              0.3333333333333333,
              "#9c179e"
             ],
             [
              0.4444444444444444,
              "#bd3786"
             ],
             [
              0.5555555555555556,
              "#d8576b"
             ],
             [
              0.6666666666666666,
              "#ed7953"
             ],
             [
              0.7777777777777778,
              "#fb9f3a"
             ],
             [
              0.8888888888888888,
              "#fdca26"
             ],
             [
              1,
              "#f0f921"
             ]
            ],
            "type": "heatmap"
           }
          ],
          "heatmapgl": [
           {
            "colorbar": {
             "outlinewidth": 0,
             "ticks": ""
            },
            "colorscale": [
             [
              0,
              "#0d0887"
             ],
             [
              0.1111111111111111,
              "#46039f"
             ],
             [
              0.2222222222222222,
              "#7201a8"
             ],
             [
              0.3333333333333333,
              "#9c179e"
             ],
             [
              0.4444444444444444,
              "#bd3786"
             ],
             [
              0.5555555555555556,
              "#d8576b"
             ],
             [
              0.6666666666666666,
              "#ed7953"
             ],
             [
              0.7777777777777778,
              "#fb9f3a"
             ],
             [
              0.8888888888888888,
              "#fdca26"
             ],
             [
              1,
              "#f0f921"
             ]
            ],
            "type": "heatmapgl"
           }
          ],
          "histogram": [
           {
            "marker": {
             "colorbar": {
              "outlinewidth": 0,
              "ticks": ""
             }
            },
            "type": "histogram"
           }
          ],
          "histogram2d": [
           {
            "colorbar": {
             "outlinewidth": 0,
             "ticks": ""
            },
            "colorscale": [
             [
              0,
              "#0d0887"
             ],
             [
              0.1111111111111111,
              "#46039f"
             ],
             [
              0.2222222222222222,
              "#7201a8"
             ],
             [
              0.3333333333333333,
              "#9c179e"
             ],
             [
              0.4444444444444444,
              "#bd3786"
             ],
             [
              0.5555555555555556,
              "#d8576b"
             ],
             [
              0.6666666666666666,
              "#ed7953"
             ],
             [
              0.7777777777777778,
              "#fb9f3a"
             ],
             [
              0.8888888888888888,
              "#fdca26"
             ],
             [
              1,
              "#f0f921"
             ]
            ],
            "type": "histogram2d"
           }
          ],
          "histogram2dcontour": [
           {
            "colorbar": {
             "outlinewidth": 0,
             "ticks": ""
            },
            "colorscale": [
             [
              0,
              "#0d0887"
             ],
             [
              0.1111111111111111,
              "#46039f"
             ],
             [
              0.2222222222222222,
              "#7201a8"
             ],
             [
              0.3333333333333333,
              "#9c179e"
             ],
             [
              0.4444444444444444,
              "#bd3786"
             ],
             [
              0.5555555555555556,
              "#d8576b"
             ],
             [
              0.6666666666666666,
              "#ed7953"
             ],
             [
              0.7777777777777778,
              "#fb9f3a"
             ],
             [
              0.8888888888888888,
              "#fdca26"
             ],
             [
              1,
              "#f0f921"
             ]
            ],
            "type": "histogram2dcontour"
           }
          ],
          "mesh3d": [
           {
            "colorbar": {
             "outlinewidth": 0,
             "ticks": ""
            },
            "type": "mesh3d"
           }
          ],
          "parcoords": [
           {
            "line": {
             "colorbar": {
              "outlinewidth": 0,
              "ticks": ""
             }
            },
            "type": "parcoords"
           }
          ],
          "pie": [
           {
            "automargin": true,
            "type": "pie"
           }
          ],
          "scatter": [
           {
            "marker": {
             "colorbar": {
              "outlinewidth": 0,
              "ticks": ""
             }
            },
            "type": "scatter"
           }
          ],
          "scatter3d": [
           {
            "line": {
             "colorbar": {
              "outlinewidth": 0,
              "ticks": ""
             }
            },
            "marker": {
             "colorbar": {
              "outlinewidth": 0,
              "ticks": ""
             }
            },
            "type": "scatter3d"
           }
          ],
          "scattercarpet": [
           {
            "marker": {
             "colorbar": {
              "outlinewidth": 0,
              "ticks": ""
             }
            },
            "type": "scattercarpet"
           }
          ],
          "scattergeo": [
           {
            "marker": {
             "colorbar": {
              "outlinewidth": 0,
              "ticks": ""
             }
            },
            "type": "scattergeo"
           }
          ],
          "scattergl": [
           {
            "marker": {
             "colorbar": {
              "outlinewidth": 0,
              "ticks": ""
             }
            },
            "type": "scattergl"
           }
          ],
          "scattermapbox": [
           {
            "marker": {
             "colorbar": {
              "outlinewidth": 0,
              "ticks": ""
             }
            },
            "type": "scattermapbox"
           }
          ],
          "scatterpolar": [
           {
            "marker": {
             "colorbar": {
              "outlinewidth": 0,
              "ticks": ""
             }
            },
            "type": "scatterpolar"
           }
          ],
          "scatterpolargl": [
           {
            "marker": {
             "colorbar": {
              "outlinewidth": 0,
              "ticks": ""
             }
            },
            "type": "scatterpolargl"
           }
          ],
          "scatterternary": [
           {
            "marker": {
             "colorbar": {
              "outlinewidth": 0,
              "ticks": ""
             }
            },
            "type": "scatterternary"
           }
          ],
          "surface": [
           {
            "colorbar": {
             "outlinewidth": 0,
             "ticks": ""
            },
            "colorscale": [
             [
              0,
              "#0d0887"
             ],
             [
              0.1111111111111111,
              "#46039f"
             ],
             [
              0.2222222222222222,
              "#7201a8"
             ],
             [
              0.3333333333333333,
              "#9c179e"
             ],
             [
              0.4444444444444444,
              "#bd3786"
             ],
             [
              0.5555555555555556,
              "#d8576b"
             ],
             [
              0.6666666666666666,
              "#ed7953"
             ],
             [
              0.7777777777777778,
              "#fb9f3a"
             ],
             [
              0.8888888888888888,
              "#fdca26"
             ],
             [
              1,
              "#f0f921"
             ]
            ],
            "type": "surface"
           }
          ],
          "table": [
           {
            "cells": {
             "fill": {
              "color": "#EBF0F8"
             },
             "line": {
              "color": "white"
             }
            },
            "header": {
             "fill": {
              "color": "#C8D4E3"
             },
             "line": {
              "color": "white"
             }
            },
            "type": "table"
           }
          ]
         },
         "layout": {
          "annotationdefaults": {
           "arrowcolor": "#2a3f5f",
           "arrowhead": 0,
           "arrowwidth": 1
          },
          "coloraxis": {
           "colorbar": {
            "outlinewidth": 0,
            "ticks": ""
           }
          },
          "colorscale": {
           "diverging": [
            [
             0,
             "#8e0152"
            ],
            [
             0.1,
             "#c51b7d"
            ],
            [
             0.2,
             "#de77ae"
            ],
            [
             0.3,
             "#f1b6da"
            ],
            [
             0.4,
             "#fde0ef"
            ],
            [
             0.5,
             "#f7f7f7"
            ],
            [
             0.6,
             "#e6f5d0"
            ],
            [
             0.7,
             "#b8e186"
            ],
            [
             0.8,
             "#7fbc41"
            ],
            [
             0.9,
             "#4d9221"
            ],
            [
             1,
             "#276419"
            ]
           ],
           "sequential": [
            [
             0,
             "#0d0887"
            ],
            [
             0.1111111111111111,
             "#46039f"
            ],
            [
             0.2222222222222222,
             "#7201a8"
            ],
            [
             0.3333333333333333,
             "#9c179e"
            ],
            [
             0.4444444444444444,
             "#bd3786"
            ],
            [
             0.5555555555555556,
             "#d8576b"
            ],
            [
             0.6666666666666666,
             "#ed7953"
            ],
            [
             0.7777777777777778,
             "#fb9f3a"
            ],
            [
             0.8888888888888888,
             "#fdca26"
            ],
            [
             1,
             "#f0f921"
            ]
           ],
           "sequentialminus": [
            [
             0,
             "#0d0887"
            ],
            [
             0.1111111111111111,
             "#46039f"
            ],
            [
             0.2222222222222222,
             "#7201a8"
            ],
            [
             0.3333333333333333,
             "#9c179e"
            ],
            [
             0.4444444444444444,
             "#bd3786"
            ],
            [
             0.5555555555555556,
             "#d8576b"
            ],
            [
             0.6666666666666666,
             "#ed7953"
            ],
            [
             0.7777777777777778,
             "#fb9f3a"
            ],
            [
             0.8888888888888888,
             "#fdca26"
            ],
            [
             1,
             "#f0f921"
            ]
           ]
          },
          "colorway": [
           "#636efa",
           "#EF553B",
           "#00cc96",
           "#ab63fa",
           "#FFA15A",
           "#19d3f3",
           "#FF6692",
           "#B6E880",
           "#FF97FF",
           "#FECB52"
          ],
          "font": {
           "color": "#2a3f5f"
          },
          "geo": {
           "bgcolor": "white",
           "lakecolor": "white",
           "landcolor": "#E5ECF6",
           "showlakes": true,
           "showland": true,
           "subunitcolor": "white"
          },
          "hoverlabel": {
           "align": "left"
          },
          "hovermode": "closest",
          "mapbox": {
           "style": "light"
          },
          "paper_bgcolor": "white",
          "plot_bgcolor": "#E5ECF6",
          "polar": {
           "angularaxis": {
            "gridcolor": "white",
            "linecolor": "white",
            "ticks": ""
           },
           "bgcolor": "#E5ECF6",
           "radialaxis": {
            "gridcolor": "white",
            "linecolor": "white",
            "ticks": ""
           }
          },
          "scene": {
           "xaxis": {
            "backgroundcolor": "#E5ECF6",
            "gridcolor": "white",
            "gridwidth": 2,
            "linecolor": "white",
            "showbackground": true,
            "ticks": "",
            "zerolinecolor": "white"
           },
           "yaxis": {
            "backgroundcolor": "#E5ECF6",
            "gridcolor": "white",
            "gridwidth": 2,
            "linecolor": "white",
            "showbackground": true,
            "ticks": "",
            "zerolinecolor": "white"
           },
           "zaxis": {
            "backgroundcolor": "#E5ECF6",
            "gridcolor": "white",
            "gridwidth": 2,
            "linecolor": "white",
            "showbackground": true,
            "ticks": "",
            "zerolinecolor": "white"
           }
          },
          "shapedefaults": {
           "line": {
            "color": "#2a3f5f"
           }
          },
          "ternary": {
           "aaxis": {
            "gridcolor": "white",
            "linecolor": "white",
            "ticks": ""
           },
           "baxis": {
            "gridcolor": "white",
            "linecolor": "white",
            "ticks": ""
           },
           "bgcolor": "#E5ECF6",
           "caxis": {
            "gridcolor": "white",
            "linecolor": "white",
            "ticks": ""
           }
          },
          "title": {
           "x": 0.05
          },
          "xaxis": {
           "automargin": true,
           "gridcolor": "white",
           "linecolor": "white",
           "ticks": "",
           "title": {
            "standoff": 15
           },
           "zerolinecolor": "white",
           "zerolinewidth": 2
          },
          "yaxis": {
           "automargin": true,
           "gridcolor": "white",
           "linecolor": "white",
           "ticks": "",
           "title": {
            "standoff": 15
           },
           "zerolinecolor": "white",
           "zerolinewidth": 2
          }
         }
        },
        "title": {
         "text": "Exoplanet Transit"
        },
        "updatemenus": [
         {
          "buttons": [
           {
            "args": [
             null
            ],
            "label": "Play",
            "method": "animate"
           }
          ],
          "type": "buttons"
         }
        ],
        "xaxis": {
         "autorange": false,
         "range": [
          0,
          400
         ],
         "title": {
          "text": "Time"
         },
         "type": "linear",
         "zeroline": false
        },
        "yaxis": {
         "autorange": false,
         "range": [
          0,
          1.3
         ],
         "title": {
          "text": "Flux"
         },
         "type": "linear",
         "zeroline": false
        }
       }
      },
      "image/png": "[encoded data removed]",
      "text/html": [
       "<div>\n",
       "        \n",
       "        \n",
       "            <div id=\"46157d98-b5bb-422b-9a0d-f0375ce51dba\" class=\"plotly-graph-div\" style=\"height:525px; width:100%;\"></div>\n",
       "            <script type=\"text/javascript\">\n",
       "                require([\"plotly\"], function(Plotly) {\n",
       "                    window.PLOTLYENV=window.PLOTLYENV || {};\n",
       "                    \n",
       "                if (document.getElementById(\"46157d98-b5bb-422b-9a0d-f0375ce51dba\")) {\n",
       "                    Plotly.newPlot(\n",
       "                        '46157d98-b5bb-422b-9a0d-f0375ce51dba',\n",
       "                        [{\"line\": {\"color\": \"blue\", \"width\": 2}, \"mode\": \"lines\", \"name\": \"Imaginary Planet\", \"type\": \"scatter\", \"x\": [0, 1, 2, 3, 4, 5, 6, 7, 8, 9, 10, 11, 12, 13, 14, 15, 16, 17, 18, 19, 20, 21, 22, 23, 24, 25, 26, 27, 28, 29, 30, 31, 32, 33, 34, 35, 36, 37, 38, 39, 40, 41, 42, 43, 44, 45, 46, 47, 48, 49, 50, 51, 52, 53, 54, 55, 56, 57, 58, 59, 60, 61, 62, 63, 64, 65, 66, 67, 68, 69, 70, 71, 72, 73, 74, 75, 76, 77, 78, 79, 80, 81, 82, 83, 84, 85, 86, 87, 88, 89, 90, 91, 92, 93, 94, 95, 96, 97, 98, 99, 100, 101, 102, 103, 104, 105, 106, 107, 108, 109, 110, 111, 112, 113, 114, 115, 116, 117, 118, 119, 120, 121, 122, 123, 124, 125, 126, 127, 128, 129, 130, 131, 132, 133, 134, 135, 136, 137, 138, 139, 140, 141, 142, 143, 144, 145, 146, 147, 148, 149, 150, 151, 152, 153, 154, 155, 156, 157, 158, 159, 160, 161, 162, 163, 164, 165, 166, 167, 168, 169, 170, 171, 172, 173, 174, 175, 176, 177, 178, 179, 180, 181, 182, 183, 184, 185, 186, 187, 188, 189, 190, 191, 192, 193, 194, 195, 196, 197, 198, 199, 200, 201, 202, 203, 204, 205, 206, 207, 208, 209, 210, 211, 212, 213, 214, 215, 216, 217, 218, 219, 220, 221, 222, 223, 224, 225, 226, 227, 228, 229, 230, 231, 232, 233, 234, 235, 236, 237, 238, 239, 240, 241, 242, 243, 244, 245, 246, 247, 248, 249, 250, 251, 252, 253, 254, 255, 256, 257, 258, 259, 260, 261, 262, 263, 264, 265, 266, 267, 268, 269, 270, 271, 272, 273, 274, 275, 276, 277, 278, 279, 280, 281, 282, 283, 284, 285, 286, 287, 288, 289, 290, 291, 292, 293, 294, 295, 296, 297, 298, 299, 300, 301, 302, 303, 304, 305, 306, 307, 308, 309, 310, 311, 312, 313, 314, 315, 316, 317, 318, 319, 320, 321, 322, 323, 324, 325, 326, 327, 328, 329, 330, 331, 332, 333, 334, 335, 336, 337, 338, 339, 340, 341, 342, 343, 344, 345, 346, 347, 348, 349, 350, 351, 352, 353, 354, 355, 356, 357, 358, 359, 360, 361, 362, 363, 364, 365, 366, 367, 368, 369, 370, 371, 372, 373, 374, 375, 376, 377, 378, 379, 380, 381, 382, 383, 384, 385, 386, 387, 388, 389, 390, 391, 392, 393, 394, 395, 396, 397, 398, 399], \"y\": [1.0, 1.0, 1.0, 1.0, 1.0, 1.0, 1.0, 1.0, 1.0, 1.0, 1.0, 1.0, 1.0, 1.0, 1.0, 1.0, 1.0, 1.0, 1.0, 1.0, 1.0, 1.0, 1.0, 0.999872680395964, 0.9993634019798199, 0.9985994843556036, 0.9976445873253335, 0.9965305407900181, 0.9952891746506668, 0.9938886590062704, 0.9923608237578381, 0.9907374988063787, 0.9890186841518923, 0.9871725498933698, 0.9852309259318204, 0.9832574720692618, 0.9811885285036763, 0.9790240952350638, 0.9767960021644333, 0.9745042492917847, 0.9721488366171182, 0.9697615940414426, 0.967310691663749, 0.9647642995830283, 0.9621542477002897, 0.959512365916542, 0.9567749944297673, 0.9540057930419836, 0.951172931852182, 0.9482764108603622, 0.9453798898685425, 0.9424197090747047, 0.9394276983798581, 0.9364038577840023, 0.9332845274851195, 0.9301651971862368, 0.926982207085336, 0.9237355571824172, 0.9204570773784894, 0.9171467676735525, 0.9138046280676068, 0.9104306585606519, 0.906993029251679, 0.9035235700416971, 0.9000541108317153, 0.8965209918197155, 0.8929560429067066, 0.8893592640926886, 0.8856988254766528, 0.8820383868606169, 0.8783779482445809, 0.874653849826527, 0.8709297514084732, 0.8671419931884012, 0.8633224050673203, 0.8595028169462393, 0.8556195690231403, 0.8517363211000414, 0.8477894133749244, 0.8438425056498075, 0.8398955979246905, 0.8358850303975555, 0.8318744628704204, 0.8278320654422765, 0.8237578381131234, 0.8196836107839705, 0.8155775535538085, 0.8114396664226374, 0.8072699493904574, 0.8031002323582773, 0.7988986854250884, 0.7946653085908902, 0.7904001018556832, 0.7861348951204762, 0.7818696883852692, 0.7775726517490531, 0.773243785211828, 0.7689149186746029, 0.7645542222363688, 0.7601935257981348, 0.7558328293599007, 0.7514084731196486, 0.7469841168793965, 0.7425597606391444, 0.7381354043988924, 0.7336792182576313, 0.7292230321163701, 0.724766845975109, 0.7202788299328389, 0.7157908138905688, 0.7113027978482986, 0.7067829519050196, 0.7022631059617405, 0.6977432600184613, 0.6931915841741733, 0.6886399083298851, 0.6840882324855969, 0.6795365566413089, 0.6749530508960118, 0.6703695451507146, 0.6657860394054175, 0.6612025336601203, 0.6566190279148232, 0.6520036922685171, 0.647388356622211, 0.6427730209759047, 0.6381895152306076, 0.6335741795843015, 0.6289588439379954, 0.6243435082916892, 0.619728172645383, 0.615144666900086, 0.6105611611547888, 0.6059458255084826, 0.6013623197631855, 0.5967788140178885, 0.5921953082725913, 0.5876436324283032, 0.583091956584015, 0.5785402807397269, 0.5739886048954388, 0.5694369290511506, 0.5649170831078716, 0.5604290670656015, 0.5559410510233314, 0.5514848648820703, 0.5470286787408091, 0.542572492599548, 0.5381481363592959, 0.5337556100200528, 0.5293630836808098, 0.5250023872425756, 0.5206735207053506, 0.5163764840691345, 0.5121112773339275, 0.5078779004997295, 0.5036763535665404, 0.49953846643536937, 0.49543240920520737, 0.4913263519750454, 0.4872839545469014, 0.48327338701976635, 0.4792628194926314, 0.4753795715695324, 0.4715281535474425, 0.4677085654263615, 0.4639526371072986, 0.4602603685902537, 0.4566317598752268, 0.4530668109622179, 0.44956552185122706, 0.4461278925422542, 0.44275392303529937, 0.4394436133303625, 0.43619696342744374, 0.43307763312856096, 0.43002196263169623, 0.4270617818378585, 0.4242289206480568, 0.4215233790622911, 0.41888149727854346, 0.41633510519782285, 0.4138842028201292, 0.4115924499474807, 0.40945984657987716, 0.40739090301429165, 0.40548110895375117, 0.4036668045962377, 0.40197981984276027, 0.4003883247923099, 0.39892414934589554, 0.3976191234045262, 0.3964732469682019, 0.39545469013591367, 0.3945634529076615, 0.3938313651844543, 0.3931947671642741, 0.392717318649139, 0.3923671897380399, 0.39217621033198585, 0.3921443804309769, 0.39217621033198585, 0.3923671897380399, 0.392717318649139, 0.3931947671642741, 0.3938313651844543, 0.3945634529076615, 0.39545469013591367, 0.3964732469682019, 0.3976191234045262, 0.39892414934589554, 0.4003883247923099, 0.40197981984276027, 0.4036668045962377, 0.40548110895375117, 0.40739090301429165, 0.40945984657987716, 0.4115924499474807, 0.4138842028201292, 0.41633510519782285, 0.41888149727854346, 0.4215233790622911, 0.4242289206480568, 0.4270617818378585, 0.43002196263169623, 0.43307763312856096, 0.43619696342744374, 0.4394436133303625, 0.44275392303529937, 0.4461278925422542, 0.44956552185122706, 0.4530668109622179, 0.4566317598752268, 0.4602603685902537, 0.4639526371072986, 0.4677085654263615, 0.4715281535474425, 0.4753795715695324, 0.4792628194926314, 0.48327338701976635, 0.4872839545469014, 0.4913263519750454, 0.49543240920520737, 0.49953846643536937, 0.5036763535665404, 0.5078779004997295, 0.5121112773339275, 0.5163764840691345, 0.5206735207053506, 0.5250023872425756, 0.5293630836808098, 0.5337556100200528, 0.5381481363592959, 0.542572492599548, 0.5470286787408091, 0.5514848648820703, 0.5559410510233314, 0.5604290670656015, 0.5649170831078716, 0.5694369290511506, 0.5739886048954388, 0.5785402807397269, 0.583091956584015, 0.5876436324283032, 0.5921953082725913, 0.5967788140178885, 0.6013623197631855, 0.6059458255084826, 0.6105611611547888, 0.615144666900086, 0.619728172645383, 0.6243435082916892, 0.6289588439379954, 0.6335741795843015, 0.6381895152306076, 0.6427730209759047, 0.647388356622211, 0.6520036922685171, 0.6566190279148232, 0.6612025336601203, 0.6657860394054175, 0.6703695451507146, 0.6749530508960118, 0.6795365566413089, 0.6840882324855969, 0.6886399083298851, 0.6931915841741733, 0.6977432600184613, 0.7022631059617405, 0.7067829519050196, 0.7113027978482986, 0.7157908138905688, 0.7202788299328389, 0.724766845975109, 0.7292230321163701, 0.7336792182576313, 0.7381354043988924, 0.7425597606391444, 0.7469841168793965, 0.7514084731196486, 0.7558328293599007, 0.7601935257981348, 0.7645542222363688, 0.7689149186746029, 0.773243785211828, 0.7775726517490531, 0.7818696883852692, 0.7861348951204762, 0.7904001018556832, 0.7946653085908902, 0.7988986854250884, 0.8031002323582773, 0.8072699493904574, 0.8114396664226374, 0.8155775535538085, 0.8196836107839705, 0.8237578381131234, 0.8278320654422765, 0.8318744628704204, 0.8358850303975555, 0.8398955979246905, 0.8438425056498075, 0.8477894133749244, 0.8517363211000414, 0.8556195690231403, 0.8595028169462393, 0.8633224050673203, 0.8671419931884012, 0.8709297514084732, 0.874653849826527, 0.8783779482445809, 0.8820383868606169, 0.8856988254766528, 0.8893592640926886, 0.8929560429067066, 0.8965209918197155, 0.9000541108317153, 0.9035235700416971, 0.906993029251679, 0.9104306585606519, 0.9138046280676068, 0.9171467676735525, 0.9204570773784894, 0.9237355571824172, 0.926982207085336, 0.9301651971862368, 0.9332845274851195, 0.9364038577840023, 0.9394276983798581, 0.9424197090747047, 0.9453798898685425, 0.9482764108603622, 0.951172931852182, 0.9540057930419836, 0.9567749944297673, 0.959512365916542, 0.9621542477002897, 0.9647642995830283, 0.967310691663749, 0.9697615940414426, 0.9721488366171182, 0.9745042492917847, 0.9767960021644333, 0.9790240952350638, 0.9811885285036763, 0.9832574720692618, 0.9852309259318204, 0.9871725498933698, 0.9890186841518923, 0.9907374988063787, 0.9923608237578381, 0.9938886590062704, 0.9952891746506668, 0.9965305407900181, 0.9976445873253335, 0.9985994843556036, 0.9993634019798199, 0.999872680395964, 1.0, 1.0, 1.0, 1.0, 1.0, 1.0, 1.0, 1.0, 1.0, 1.0, 1.0, 1.0, 1.0, 1.0, 1.0, 1.0, 1.0, 1.0, 1.0, 1.0, 1.0, 1.0]}, {\"line\": {\"color\": \"blue\", \"width\": 2}, \"mode\": \"lines\", \"name\": \"Light from a Star\", \"type\": \"scatter\", \"x\": [0, 1, 2, 3, 4, 5, 6, 7, 8, 9, 10, 11, 12, 13, 14, 15, 16, 17, 18, 19, 20, 21, 22, 23, 24, 25, 26, 27, 28, 29, 30, 31, 32, 33, 34, 35, 36, 37, 38, 39, 40, 41, 42, 43, 44, 45, 46, 47, 48, 49, 50, 51, 52, 53, 54, 55, 56, 57, 58, 59, 60, 61, 62, 63, 64, 65, 66, 67, 68, 69, 70, 71, 72, 73, 74, 75, 76, 77, 78, 79, 80, 81, 82, 83, 84, 85, 86, 87, 88, 89, 90, 91, 92, 93, 94, 95, 96, 97, 98, 99, 100, 101, 102, 103, 104, 105, 106, 107, 108, 109, 110, 111, 112, 113, 114, 115, 116, 117, 118, 119, 120, 121, 122, 123, 124, 125, 126, 127, 128, 129, 130, 131, 132, 133, 134, 135, 136, 137, 138, 139, 140, 141, 142, 143, 144, 145, 146, 147, 148, 149, 150, 151, 152, 153, 154, 155, 156, 157, 158, 159, 160, 161, 162, 163, 164, 165, 166, 167, 168, 169, 170, 171, 172, 173, 174, 175, 176, 177, 178, 179, 180, 181, 182, 183, 184, 185, 186, 187, 188, 189, 190, 191, 192, 193, 194, 195, 196, 197, 198, 199, 200, 201, 202, 203, 204, 205, 206, 207, 208, 209, 210, 211, 212, 213, 214, 215, 216, 217, 218, 219, 220, 221, 222, 223, 224, 225, 226, 227, 228, 229, 230, 231, 232, 233, 234, 235, 236, 237, 238, 239, 240, 241, 242, 243, 244, 245, 246, 247, 248, 249, 250, 251, 252, 253, 254, 255, 256, 257, 258, 259, 260, 261, 262, 263, 264, 265, 266, 267, 268, 269, 270, 271, 272, 273, 274, 275, 276, 277, 278, 279, 280, 281, 282, 283, 284, 285, 286, 287, 288, 289, 290, 291, 292, 293, 294, 295, 296, 297, 298, 299, 300, 301, 302, 303, 304, 305, 306, 307, 308, 309, 310, 311, 312, 313, 314, 315, 316, 317, 318, 319, 320, 321, 322, 323, 324, 325, 326, 327, 328, 329, 330, 331, 332, 333, 334, 335, 336, 337, 338, 339, 340, 341, 342, 343, 344, 345, 346, 347, 348, 349, 350, 351, 352, 353, 354, 355, 356, 357, 358, 359, 360, 361, 362, 363, 364, 365, 366, 367, 368, 369, 370, 371, 372, 373, 374, 375, 376, 377, 378, 379, 380, 381, 382, 383, 384, 385, 386, 387, 388, 389, 390, 391, 392, 393, 394, 395, 396, 397, 398, 399], \"y\": [1.0, 1.0, 1.0, 1.0, 1.0, 1.0, 1.0, 1.0, 1.0, 1.0, 1.0, 1.0, 1.0, 1.0, 1.0, 1.0, 1.0, 1.0, 1.0, 1.0, 1.0, 1.0, 1.0, 0.999872680395964, 0.9993634019798199, 0.9985994843556036, 0.9976445873253335, 0.9965305407900181, 0.9952891746506668, 0.9938886590062704, 0.9923608237578381, 0.9907374988063787, 0.9890186841518923, 0.9871725498933698, 0.9852309259318204, 0.9832574720692618, 0.9811885285036763, 0.9790240952350638, 0.9767960021644333, 0.9745042492917847, 0.9721488366171182, 0.9697615940414426, 0.967310691663749, 0.9647642995830283, 0.9621542477002897, 0.959512365916542, 0.9567749944297673, 0.9540057930419836, 0.951172931852182, 0.9482764108603622, 0.9453798898685425, 0.9424197090747047, 0.9394276983798581, 0.9364038577840023, 0.9332845274851195, 0.9301651971862368, 0.926982207085336, 0.9237355571824172, 0.9204570773784894, 0.9171467676735525, 0.9138046280676068, 0.9104306585606519, 0.906993029251679, 0.9035235700416971, 0.9000541108317153, 0.8965209918197155, 0.8929560429067066, 0.8893592640926886, 0.8856988254766528, 0.8820383868606169, 0.8783779482445809, 0.874653849826527, 0.8709297514084732, 0.8671419931884012, 0.8633224050673203, 0.8595028169462393, 0.8556195690231403, 0.8517363211000414, 0.8477894133749244, 0.8438425056498075, 0.8398955979246905, 0.8358850303975555, 0.8318744628704204, 0.8278320654422765, 0.8237578381131234, 0.8196836107839705, 0.8155775535538085, 0.8114396664226374, 0.8072699493904574, 0.8031002323582773, 0.7988986854250884, 0.7946653085908902, 0.7904001018556832, 0.7861348951204762, 0.7818696883852692, 0.7775726517490531, 0.773243785211828, 0.7689149186746029, 0.7645542222363688, 0.7601935257981348, 0.7558328293599007, 0.7514084731196486, 0.7469841168793965, 0.7425597606391444, 0.7381354043988924, 0.7336792182576313, 0.7292230321163701, 0.724766845975109, 0.7202788299328389, 0.7157908138905688, 0.7113027978482986, 0.7067829519050196, 0.7022631059617405, 0.6977432600184613, 0.6931915841741733, 0.6886399083298851, 0.6840882324855969, 0.6795365566413089, 0.6749530508960118, 0.6703695451507146, 0.6657860394054175, 0.6612025336601203, 0.6566190279148232, 0.6520036922685171, 0.647388356622211, 0.6427730209759047, 0.6381895152306076, 0.6335741795843015, 0.6289588439379954, 0.6243435082916892, 0.619728172645383, 0.615144666900086, 0.6105611611547888, 0.6059458255084826, 0.6013623197631855, 0.5967788140178885, 0.5921953082725913, 0.5876436324283032, 0.583091956584015, 0.5785402807397269, 0.5739886048954388, 0.5694369290511506, 0.5649170831078716, 0.5604290670656015, 0.5559410510233314, 0.5514848648820703, 0.5470286787408091, 0.542572492599548, 0.5381481363592959, 0.5337556100200528, 0.5293630836808098, 0.5250023872425756, 0.5206735207053506, 0.5163764840691345, 0.5121112773339275, 0.5078779004997295, 0.5036763535665404, 0.49953846643536937, 0.49543240920520737, 0.4913263519750454, 0.4872839545469014, 0.48327338701976635, 0.4792628194926314, 0.4753795715695324, 0.4715281535474425, 0.4677085654263615, 0.4639526371072986, 0.4602603685902537, 0.4566317598752268, 0.4530668109622179, 0.44956552185122706, 0.4461278925422542, 0.44275392303529937, 0.4394436133303625, 0.43619696342744374, 0.43307763312856096, 0.43002196263169623, 0.4270617818378585, 0.4242289206480568, 0.4215233790622911, 0.41888149727854346, 0.41633510519782285, 0.4138842028201292, 0.4115924499474807, 0.40945984657987716, 0.40739090301429165, 0.40548110895375117, 0.4036668045962377, 0.40197981984276027, 0.4003883247923099, 0.39892414934589554, 0.3976191234045262, 0.3964732469682019, 0.39545469013591367, 0.3945634529076615, 0.3938313651844543, 0.3931947671642741, 0.392717318649139, 0.3923671897380399, 0.39217621033198585, 0.3921443804309769, 0.39217621033198585, 0.3923671897380399, 0.392717318649139, 0.3931947671642741, 0.3938313651844543, 0.3945634529076615, 0.39545469013591367, 0.3964732469682019, 0.3976191234045262, 0.39892414934589554, 0.4003883247923099, 0.40197981984276027, 0.4036668045962377, 0.40548110895375117, 0.40739090301429165, 0.40945984657987716, 0.4115924499474807, 0.4138842028201292, 0.41633510519782285, 0.41888149727854346, 0.4215233790622911, 0.4242289206480568, 0.4270617818378585, 0.43002196263169623, 0.43307763312856096, 0.43619696342744374, 0.4394436133303625, 0.44275392303529937, 0.4461278925422542, 0.44956552185122706, 0.4530668109622179, 0.4566317598752268, 0.4602603685902537, 0.4639526371072986, 0.4677085654263615, 0.4715281535474425, 0.4753795715695324, 0.4792628194926314, 0.48327338701976635, 0.4872839545469014, 0.4913263519750454, 0.49543240920520737, 0.49953846643536937, 0.5036763535665404, 0.5078779004997295, 0.5121112773339275, 0.5163764840691345, 0.5206735207053506, 0.5250023872425756, 0.5293630836808098, 0.5337556100200528, 0.5381481363592959, 0.542572492599548, 0.5470286787408091, 0.5514848648820703, 0.5559410510233314, 0.5604290670656015, 0.5649170831078716, 0.5694369290511506, 0.5739886048954388, 0.5785402807397269, 0.583091956584015, 0.5876436324283032, 0.5921953082725913, 0.5967788140178885, 0.6013623197631855, 0.6059458255084826, 0.6105611611547888, 0.615144666900086, 0.619728172645383, 0.6243435082916892, 0.6289588439379954, 0.6335741795843015, 0.6381895152306076, 0.6427730209759047, 0.647388356622211, 0.6520036922685171, 0.6566190279148232, 0.6612025336601203, 0.6657860394054175, 0.6703695451507146, 0.6749530508960118, 0.6795365566413089, 0.6840882324855969, 0.6886399083298851, 0.6931915841741733, 0.6977432600184613, 0.7022631059617405, 0.7067829519050196, 0.7113027978482986, 0.7157908138905688, 0.7202788299328389, 0.724766845975109, 0.7292230321163701, 0.7336792182576313, 0.7381354043988924, 0.7425597606391444, 0.7469841168793965, 0.7514084731196486, 0.7558328293599007, 0.7601935257981348, 0.7645542222363688, 0.7689149186746029, 0.773243785211828, 0.7775726517490531, 0.7818696883852692, 0.7861348951204762, 0.7904001018556832, 0.7946653085908902, 0.7988986854250884, 0.8031002323582773, 0.8072699493904574, 0.8114396664226374, 0.8155775535538085, 0.8196836107839705, 0.8237578381131234, 0.8278320654422765, 0.8318744628704204, 0.8358850303975555, 0.8398955979246905, 0.8438425056498075, 0.8477894133749244, 0.8517363211000414, 0.8556195690231403, 0.8595028169462393, 0.8633224050673203, 0.8671419931884012, 0.8709297514084732, 0.874653849826527, 0.8783779482445809, 0.8820383868606169, 0.8856988254766528, 0.8893592640926886, 0.8929560429067066, 0.8965209918197155, 0.9000541108317153, 0.9035235700416971, 0.906993029251679, 0.9104306585606519, 0.9138046280676068, 0.9171467676735525, 0.9204570773784894, 0.9237355571824172, 0.926982207085336, 0.9301651971862368, 0.9332845274851195, 0.9364038577840023, 0.9394276983798581, 0.9424197090747047, 0.9453798898685425, 0.9482764108603622, 0.951172931852182, 0.9540057930419836, 0.9567749944297673, 0.959512365916542, 0.9621542477002897, 0.9647642995830283, 0.967310691663749, 0.9697615940414426, 0.9721488366171182, 0.9745042492917847, 0.9767960021644333, 0.9790240952350638, 0.9811885285036763, 0.9832574720692618, 0.9852309259318204, 0.9871725498933698, 0.9890186841518923, 0.9907374988063787, 0.9923608237578381, 0.9938886590062704, 0.9952891746506668, 0.9965305407900181, 0.9976445873253335, 0.9985994843556036, 0.9993634019798199, 0.999872680395964, 1.0, 1.0, 1.0, 1.0, 1.0, 1.0, 1.0, 1.0, 1.0, 1.0, 1.0, 1.0, 1.0, 1.0, 1.0, 1.0, 1.0, 1.0, 1.0, 1.0, 1.0, 1.0]}],\n",
       "                        {\"annotations\": [{\"arrowhead\": 7, \"ax\": 0, \"ay\": -40, \"showarrow\": true, \"text\": \"Planet starts to occult the star\", \"x\": 22, \"xref\": \"x\", \"y\": 1.0, \"yref\": \"y\"}, {\"arrowhead\": 7, \"ax\": 0, \"ay\": -40, \"showarrow\": true, \"text\": \"Planet is fully in front of the star\", \"x\": 199, \"xref\": \"x\", \"y\": 0.39217621033198585, \"yref\": \"y\"}, {\"arrowhead\": 7, \"ax\": 0, \"ay\": 40, \"showarrow\": true, \"text\": \"Planet has reached the edge of the star\", \"x\": 200, \"xref\": \"x\", \"y\": 0.3921443804309769, \"yref\": \"y\"}, {\"arrowhead\": 7, \"ax\": 0, \"ay\": -40, \"showarrow\": true, \"text\": \"Planet has stopped occulting the star\", \"x\": 377, \"xref\": \"x\", \"y\": 0.999872680395964, \"yref\": \"y\"}], \"hovermode\": \"closest\", \"showlegend\": false, \"template\": {\"data\": {\"bar\": [{\"error_x\": {\"color\": \"#2a3f5f\"}, \"error_y\": {\"color\": \"#2a3f5f\"}, \"marker\": {\"line\": {\"color\": \"#E5ECF6\", \"width\": 0.5}}, \"type\": \"bar\"}], \"barpolar\": [{\"marker\": {\"line\": {\"color\": \"#E5ECF6\", \"width\": 0.5}}, \"type\": \"barpolar\"}], \"carpet\": [{\"aaxis\": {\"endlinecolor\": \"#2a3f5f\", \"gridcolor\": \"white\", \"linecolor\": \"white\", \"minorgridcolor\": \"white\", \"startlinecolor\": \"#2a3f5f\"}, \"baxis\": {\"endlinecolor\": \"#2a3f5f\", \"gridcolor\": \"white\", \"linecolor\": \"white\", \"minorgridcolor\": \"white\", \"startlinecolor\": \"#2a3f5f\"}, \"type\": \"carpet\"}], \"choropleth\": [{\"colorbar\": {\"outlinewidth\": 0, \"ticks\": \"\"}, \"type\": \"choropleth\"}], \"contour\": [{\"colorbar\": {\"outlinewidth\": 0, \"ticks\": \"\"}, \"colorscale\": [[0.0, \"#0d0887\"], [0.1111111111111111, \"#46039f\"], [0.2222222222222222, \"#7201a8\"], [0.3333333333333333, \"#9c179e\"], [0.4444444444444444, \"#bd3786\"], [0.5555555555555556, \"#d8576b\"], [0.6666666666666666, \"#ed7953\"], [0.7777777777777778, \"#fb9f3a\"], [0.8888888888888888, \"#fdca26\"], [1.0, \"#f0f921\"]], \"type\": \"contour\"}], \"contourcarpet\": [{\"colorbar\": {\"outlinewidth\": 0, \"ticks\": \"\"}, \"type\": \"contourcarpet\"}], \"heatmap\": [{\"colorbar\": {\"outlinewidth\": 0, \"ticks\": \"\"}, \"colorscale\": [[0.0, \"#0d0887\"], [0.1111111111111111, \"#46039f\"], [0.2222222222222222, \"#7201a8\"], [0.3333333333333333, \"#9c179e\"], [0.4444444444444444, \"#bd3786\"], [0.5555555555555556, \"#d8576b\"], [0.6666666666666666, \"#ed7953\"], [0.7777777777777778, \"#fb9f3a\"], [0.8888888888888888, \"#fdca26\"], [1.0, \"#f0f921\"]], \"type\": \"heatmap\"}], \"heatmapgl\": [{\"colorbar\": {\"outlinewidth\": 0, \"ticks\": \"\"}, \"colorscale\": [[0.0, \"#0d0887\"], [0.1111111111111111, \"#46039f\"], [0.2222222222222222, \"#7201a8\"], [0.3333333333333333, \"#9c179e\"], [0.4444444444444444, \"#bd3786\"], [0.5555555555555556, \"#d8576b\"], [0.6666666666666666, \"#ed7953\"], [0.7777777777777778, \"#fb9f3a\"], [0.8888888888888888, \"#fdca26\"], [1.0, \"#f0f921\"]], \"type\": \"heatmapgl\"}], \"histogram\": [{\"marker\": {\"colorbar\": {\"outlinewidth\": 0, \"ticks\": \"\"}}, \"type\": \"histogram\"}], \"histogram2d\": [{\"colorbar\": {\"outlinewidth\": 0, \"ticks\": \"\"}, \"colorscale\": [[0.0, \"#0d0887\"], [0.1111111111111111, \"#46039f\"], [0.2222222222222222, \"#7201a8\"], [0.3333333333333333, \"#9c179e\"], [0.4444444444444444, \"#bd3786\"], [0.5555555555555556, \"#d8576b\"], [0.6666666666666666, \"#ed7953\"], [0.7777777777777778, \"#fb9f3a\"], [0.8888888888888888, \"#fdca26\"], [1.0, \"#f0f921\"]], \"type\": \"histogram2d\"}], \"histogram2dcontour\": [{\"colorbar\": {\"outlinewidth\": 0, \"ticks\": \"\"}, \"colorscale\": [[0.0, \"#0d0887\"], [0.1111111111111111, \"#46039f\"], [0.2222222222222222, \"#7201a8\"], [0.3333333333333333, \"#9c179e\"], [0.4444444444444444, \"#bd3786\"], [0.5555555555555556, \"#d8576b\"], [0.6666666666666666, \"#ed7953\"], [0.7777777777777778, \"#fb9f3a\"], [0.8888888888888888, \"#fdca26\"], [1.0, \"#f0f921\"]], \"type\": \"histogram2dcontour\"}], \"mesh3d\": [{\"colorbar\": {\"outlinewidth\": 0, \"ticks\": \"\"}, \"type\": \"mesh3d\"}], \"parcoords\": [{\"line\": {\"colorbar\": {\"outlinewidth\": 0, \"ticks\": \"\"}}, \"type\": \"parcoords\"}], \"pie\": [{\"automargin\": true, \"type\": \"pie\"}], \"scatter\": [{\"marker\": {\"colorbar\": {\"outlinewidth\": 0, \"ticks\": \"\"}}, \"type\": \"scatter\"}], \"scatter3d\": [{\"line\": {\"colorbar\": {\"outlinewidth\": 0, \"ticks\": \"\"}}, \"marker\": {\"colorbar\": {\"outlinewidth\": 0, \"ticks\": \"\"}}, \"type\": \"scatter3d\"}], \"scattercarpet\": [{\"marker\": {\"colorbar\": {\"outlinewidth\": 0, \"ticks\": \"\"}}, \"type\": \"scattercarpet\"}], \"scattergeo\": [{\"marker\": {\"colorbar\": {\"outlinewidth\": 0, \"ticks\": \"\"}}, \"type\": \"scattergeo\"}], \"scattergl\": [{\"marker\": {\"colorbar\": {\"outlinewidth\": 0, \"ticks\": \"\"}}, \"type\": \"scattergl\"}], \"scattermapbox\": [{\"marker\": {\"colorbar\": {\"outlinewidth\": 0, \"ticks\": \"\"}}, \"type\": \"scattermapbox\"}], \"scatterpolar\": [{\"marker\": {\"colorbar\": {\"outlinewidth\": 0, \"ticks\": \"\"}}, \"type\": \"scatterpolar\"}], \"scatterpolargl\": [{\"marker\": {\"colorbar\": {\"outlinewidth\": 0, \"ticks\": \"\"}}, \"type\": \"scatterpolargl\"}], \"scatterternary\": [{\"marker\": {\"colorbar\": {\"outlinewidth\": 0, \"ticks\": \"\"}}, \"type\": \"scatterternary\"}], \"surface\": [{\"colorbar\": {\"outlinewidth\": 0, \"ticks\": \"\"}, \"colorscale\": [[0.0, \"#0d0887\"], [0.1111111111111111, \"#46039f\"], [0.2222222222222222, \"#7201a8\"], [0.3333333333333333, \"#9c179e\"], [0.4444444444444444, \"#bd3786\"], [0.5555555555555556, \"#d8576b\"], [0.6666666666666666, \"#ed7953\"], [0.7777777777777778, \"#fb9f3a\"], [0.8888888888888888, \"#fdca26\"], [1.0, \"#f0f921\"]], \"type\": \"surface\"}], \"table\": [{\"cells\": {\"fill\": {\"color\": \"#EBF0F8\"}, \"line\": {\"color\": \"white\"}}, \"header\": {\"fill\": {\"color\": \"#C8D4E3\"}, \"line\": {\"color\": \"white\"}}, \"type\": \"table\"}]}, \"layout\": {\"annotationdefaults\": {\"arrowcolor\": \"#2a3f5f\", \"arrowhead\": 0, \"arrowwidth\": 1}, \"coloraxis\": {\"colorbar\": {\"outlinewidth\": 0, \"ticks\": \"\"}}, \"colorscale\": {\"diverging\": [[0, \"#8e0152\"], [0.1, \"#c51b7d\"], [0.2, \"#de77ae\"], [0.3, \"#f1b6da\"], [0.4, \"#fde0ef\"], [0.5, \"#f7f7f7\"], [0.6, \"#e6f5d0\"], [0.7, \"#b8e186\"], [0.8, \"#7fbc41\"], [0.9, \"#4d9221\"], [1, \"#276419\"]], \"sequential\": [[0.0, \"#0d0887\"], [0.1111111111111111, \"#46039f\"], [0.2222222222222222, \"#7201a8\"], [0.3333333333333333, \"#9c179e\"], [0.4444444444444444, \"#bd3786\"], [0.5555555555555556, \"#d8576b\"], [0.6666666666666666, \"#ed7953\"], [0.7777777777777778, \"#fb9f3a\"], [0.8888888888888888, \"#fdca26\"], [1.0, \"#f0f921\"]], \"sequentialminus\": [[0.0, \"#0d0887\"], [0.1111111111111111, \"#46039f\"], [0.2222222222222222, \"#7201a8\"], [0.3333333333333333, \"#9c179e\"], [0.4444444444444444, \"#bd3786\"], [0.5555555555555556, \"#d8576b\"], [0.6666666666666666, \"#ed7953\"], [0.7777777777777778, \"#fb9f3a\"], [0.8888888888888888, \"#fdca26\"], [1.0, \"#f0f921\"]]}, \"colorway\": [\"#636efa\", \"#EF553B\", \"#00cc96\", \"#ab63fa\", \"#FFA15A\", \"#19d3f3\", \"#FF6692\", \"#B6E880\", \"#FF97FF\", \"#FECB52\"], \"font\": {\"color\": \"#2a3f5f\"}, \"geo\": {\"bgcolor\": \"white\", \"lakecolor\": \"white\", \"landcolor\": \"#E5ECF6\", \"showlakes\": true, \"showland\": true, \"subunitcolor\": \"white\"}, \"hoverlabel\": {\"align\": \"left\"}, \"hovermode\": \"closest\", \"mapbox\": {\"style\": \"light\"}, \"paper_bgcolor\": \"white\", \"plot_bgcolor\": \"#E5ECF6\", \"polar\": {\"angularaxis\": {\"gridcolor\": \"white\", \"linecolor\": \"white\", \"ticks\": \"\"}, \"bgcolor\": \"#E5ECF6\", \"radialaxis\": {\"gridcolor\": \"white\", \"linecolor\": \"white\", \"ticks\": \"\"}}, \"scene\": {\"xaxis\": {\"backgroundcolor\": \"#E5ECF6\", \"gridcolor\": \"white\", \"gridwidth\": 2, \"linecolor\": \"white\", \"showbackground\": true, \"ticks\": \"\", \"zerolinecolor\": \"white\"}, \"yaxis\": {\"backgroundcolor\": \"#E5ECF6\", \"gridcolor\": \"white\", \"gridwidth\": 2, \"linecolor\": \"white\", \"showbackground\": true, \"ticks\": \"\", \"zerolinecolor\": \"white\"}, \"zaxis\": {\"backgroundcolor\": \"#E5ECF6\", \"gridcolor\": \"white\", \"gridwidth\": 2, \"linecolor\": \"white\", \"showbackground\": true, \"ticks\": \"\", \"zerolinecolor\": \"white\"}}, \"shapedefaults\": {\"line\": {\"color\": \"#2a3f5f\"}}, \"ternary\": {\"aaxis\": {\"gridcolor\": \"white\", \"linecolor\": \"white\", \"ticks\": \"\"}, \"baxis\": {\"gridcolor\": \"white\", \"linecolor\": \"white\", \"ticks\": \"\"}, \"bgcolor\": \"#E5ECF6\", \"caxis\": {\"gridcolor\": \"white\", \"linecolor\": \"white\", \"ticks\": \"\"}}, \"title\": {\"x\": 0.05}, \"xaxis\": {\"automargin\": true, \"gridcolor\": \"white\", \"linecolor\": \"white\", \"ticks\": \"\", \"title\": {\"standoff\": 15}, \"zerolinecolor\": \"white\", \"zerolinewidth\": 2}, \"yaxis\": {\"automargin\": true, \"gridcolor\": \"white\", \"linecolor\": \"white\", \"ticks\": \"\", \"title\": {\"standoff\": 15}, \"zerolinecolor\": \"white\", \"zerolinewidth\": 2}}}, \"title\": {\"text\": \"Exoplanet Transit\"}, \"updatemenus\": [{\"buttons\": [{\"args\": [null], \"label\": \"Play\", \"method\": \"animate\"}], \"type\": \"buttons\"}], \"xaxis\": {\"autorange\": false, \"range\": [0, 400], \"title\": {\"text\": \"Time\"}, \"zeroline\": false}, \"yaxis\": {\"autorange\": false, \"range\": [0, 1.3], \"title\": {\"text\": \"Flux\"}, \"zeroline\": false}},\n",
       "                        {\"responsive\": true}\n",
       "                    ).then(function(){\n",
       "                            Plotly.addFrames('46157d98-b5bb-422b-9a0d-f0375ce51dba', [{\"data\": [{\"marker\": {\"color\": \"red\", \"size\": 10}, \"mode\": \"markers\", \"x\": [0], \"y\": [1.0], \"type\": \"scatter\"}]}, {\"data\": [{\"marker\": {\"color\": \"red\", \"size\": 10}, \"mode\": \"markers\", \"x\": [5], \"y\": [1.0], \"type\": \"scatter\"}]}, {\"data\": [{\"marker\": {\"color\": \"red\", \"size\": 10}, \"mode\": \"markers\", \"x\": [10], \"y\": [1.0], \"type\": \"scatter\"}]}, {\"data\": [{\"marker\": {\"color\": \"red\", \"size\": 10}, \"mode\": \"markers\", \"x\": [15], \"y\": [1.0], \"type\": \"scatter\"}]}, {\"data\": [{\"marker\": {\"color\": \"red\", \"size\": 10}, \"mode\": \"markers\", \"x\": [20], \"y\": [1.0], \"type\": \"scatter\"}]}, {\"data\": [{\"marker\": {\"color\": \"red\", \"size\": 10}, \"mode\": \"markers\", \"x\": [25], \"y\": [0.9985994843556036], \"type\": \"scatter\"}]}, {\"data\": [{\"marker\": {\"color\": \"red\", \"size\": 10}, \"mode\": \"markers\", \"x\": [30], \"y\": [0.9923608237578381], \"type\": \"scatter\"}]}, {\"data\": [{\"marker\": {\"color\": \"red\", \"size\": 10}, \"mode\": \"markers\", \"x\": [35], \"y\": [0.9832574720692618], \"type\": \"scatter\"}]}, {\"data\": [{\"marker\": {\"color\": \"red\", \"size\": 10}, \"mode\": \"markers\", \"x\": [40], \"y\": [0.9721488366171182], \"type\": \"scatter\"}]}, {\"data\": [{\"marker\": {\"color\": \"red\", \"size\": 10}, \"mode\": \"markers\", \"x\": [45], \"y\": [0.959512365916542], \"type\": \"scatter\"}]}, {\"data\": [{\"marker\": {\"color\": \"red\", \"size\": 10}, \"mode\": \"markers\", \"x\": [50], \"y\": [0.9453798898685425], \"type\": \"scatter\"}]}, {\"data\": [{\"marker\": {\"color\": \"red\", \"size\": 10}, \"mode\": \"markers\", \"x\": [55], \"y\": [0.9301651971862368], \"type\": \"scatter\"}]}, {\"data\": [{\"marker\": {\"color\": \"red\", \"size\": 10}, \"mode\": \"markers\", \"x\": [60], \"y\": [0.9138046280676068], \"type\": \"scatter\"}]}, {\"data\": [{\"marker\": {\"color\": \"red\", \"size\": 10}, \"mode\": \"markers\", \"x\": [65], \"y\": [0.8965209918197155], \"type\": \"scatter\"}]}, {\"data\": [{\"marker\": {\"color\": \"red\", \"size\": 10}, \"mode\": \"markers\", \"x\": [70], \"y\": [0.8783779482445809], \"type\": \"scatter\"}]}, {\"data\": [{\"marker\": {\"color\": \"red\", \"size\": 10}, \"mode\": \"markers\", \"x\": [75], \"y\": [0.8595028169462393], \"type\": \"scatter\"}]}, {\"data\": [{\"marker\": {\"color\": \"red\", \"size\": 10}, \"mode\": \"markers\", \"x\": [80], \"y\": [0.8398955979246905], \"type\": \"scatter\"}]}, {\"data\": [{\"marker\": {\"color\": \"red\", \"size\": 10}, \"mode\": \"markers\", \"x\": [85], \"y\": [0.8196836107839705], \"type\": \"scatter\"}]}, {\"data\": [{\"marker\": {\"color\": \"red\", \"size\": 10}, \"mode\": \"markers\", \"x\": [90], \"y\": [0.7988986854250884], \"type\": \"scatter\"}]}, {\"data\": [{\"marker\": {\"color\": \"red\", \"size\": 10}, \"mode\": \"markers\", \"x\": [95], \"y\": [0.7775726517490531], \"type\": \"scatter\"}]}, {\"data\": [{\"marker\": {\"color\": \"red\", \"size\": 10}, \"mode\": \"markers\", \"x\": [100], \"y\": [0.7558328293599007], \"type\": \"scatter\"}]}, {\"data\": [{\"marker\": {\"color\": \"red\", \"size\": 10}, \"mode\": \"markers\", \"x\": [105], \"y\": [0.7336792182576313], \"type\": \"scatter\"}]}, {\"data\": [{\"marker\": {\"color\": \"red\", \"size\": 10}, \"mode\": \"markers\", \"x\": [110], \"y\": [0.7113027978482986], \"type\": \"scatter\"}]}, {\"data\": [{\"marker\": {\"color\": \"red\", \"size\": 10}, \"mode\": \"markers\", \"x\": [115], \"y\": [0.6886399083298851], \"type\": \"scatter\"}]}, {\"data\": [{\"marker\": {\"color\": \"red\", \"size\": 10}, \"mode\": \"markers\", \"x\": [120], \"y\": [0.6657860394054175], \"type\": \"scatter\"}]}, {\"data\": [{\"marker\": {\"color\": \"red\", \"size\": 10}, \"mode\": \"markers\", \"x\": [125], \"y\": [0.6427730209759047], \"type\": \"scatter\"}]}, {\"data\": [{\"marker\": {\"color\": \"red\", \"size\": 10}, \"mode\": \"markers\", \"x\": [130], \"y\": [0.619728172645383], \"type\": \"scatter\"}]}, {\"data\": [{\"marker\": {\"color\": \"red\", \"size\": 10}, \"mode\": \"markers\", \"x\": [135], \"y\": [0.5967788140178885], \"type\": \"scatter\"}]}, {\"data\": [{\"marker\": {\"color\": \"red\", \"size\": 10}, \"mode\": \"markers\", \"x\": [140], \"y\": [0.5739886048954388], \"type\": \"scatter\"}]}, {\"data\": [{\"marker\": {\"color\": \"red\", \"size\": 10}, \"mode\": \"markers\", \"x\": [145], \"y\": [0.5514848648820703], \"type\": \"scatter\"}]}, {\"data\": [{\"marker\": {\"color\": \"red\", \"size\": 10}, \"mode\": \"markers\", \"x\": [150], \"y\": [0.5293630836808098], \"type\": \"scatter\"}]}, {\"data\": [{\"marker\": {\"color\": \"red\", \"size\": 10}, \"mode\": \"markers\", \"x\": [155], \"y\": [0.5078779004997295], \"type\": \"scatter\"}]}, {\"data\": [{\"marker\": {\"color\": \"red\", \"size\": 10}, \"mode\": \"markers\", \"x\": [160], \"y\": [0.4872839545469014], \"type\": \"scatter\"}]}, {\"data\": [{\"marker\": {\"color\": \"red\", \"size\": 10}, \"mode\": \"markers\", \"x\": [165], \"y\": [0.4677085654263615], \"type\": \"scatter\"}]}, {\"data\": [{\"marker\": {\"color\": \"red\", \"size\": 10}, \"mode\": \"markers\", \"x\": [170], \"y\": [0.44956552185122706], \"type\": \"scatter\"}]}, {\"data\": [{\"marker\": {\"color\": \"red\", \"size\": 10}, \"mode\": \"markers\", \"x\": [175], \"y\": [0.43307763312856096], \"type\": \"scatter\"}]}, {\"data\": [{\"marker\": {\"color\": \"red\", \"size\": 10}, \"mode\": \"markers\", \"x\": [180], \"y\": [0.41888149727854346], \"type\": \"scatter\"}]}, {\"data\": [{\"marker\": {\"color\": \"red\", \"size\": 10}, \"mode\": \"markers\", \"x\": [185], \"y\": [0.40739090301429165], \"type\": \"scatter\"}]}, {\"data\": [{\"marker\": {\"color\": \"red\", \"size\": 10}, \"mode\": \"markers\", \"x\": [190], \"y\": [0.39892414934589554], \"type\": \"scatter\"}]}, {\"data\": [{\"marker\": {\"color\": \"red\", \"size\": 10}, \"mode\": \"markers\", \"x\": [195], \"y\": [0.3938313651844543], \"type\": \"scatter\"}]}, {\"data\": [{\"marker\": {\"color\": \"red\", \"size\": 10}, \"mode\": \"markers\", \"x\": [200], \"y\": [0.3921443804309769], \"type\": \"scatter\"}]}, {\"data\": [{\"marker\": {\"color\": \"red\", \"size\": 10}, \"mode\": \"markers\", \"x\": [205], \"y\": [0.3938313651844543], \"type\": \"scatter\"}]}, {\"data\": [{\"marker\": {\"color\": \"red\", \"size\": 10}, \"mode\": \"markers\", \"x\": [210], \"y\": [0.39892414934589554], \"type\": \"scatter\"}]}, {\"data\": [{\"marker\": {\"color\": \"red\", \"size\": 10}, \"mode\": \"markers\", \"x\": [215], \"y\": [0.40739090301429165], \"type\": \"scatter\"}]}, {\"data\": [{\"marker\": {\"color\": \"red\", \"size\": 10}, \"mode\": \"markers\", \"x\": [220], \"y\": [0.41888149727854346], \"type\": \"scatter\"}]}, {\"data\": [{\"marker\": {\"color\": \"red\", \"size\": 10}, \"mode\": \"markers\", \"x\": [225], \"y\": [0.43307763312856096], \"type\": \"scatter\"}]}, {\"data\": [{\"marker\": {\"color\": \"red\", \"size\": 10}, \"mode\": \"markers\", \"x\": [230], \"y\": [0.44956552185122706], \"type\": \"scatter\"}]}, {\"data\": [{\"marker\": {\"color\": \"red\", \"size\": 10}, \"mode\": \"markers\", \"x\": [235], \"y\": [0.4677085654263615], \"type\": \"scatter\"}]}, {\"data\": [{\"marker\": {\"color\": \"red\", \"size\": 10}, \"mode\": \"markers\", \"x\": [240], \"y\": [0.4872839545469014], \"type\": \"scatter\"}]}, {\"data\": [{\"marker\": {\"color\": \"red\", \"size\": 10}, \"mode\": \"markers\", \"x\": [245], \"y\": [0.5078779004997295], \"type\": \"scatter\"}]}, {\"data\": [{\"marker\": {\"color\": \"red\", \"size\": 10}, \"mode\": \"markers\", \"x\": [250], \"y\": [0.5293630836808098], \"type\": \"scatter\"}]}, {\"data\": [{\"marker\": {\"color\": \"red\", \"size\": 10}, \"mode\": \"markers\", \"x\": [255], \"y\": [0.5514848648820703], \"type\": \"scatter\"}]}, {\"data\": [{\"marker\": {\"color\": \"red\", \"size\": 10}, \"mode\": \"markers\", \"x\": [260], \"y\": [0.5739886048954388], \"type\": \"scatter\"}]}, {\"data\": [{\"marker\": {\"color\": \"red\", \"size\": 10}, \"mode\": \"markers\", \"x\": [265], \"y\": [0.5967788140178885], \"type\": \"scatter\"}]}, {\"data\": [{\"marker\": {\"color\": \"red\", \"size\": 10}, \"mode\": \"markers\", \"x\": [270], \"y\": [0.619728172645383], \"type\": \"scatter\"}]}, {\"data\": [{\"marker\": {\"color\": \"red\", \"size\": 10}, \"mode\": \"markers\", \"x\": [275], \"y\": [0.6427730209759047], \"type\": \"scatter\"}]}, {\"data\": [{\"marker\": {\"color\": \"red\", \"size\": 10}, \"mode\": \"markers\", \"x\": [280], \"y\": [0.6657860394054175], \"type\": \"scatter\"}]}, {\"data\": [{\"marker\": {\"color\": \"red\", \"size\": 10}, \"mode\": \"markers\", \"x\": [285], \"y\": [0.6886399083298851], \"type\": \"scatter\"}]}, {\"data\": [{\"marker\": {\"color\": \"red\", \"size\": 10}, \"mode\": \"markers\", \"x\": [290], \"y\": [0.7113027978482986], \"type\": \"scatter\"}]}, {\"data\": [{\"marker\": {\"color\": \"red\", \"size\": 10}, \"mode\": \"markers\", \"x\": [295], \"y\": [0.7336792182576313], \"type\": \"scatter\"}]}, {\"data\": [{\"marker\": {\"color\": \"red\", \"size\": 10}, \"mode\": \"markers\", \"x\": [300], \"y\": [0.7558328293599007], \"type\": \"scatter\"}]}, {\"data\": [{\"marker\": {\"color\": \"red\", \"size\": 10}, \"mode\": \"markers\", \"x\": [305], \"y\": [0.7775726517490531], \"type\": \"scatter\"}]}, {\"data\": [{\"marker\": {\"color\": \"red\", \"size\": 10}, \"mode\": \"markers\", \"x\": [310], \"y\": [0.7988986854250884], \"type\": \"scatter\"}]}, {\"data\": [{\"marker\": {\"color\": \"red\", \"size\": 10}, \"mode\": \"markers\", \"x\": [315], \"y\": [0.8196836107839705], \"type\": \"scatter\"}]}, {\"data\": [{\"marker\": {\"color\": \"red\", \"size\": 10}, \"mode\": \"markers\", \"x\": [320], \"y\": [0.8398955979246905], \"type\": \"scatter\"}]}, {\"data\": [{\"marker\": {\"color\": \"red\", \"size\": 10}, \"mode\": \"markers\", \"x\": [325], \"y\": [0.8595028169462393], \"type\": \"scatter\"}]}, {\"data\": [{\"marker\": {\"color\": \"red\", \"size\": 10}, \"mode\": \"markers\", \"x\": [330], \"y\": [0.8783779482445809], \"type\": \"scatter\"}]}, {\"data\": [{\"marker\": {\"color\": \"red\", \"size\": 10}, \"mode\": \"markers\", \"x\": [335], \"y\": [0.8965209918197155], \"type\": \"scatter\"}]}, {\"data\": [{\"marker\": {\"color\": \"red\", \"size\": 10}, \"mode\": \"markers\", \"x\": [340], \"y\": [0.9138046280676068], \"type\": \"scatter\"}]}, {\"data\": [{\"marker\": {\"color\": \"red\", \"size\": 10}, \"mode\": \"markers\", \"x\": [345], \"y\": [0.9301651971862368], \"type\": \"scatter\"}]}, {\"data\": [{\"marker\": {\"color\": \"red\", \"size\": 10}, \"mode\": \"markers\", \"x\": [350], \"y\": [0.9453798898685425], \"type\": \"scatter\"}]}, {\"data\": [{\"marker\": {\"color\": \"red\", \"size\": 10}, \"mode\": \"markers\", \"x\": [355], \"y\": [0.959512365916542], \"type\": \"scatter\"}]}, {\"data\": [{\"marker\": {\"color\": \"red\", \"size\": 10}, \"mode\": \"markers\", \"x\": [360], \"y\": [0.9721488366171182], \"type\": \"scatter\"}]}, {\"data\": [{\"marker\": {\"color\": \"red\", \"size\": 10}, \"mode\": \"markers\", \"x\": [365], \"y\": [0.9832574720692618], \"type\": \"scatter\"}]}, {\"data\": [{\"marker\": {\"color\": \"red\", \"size\": 10}, \"mode\": \"markers\", \"x\": [370], \"y\": [0.9923608237578381], \"type\": \"scatter\"}]}, {\"data\": [{\"marker\": {\"color\": \"red\", \"size\": 10}, \"mode\": \"markers\", \"x\": [375], \"y\": [0.9985994843556036], \"type\": \"scatter\"}]}, {\"data\": [{\"marker\": {\"color\": \"red\", \"size\": 10}, \"mode\": \"markers\", \"x\": [380], \"y\": [1.0], \"type\": \"scatter\"}]}, {\"data\": [{\"marker\": {\"color\": \"red\", \"size\": 10}, \"mode\": \"markers\", \"x\": [385], \"y\": [1.0], \"type\": \"scatter\"}]}, {\"data\": [{\"marker\": {\"color\": \"red\", \"size\": 10}, \"mode\": \"markers\", \"x\": [390], \"y\": [1.0], \"type\": \"scatter\"}]}, {\"data\": [{\"marker\": {\"color\": \"red\", \"size\": 10}, \"mode\": \"markers\", \"x\": [395], \"y\": [1.0], \"type\": \"scatter\"}]}]);\n",
       "                        }).then(function(){\n",
       "                            \n",
       "var gd = document.getElementById('46157d98-b5bb-422b-9a0d-f0375ce51dba');\n",
       "var x = new MutationObserver(function (mutations, observer) {{\n",
       "        var display = window.getComputedStyle(gd).display;\n",
       "        if (!display || display === 'none') {{\n",
       "            console.log([gd, 'removed!']);\n",
       "            Plotly.purge(gd);\n",
       "            observer.disconnect();\n",
       "        }}\n",
       "}});\n",
       "\n",
       "// Listen for the removal of the full notebook cells\n",
       "var notebookContainer = gd.closest('#notebook-container');\n",
       "if (notebookContainer) {{\n",
       "    x.observe(notebookContainer, {childList: true});\n",
       "}}\n",
       "\n",
       "// Listen for the clearing of the current output cell\n",
       "var outputEl = gd.closest('.output');\n",
       "if (outputEl) {{\n",
       "    x.observe(outputEl, {childList: true});\n",
       "}}\n",
       "\n",
       "                        })\n",
       "                };\n",
       "                });\n",
       "            </script>\n",
       "        </div>"
      ]
     },
     "metadata": {},
     "output_type": "display_data"
    }
   ],
   "source": [
    "simulate(planet_radius, star_radius, inclination)"
   ]
  },
  {
   "cell_type": "code",
   "execution_count": null,
   "metadata": {},
   "outputs": [],
   "source": []
  }
 ],
 "metadata": {
  "kernelspec": {
   "display_name": "Python 3",
   "language": "python",
   "name": "python3"
  },
  "language_info": {
   "codemirror_mode": {
    "name": "ipython",
    "version": 3
   },
   "file_extension": ".py",
   "mimetype": "text/x-python",
   "name": "python",
   "nbconvert_exporter": "python",
   "pygments_lexer": "ipython3",
   "version": "3.6.9"
  }
 },
 "nbformat": 4,
 "nbformat_minor": 4
}
