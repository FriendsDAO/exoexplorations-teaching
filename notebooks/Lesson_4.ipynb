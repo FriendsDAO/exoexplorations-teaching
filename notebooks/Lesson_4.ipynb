{
 "cells": [
  {
   "cell_type": "markdown",
   "metadata": {},
   "source": [
    "<img src=\"https://static1.squarespace.com/static/5a3d47364c326d77c53c659d/t/5c3b8d456d2a73d481f72c11/1592871723538/?format=1500w\" width=\"240\" height=\"240\" align=\"center\"/>\n",
    "\n",
    "# Simulation\n",
    "In this lesson, we are going to simulate a transit of an exoplanet. If you haven't read through Lesson 3 or Lesson 3.1, please do so before proceeding. \n",
    "\n",
    "There are three important _parameters_ used in this simulation. A parameter is something that we can adjust in the simulation, and it will change the result.\n",
    "\n",
    "Recall from Lesson 3, how we use transits to detect exoplanets that are edge-on - meaning they are aligned in such a way that they cast a shadow that momentarily dims the brightness of a star.\n",
    "\n",
    "To refresh your memory, run the cell below and it will display a video."
   ]
  },
  {
   "cell_type": "code",
   "execution_count": 1,
   "metadata": {},
   "outputs": [
    {
     "data": {
      "image/jpeg": "[encoded data removed]",
      "text/html": [
       "\n",
       "        <iframe\n",
       "            width=\"800\"\n",
       "            height=\"300\"\n",
       "            src=\"https://www.youtube.com/embed/8v4SRfmoTuU\"\n",
       "            frameborder=\"0\"\n",
       "            allowfullscreen\n",
       "        ></iframe>\n",
       "        "
      ],
      "text/plain": [
       "<IPython.lib.display.YouTubeVideo at 0x7f6e002a2630>"
      ]
     },
     "execution_count": 1,
     "metadata": {},
     "output_type": "execute_result"
    }
   ],
   "source": [
    "from exoexplorations import *\n",
    "show_transit_video()"
   ]
  },
  {
   "cell_type": "markdown",
   "metadata": {},
   "source": [
    "# Light Curves\n",
    "\n",
    "A light curve is what we look at instead of an image to try and detect a planet. It is the brightness of a star as a function of time, which basically means: _How is the brightness of a star changing with time_. If a star did not have a star with an exoplanet orbiting edge-on, we would expect a regular star's brightness to remain roughly constant (in reality, stars change their brightness all the time, but they usually do it in a different looking way than what we'd expect from an exoplanet). How would we expect its light curve to look? A hint: maybe it would be called a _light flat_. &#128580;\n",
    "\n",
    "\n",
    "Stars that have an exoplanet orbiting them _do_ create a dip in their light curve. The way this dip looks is the main focus of this lab. \n",
    "\n",
    "<img src=\"http://astronomyonline.org/Exoplanets/Images/transit%20diagram.gif\" width=\"340\" align=\"center\"/>\n",
    "\n",
    "We will explore how a simulated light curve might look by changing three parameters\n",
    "* Radius of the host star (`star_radius`)\n",
    "* Radius of the exoplanet (`planet_radius`)\n",
    "* Where on the star the planet crosses (`inclination`)\n",
    "\n",
    "These are simulated units, so they are all relative.\n",
    "\n",
    "Use this picture as a guide:\n",
    "\n",
    "<img src=\"simulation.png\" width=\"600\" align=\"center\"/>\n",
    "\n",
    "# So how does this simulation actually work?\n",
    "\n",
    "Since the simulated units are relative, we should understand what this means. \n",
    "\n",
    "You can imagine the simulation as being a matrix of grid cells. That is just a fancy way of imagine the simulation is on graphing paper (sort of like the above drawing).\n",
    "\n",
    "Now imagine that on this graphing paper, we fill in each grid cell with a number. Now let's draw a large circle on the grid paper. Any grid cells that are touched by the circle, and and grid cells within this circle, get a value of 1. All other grid cells get a value of 0. Let's imagine the circle that has all of the grid cells with 1 in them is our star, and the 1 just means that it is eminating light that we can measure. For this course, we don't care how much light in a physical unit, we just care that it has light. \n",
    "\n",
    "Now lets draw another circle, this time for our exoplanet and place it somewhere in our star. Within _this_ circle, assign all grid cells it touches and all contained within it to be 0. \n",
    "\n",
    "This is a simulation of how a planet would block out _some_ of the light from the star. The grid cells the planet is in front of do not eminate light (because it's blocked), so they do not get counted.\n",
    "\n",
    "Now let's add up all of the grid cells that contained light from our star before we put a planet inside. Let's call this $N_{star}$.\n",
    "\n",
    "Let's now add up all of the grid cells that contained light _after_ we blocked some of it using our pretend planet and call it $N_{planet}$. \n",
    "\n",
    "The quantity we are measuring on our light curve is the _fraction of light_, $f$, and we can calculate this by simply dividing the total light after being blocked with the total light before being blocked. Mathematically, it would look like this:\n",
    "\n",
    "$$f = \\frac{N_{planet}}{N_{star}}$$\n",
    "\n",
    "This quantity goes on the `y-axis` of our simulated light curve.\n",
    "\n",
    "Ok, now instead of just placing a pretend exoplanet on our grid somwhere, let's pick a spot to start the orbit, calculate $f$, and then pretend the planet moves into a new position of its orbit, and calculate $f$ again.\n",
    "\n",
    "It we do this a few hundred times, we eventually end up with something that mimics an exoplanet moving in front of a star, and so this is how this simulation works!\n",
    "\n",
    "# Parameters\n",
    "In order for the simulation to work correctly, we have to make sure we give it reasonable values. \n",
    "\n",
    "For example, the `planet_radius` should not be larger than the `star_radius`. And for the purposes of this simulation, try and keep the `star_radius` < 200 grid cells wide (otherwise we start to run out of computer memory if this is too large, and that's no fun!). \n",
    "\n",
    "Finally, to adjust the `inclination`, we must imagine an inclination of 0 as a transit where the exoplanet passes directly through the center of a star. Generally, this isn't _that_ realistic. Note that the inclination can be a _negative value_ meaning that it can pass below the center of the star, too!\n",
    "\n",
    "The inclination must also be no larger than 200, but you may ask yourself, _what happens if the inclination is greater than the radius of the star?_ Is it still a _light curve_? Do we detect an exoplanet?\n",
    "\n",
    "# What happens to the light curve when...\n",
    "* you increase the planet radius and keep the star radius constant?\n",
    "* you decrease the planet radius and keep the star radius constant?\n",
    "* you increase or decrease the inclination gradually from 0?\n",
    "* when the star radius and planet radius are identical?"
   ]
  },
  {
   "cell_type": "code",
   "execution_count": 2,
   "metadata": {},
   "outputs": [],
   "source": [
    "# adjust the planet and the star's radius\n",
    "\n",
    "planet_radius, star_radius = 20, 100\n",
    "inclination = 30"
   ]
  },
  {
   "cell_type": "code",
   "execution_count": 3,
   "metadata": {},
   "outputs": [
    {
     "data": {
      "text/html": [
       "        <script type=\"text/javascript\">\n",
       "        window.PlotlyConfig = {MathJaxConfig: 'local'};\n",
       "        if (window.MathJax) {MathJax.Hub.Config({SVG: {font: \"STIX-Web\"}});}\n",
       "        if (typeof require !== 'undefined') {\n",
       "        require.undef(\"plotly\");\n",
       "        requirejs.config({\n",
       "            paths: {\n",
       "                'plotly': ['https://cdn.plot.ly/plotly-latest.min']\n",
       "            }\n",
       "        });\n",
       "        require(['plotly'], function(Plotly) {\n",
       "            window._Plotly = Plotly;\n",
       "        });\n",
       "        }\n",
       "        </script>\n",
       "        "
      ]
     },
     "metadata": {},
     "output_type": "display_data"
    },
    {
     "data": {
      "application/vnd.plotly.v1+json": {
       "config": {
        "plotlyServerURL": "https://plot.ly"
       },
       "data": [
        {
         "line": {
          "color": "blue",
          "width": 2
         },
         "mode": "lines",
         "name": "Imaginary Planet",
         "type": "scatter",
         "x": [
          0,
          1,
          2,
          3,
          4,
          5,
          6,
          7,
          8,
          9,
          10,
          11,
          12,
          13,
          14,
          15,
          16,
          17,
          18,
          19,
          20,
          21,
          22,
          23,
          24,
          25,
          26,
          27,
          28,
          29,
          30,
          31,
          32,
          33,
          34,
          35,
          36,
          37,
          38,
          39,
          40,
          41,
          42,
          43,
          44,
          45,
          46,
          47,
          48,
          49,
          50,
          51,
          52,
          53,
          54,
          55,
          56,
          57,
          58,
          59,
          60,
          61,
          62,
          63,
          64,
          65,
          66,
          67,
          68,
          69,
          70,
          71,
          72,
          73,
          74,
          75,
          76,
          77,
          78,
          79,
          80,
          81,
          82,
          83,
          84,
          85,
          86,
          87,
          88,
          89,
          90,
          91,
          92,
          93,
          94,
          95,
          96,
          97,
          98,
          99,
          100,
          101,
          102,
          103,
          104,
          105,
          106,
          107,
          108,
          109,
          110,
          111,
          112,
          113,
          114,
          115,
          116,
          117,
          118,
          119,
          120,
          121,
          122,
          123,
          124,
          125,
          126,
          127,
          128,
          129,
          130,
          131,
          132,
          133,
          134,
          135,
          136,
          137,
          138,
          139,
          140,
          141,
          142,
          143,
          144,
          145,
          146,
          147,
          148,
          149,
          150,
          151,
          152,
          153,
          154,
          155,
          156,
          157,
          158,
          159,
          160,
          161,
          162,
          163,
          164,
          165,
          166,
          167,
          168,
          169,
          170,
          171,
          172,
          173,
          174,
          175,
          176,
          177,
          178,
          179,
          180,
          181,
          182,
          183,
          184,
          185,
          186,
          187,
          188,
          189,
          190,
          191,
          192,
          193,
          194,
          195,
          196,
          197,
          198,
          199,
          200,
          201,
          202,
          203,
          204,
          205,
          206,
          207,
          208,
          209,
          210,
          211,
          212,
          213,
          214,
          215,
          216,
          217,
          218,
          219,
          220,
          221,
          222,
          223,
          224,
          225,
          226,
          227,
          228,
          229,
          230,
          231,
          232,
          233,
          234,
          235,
          236,
          237,
          238,
          239,
          240,
          241,
          242,
          243,
          244,
          245,
          246,
          247,
          248,
          249,
          250,
          251,
          252,
          253,
          254,
          255,
          256,
          257,
          258,
          259,
          260,
          261,
          262,
          263,
          264,
          265,
          266,
          267,
          268,
          269,
          270,
          271,
          272,
          273,
          274,
          275,
          276,
          277,
          278,
          279,
          280,
          281,
          282,
          283,
          284,
          285,
          286,
          287,
          288,
          289,
          290,
          291,
          292,
          293,
          294,
          295,
          296,
          297,
          298,
          299,
          300,
          301,
          302,
          303,
          304,
          305,
          306,
          307,
          308,
          309,
          310,
          311,
          312,
          313,
          314,
          315,
          316,
          317,
          318,
          319,
          320,
          321,
          322,
          323,
          324,
          325,
          326,
          327,
          328,
          329,
          330,
          331,
          332,
          333,
          334,
          335,
          336,
          337,
          338,
          339,
          340,
          341,
          342,
          343,
          344,
          345,
          346,
          347,
          348,
          349,
          350,
          351,
          352,
          353,
          354,
          355,
          356,
          357,
          358,
          359,
          360,
          361,
          362,
          363,
          364,
          365,
          366,
          367,
          368,
          369,
          370,
          371,
          372,
          373,
          374,
          375,
          376,
          377,
          378,
          379,
          380,
          381,
          382,
          383,
          384,
          385,
          386,
          387,
          388,
          389,
          390,
          391,
          392,
          393,
          394,
          395,
          396,
          397,
          398,
          399
         ],
         "y": [
          1,
          1,
          1,
          1,
          1,
          1,
          1,
          1,
          1,
          1,
          1,
          1,
          1,
          1,
          1,
          1,
          1,
          1,
          1,
          1,
          1,
          1,
          1,
          1,
          1,
          1,
          1,
          1,
          1,
          1,
          1,
          1,
          1,
          1,
          1,
          1,
          1,
          1,
          1,
          1,
          1,
          1,
          1,
          1,
          1,
          1,
          1,
          1,
          1,
          1,
          1,
          1,
          1,
          1,
          1,
          1,
          1,
          1,
          1,
          1,
          1,
          1,
          1,
          1,
          1,
          1,
          1,
          1,
          1,
          1,
          1,
          1,
          1,
          1,
          1,
          1,
          1,
          1,
          1,
          1,
          1,
          1,
          1,
          1,
          0.999968170098991,
          0.999713530890919,
          0.9992679122767928,
          0.9986949740586307,
          0.9980265461374415,
          0.9972944584142344,
          0.9964987108890091,
          0.9956393035617659,
          0.9947480663335136,
          0.9937931693032435,
          0.9928064423719642,
          0.991756055638667,
          0.9907056689053697,
          0.9896234522710634,
          0.9885094057357482,
          0.9873953592004329,
          0.9862494827641086,
          0.9850717764267753,
          0.9838940700894421,
          0.9827163637521087,
          0.9815386574147754,
          0.9803291211764331,
          0.9791195849380908,
          0.9778782187987395,
          0.9766686825603972,
          0.975459146322055,
          0.9742814399847216,
          0.9731037336473883,
          0.9719578572110641,
          0.9708119807747397,
          0.9696661043384155,
          0.9685520578031003,
          0.967469841168794,
          0.9664194544354967,
          0.9654008976032085,
          0.9644460005729382,
          0.963522933443677,
          0.9626635261164338,
          0.9618996084922176,
          0.9611993506700194,
          0.9606264124518573,
          0.9601807938377311,
          0.9599898144316771,
          0.9599898144316771,
          0.9599898144316771,
          0.9599898144316771,
          0.9599898144316771,
          0.9599898144316771,
          0.9599898144316771,
          0.9599898144316771,
          0.9599898144316771,
          0.9599898144316771,
          0.9599898144316771,
          0.9599898144316771,
          0.9599898144316771,
          0.9599898144316771,
          0.9599898144316771,
          0.9599898144316771,
          0.9599898144316771,
          0.9599898144316771,
          0.9599898144316771,
          0.9599898144316771,
          0.9599898144316771,
          0.9599898144316771,
          0.9599898144316771,
          0.9599898144316771,
          0.9599898144316771,
          0.9599898144316771,
          0.9599898144316771,
          0.9599898144316771,
          0.9599898144316771,
          0.9599898144316771,
          0.9599898144316771,
          0.9599898144316771,
          0.9599898144316771,
          0.9599898144316771,
          0.9599898144316771,
          0.9599898144316771,
          0.9599898144316771,
          0.9599898144316771,
          0.9599898144316771,
          0.9599898144316771,
          0.9599898144316771,
          0.9599898144316771,
          0.9599898144316771,
          0.9599898144316771,
          0.9599898144316771,
          0.9599898144316771,
          0.9599898144316771,
          0.9599898144316771,
          0.9599898144316771,
          0.9599898144316771,
          0.9599898144316771,
          0.9599898144316771,
          0.9599898144316771,
          0.9599898144316771,
          0.9599898144316771,
          0.9599898144316771,
          0.9599898144316771,
          0.9599898144316771,
          0.9599898144316771,
          0.9599898144316771,
          0.9599898144316771,
          0.9599898144316771,
          0.9599898144316771,
          0.9599898144316771,
          0.9599898144316771,
          0.9599898144316771,
          0.9599898144316771,
          0.9599898144316771,
          0.9599898144316771,
          0.9599898144316771,
          0.9599898144316771,
          0.9599898144316771,
          0.9599898144316771,
          0.9599898144316771,
          0.9599898144316771,
          0.9599898144316771,
          0.9599898144316771,
          0.9599898144316771,
          0.9599898144316771,
          0.9599898144316771,
          0.9599898144316771,
          0.9599898144316771,
          0.9599898144316771,
          0.9599898144316771,
          0.9599898144316771,
          0.9599898144316771,
          0.9599898144316771,
          0.9599898144316771,
          0.9599898144316771,
          0.9599898144316771,
          0.9599898144316771,
          0.9599898144316771,
          0.9599898144316771,
          0.9599898144316771,
          0.9599898144316771,
          0.9599898144316771,
          0.9599898144316771,
          0.9599898144316771,
          0.9599898144316771,
          0.9599898144316771,
          0.9599898144316771,
          0.9599898144316771,
          0.9599898144316771,
          0.9599898144316771,
          0.9599898144316771,
          0.9599898144316771,
          0.9599898144316771,
          0.9599898144316771,
          0.9599898144316771,
          0.9599898144316771,
          0.9599898144316771,
          0.9599898144316771,
          0.9599898144316771,
          0.9599898144316771,
          0.9599898144316771,
          0.9599898144316771,
          0.9599898144316771,
          0.9599898144316771,
          0.9599898144316771,
          0.9599898144316771,
          0.9599898144316771,
          0.9599898144316771,
          0.9599898144316771,
          0.9599898144316771,
          0.9599898144316771,
          0.9599898144316771,
          0.9599898144316771,
          0.9599898144316771,
          0.9599898144316771,
          0.9599898144316771,
          0.9599898144316771,
          0.9599898144316771,
          0.9599898144316771,
          0.9599898144316771,
          0.9599898144316771,
          0.9599898144316771,
          0.9599898144316771,
          0.9599898144316771,
          0.9599898144316771,
          0.9599898144316771,
          0.9599898144316771,
          0.9599898144316771,
          0.9599898144316771,
          0.9599898144316771,
          0.9599898144316771,
          0.9599898144316771,
          0.9599898144316771,
          0.9599898144316771,
          0.9599898144316771,
          0.9601807938377311,
          0.9606264124518573,
          0.9611993506700194,
          0.9618996084922176,
          0.9626635261164338,
          0.963522933443677,
          0.9644460005729382,
          0.9654008976032085,
          0.9664194544354967,
          0.967469841168794,
          0.9685520578031003,
          0.9696661043384155,
          0.9708119807747397,
          0.9719578572110641,
          0.9731037336473883,
          0.9742814399847216,
          0.975459146322055,
          0.9766686825603972,
          0.9778782187987395,
          0.9791195849380908,
          0.9803291211764331,
          0.9815386574147754,
          0.9827163637521087,
          0.9838940700894421,
          0.9850717764267753,
          0.9862494827641086,
          0.9873953592004329,
          0.9885094057357482,
          0.9896234522710634,
          0.9907056689053697,
          0.991756055638667,
          0.9928064423719642,
          0.9937931693032435,
          0.9947480663335136,
          0.9956393035617659,
          0.9964987108890091,
          0.9972944584142344,
          0.9980265461374415,
          0.9986949740586307,
          0.9992679122767928,
          0.999713530890919,
          0.999968170098991,
          1,
          1,
          1,
          1,
          1,
          1,
          1,
          1,
          1,
          1,
          1,
          1,
          1,
          1,
          1,
          1,
          1,
          1,
          1,
          1,
          1,
          1,
          1,
          1,
          1,
          1,
          1,
          1,
          1,
          1,
          1,
          1,
          1,
          1,
          1,
          1,
          1,
          1,
          1,
          1,
          1,
          1,
          1,
          1,
          1,
          1,
          1,
          1,
          1,
          1,
          1,
          1,
          1,
          1,
          1,
          1,
          1,
          1,
          1,
          1,
          1,
          1,
          1,
          1,
          1,
          1,
          1,
          1,
          1,
          1,
          1,
          1,
          1,
          1,
          1,
          1,
          1,
          1,
          1,
          1,
          1,
          1,
          1
         ]
        },
        {
         "line": {
          "color": "blue",
          "width": 2
         },
         "mode": "lines",
         "name": "Light from a Star",
         "type": "scatter",
         "x": [
          0,
          1,
          2,
          3,
          4,
          5,
          6,
          7,
          8,
          9,
          10,
          11,
          12,
          13,
          14,
          15,
          16,
          17,
          18,
          19,
          20,
          21,
          22,
          23,
          24,
          25,
          26,
          27,
          28,
          29,
          30,
          31,
          32,
          33,
          34,
          35,
          36,
          37,
          38,
          39,
          40,
          41,
          42,
          43,
          44,
          45,
          46,
          47,
          48,
          49,
          50,
          51,
          52,
          53,
          54,
          55,
          56,
          57,
          58,
          59,
          60,
          61,
          62,
          63,
          64,
          65,
          66,
          67,
          68,
          69,
          70,
          71,
          72,
          73,
          74,
          75,
          76,
          77,
          78,
          79,
          80,
          81,
          82,
          83,
          84,
          85,
          86,
          87,
          88,
          89,
          90,
          91,
          92,
          93,
          94,
          95,
          96,
          97,
          98,
          99,
          100,
          101,
          102,
          103,
          104,
          105,
          106,
          107,
          108,
          109,
          110,
          111,
          112,
          113,
          114,
          115,
          116,
          117,
          118,
          119,
          120,
          121,
          122,
          123,
          124,
          125,
          126,
          127,
          128,
          129,
          130,
          131,
          132,
          133,
          134,
          135,
          136,
          137,
          138,
          139,
          140,
          141,
          142,
          143,
          144,
          145,
          146,
          147,
          148,
          149,
          150,
          151,
          152,
          153,
          154,
          155,
          156,
          157,
          158,
          159,
          160,
          161,
          162,
          163,
          164,
          165,
          166,
          167,
          168,
          169,
          170,
          171,
          172,
          173,
          174,
          175,
          176,
          177,
          178,
          179,
          180,
          181,
          182,
          183,
          184,
          185,
          186,
          187,
          188,
          189,
          190,
          191,
          192,
          193,
          194,
          195,
          196,
          197,
          198,
          199,
          200,
          201,
          202,
          203,
          204,
          205,
          206,
          207,
          208,
          209,
          210,
          211,
          212,
          213,
          214,
          215,
          216,
          217,
          218,
          219,
          220,
          221,
          222,
          223,
          224,
          225,
          226,
          227,
          228,
          229,
          230,
          231,
          232,
          233,
          234,
          235,
          236,
          237,
          238,
          239,
          240,
          241,
          242,
          243,
          244,
          245,
          246,
          247,
          248,
          249,
          250,
          251,
          252,
          253,
          254,
          255,
          256,
          257,
          258,
          259,
          260,
          261,
          262,
          263,
          264,
          265,
          266,
          267,
          268,
          269,
          270,
          271,
          272,
          273,
          274,
          275,
          276,
          277,
          278,
          279,
          280,
          281,
          282,
          283,
          284,
          285,
          286,
          287,
          288,
          289,
          290,
          291,
          292,
          293,
          294,
          295,
          296,
          297,
          298,
          299,
          300,
          301,
          302,
          303,
          304,
          305,
          306,
          307,
          308,
          309,
          310,
          311,
          312,
          313,
          314,
          315,
          316,
          317,
          318,
          319,
          320,
          321,
          322,
          323,
          324,
          325,
          326,
          327,
          328,
          329,
          330,
          331,
          332,
          333,
          334,
          335,
          336,
          337,
          338,
          339,
          340,
          341,
          342,
          343,
          344,
          345,
          346,
          347,
          348,
          349,
          350,
          351,
          352,
          353,
          354,
          355,
          356,
          357,
          358,
          359,
          360,
          361,
          362,
          363,
          364,
          365,
          366,
          367,
          368,
          369,
          370,
          371,
          372,
          373,
          374,
          375,
          376,
          377,
          378,
          379,
          380,
          381,
          382,
          383,
          384,
          385,
          386,
          387,
          388,
          389,
          390,
          391,
          392,
          393,
          394,
          395,
          396,
          397,
          398,
          399
         ],
         "y": [
          1,
          1,
          1,
          1,
          1,
          1,
          1,
          1,
          1,
          1,
          1,
          1,
          1,
          1,
          1,
          1,
          1,
          1,
          1,
          1,
          1,
          1,
          1,
          1,
          1,
          1,
          1,
          1,
          1,
          1,
          1,
          1,
          1,
          1,
          1,
          1,
          1,
          1,
          1,
          1,
          1,
          1,
          1,
          1,
          1,
          1,
          1,
          1,
          1,
          1,
          1,
          1,
          1,
          1,
          1,
          1,
          1,
          1,
          1,
          1,
          1,
          1,
          1,
          1,
          1,
          1,
          1,
          1,
          1,
          1,
          1,
          1,
          1,
          1,
          1,
          1,
          1,
          1,
          1,
          1,
          1,
          1,
          1,
          1,
          0.999968170098991,
          0.999713530890919,
          0.9992679122767928,
          0.9986949740586307,
          0.9980265461374415,
          0.9972944584142344,
          0.9964987108890091,
          0.9956393035617659,
          0.9947480663335136,
          0.9937931693032435,
          0.9928064423719642,
          0.991756055638667,
          0.9907056689053697,
          0.9896234522710634,
          0.9885094057357482,
          0.9873953592004329,
          0.9862494827641086,
          0.9850717764267753,
          0.9838940700894421,
          0.9827163637521087,
          0.9815386574147754,
          0.9803291211764331,
          0.9791195849380908,
          0.9778782187987395,
          0.9766686825603972,
          0.975459146322055,
          0.9742814399847216,
          0.9731037336473883,
          0.9719578572110641,
          0.9708119807747397,
          0.9696661043384155,
          0.9685520578031003,
          0.967469841168794,
          0.9664194544354967,
          0.9654008976032085,
          0.9644460005729382,
          0.963522933443677,
          0.9626635261164338,
          0.9618996084922176,
          0.9611993506700194,
          0.9606264124518573,
          0.9601807938377311,
          0.9599898144316771,
          0.9599898144316771,
          0.9599898144316771,
          0.9599898144316771,
          0.9599898144316771,
          0.9599898144316771,
          0.9599898144316771,
          0.9599898144316771,
          0.9599898144316771,
          0.9599898144316771,
          0.9599898144316771,
          0.9599898144316771,
          0.9599898144316771,
          0.9599898144316771,
          0.9599898144316771,
          0.9599898144316771,
          0.9599898144316771,
          0.9599898144316771,
          0.9599898144316771,
          0.9599898144316771,
          0.9599898144316771,
          0.9599898144316771,
          0.9599898144316771,
          0.9599898144316771,
          0.9599898144316771,
          0.9599898144316771,
          0.9599898144316771,
          0.9599898144316771,
          0.9599898144316771,
          0.9599898144316771,
          0.9599898144316771,
          0.9599898144316771,
          0.9599898144316771,
          0.9599898144316771,
          0.9599898144316771,
          0.9599898144316771,
          0.9599898144316771,
          0.9599898144316771,
          0.9599898144316771,
          0.9599898144316771,
          0.9599898144316771,
          0.9599898144316771,
          0.9599898144316771,
          0.9599898144316771,
          0.9599898144316771,
          0.9599898144316771,
          0.9599898144316771,
          0.9599898144316771,
          0.9599898144316771,
          0.9599898144316771,
          0.9599898144316771,
          0.9599898144316771,
          0.9599898144316771,
          0.9599898144316771,
          0.9599898144316771,
          0.9599898144316771,
          0.9599898144316771,
          0.9599898144316771,
          0.9599898144316771,
          0.9599898144316771,
          0.9599898144316771,
          0.9599898144316771,
          0.9599898144316771,
          0.9599898144316771,
          0.9599898144316771,
          0.9599898144316771,
          0.9599898144316771,
          0.9599898144316771,
          0.9599898144316771,
          0.9599898144316771,
          0.9599898144316771,
          0.9599898144316771,
          0.9599898144316771,
          0.9599898144316771,
          0.9599898144316771,
          0.9599898144316771,
          0.9599898144316771,
          0.9599898144316771,
          0.9599898144316771,
          0.9599898144316771,
          0.9599898144316771,
          0.9599898144316771,
          0.9599898144316771,
          0.9599898144316771,
          0.9599898144316771,
          0.9599898144316771,
          0.9599898144316771,
          0.9599898144316771,
          0.9599898144316771,
          0.9599898144316771,
          0.9599898144316771,
          0.9599898144316771,
          0.9599898144316771,
          0.9599898144316771,
          0.9599898144316771,
          0.9599898144316771,
          0.9599898144316771,
          0.9599898144316771,
          0.9599898144316771,
          0.9599898144316771,
          0.9599898144316771,
          0.9599898144316771,
          0.9599898144316771,
          0.9599898144316771,
          0.9599898144316771,
          0.9599898144316771,
          0.9599898144316771,
          0.9599898144316771,
          0.9599898144316771,
          0.9599898144316771,
          0.9599898144316771,
          0.9599898144316771,
          0.9599898144316771,
          0.9599898144316771,
          0.9599898144316771,
          0.9599898144316771,
          0.9599898144316771,
          0.9599898144316771,
          0.9599898144316771,
          0.9599898144316771,
          0.9599898144316771,
          0.9599898144316771,
          0.9599898144316771,
          0.9599898144316771,
          0.9599898144316771,
          0.9599898144316771,
          0.9599898144316771,
          0.9599898144316771,
          0.9599898144316771,
          0.9599898144316771,
          0.9599898144316771,
          0.9599898144316771,
          0.9599898144316771,
          0.9599898144316771,
          0.9599898144316771,
          0.9599898144316771,
          0.9599898144316771,
          0.9599898144316771,
          0.9599898144316771,
          0.9599898144316771,
          0.9599898144316771,
          0.9599898144316771,
          0.9599898144316771,
          0.9599898144316771,
          0.9599898144316771,
          0.9599898144316771,
          0.9599898144316771,
          0.9599898144316771,
          0.9599898144316771,
          0.9601807938377311,
          0.9606264124518573,
          0.9611993506700194,
          0.9618996084922176,
          0.9626635261164338,
          0.963522933443677,
          0.9644460005729382,
          0.9654008976032085,
          0.9664194544354967,
          0.967469841168794,
          0.9685520578031003,
          0.9696661043384155,
          0.9708119807747397,
          0.9719578572110641,
          0.9731037336473883,
          0.9742814399847216,
          0.975459146322055,
          0.9766686825603972,
          0.9778782187987395,
          0.9791195849380908,
          0.9803291211764331,
          0.9815386574147754,
          0.9827163637521087,
          0.9838940700894421,
          0.9850717764267753,
          0.9862494827641086,
          0.9873953592004329,
          0.9885094057357482,
          0.9896234522710634,
          0.9907056689053697,
          0.991756055638667,
          0.9928064423719642,
          0.9937931693032435,
          0.9947480663335136,
          0.9956393035617659,
          0.9964987108890091,
          0.9972944584142344,
          0.9980265461374415,
          0.9986949740586307,
          0.9992679122767928,
          0.999713530890919,
          0.999968170098991,
          1,
          1,
          1,
          1,
          1,
          1,
          1,
          1,
          1,
          1,
          1,
          1,
          1,
          1,
          1,
          1,
          1,
          1,
          1,
          1,
          1,
          1,
          1,
          1,
          1,
          1,
          1,
          1,
          1,
          1,
          1,
          1,
          1,
          1,
          1,
          1,
          1,
          1,
          1,
          1,
          1,
          1,
          1,
          1,
          1,
          1,
          1,
          1,
          1,
          1,
          1,
          1,
          1,
          1,
          1,
          1,
          1,
          1,
          1,
          1,
          1,
          1,
          1,
          1,
          1,
          1,
          1,
          1,
          1,
          1,
          1,
          1,
          1,
          1,
          1,
          1,
          1,
          1,
          1,
          1,
          1,
          1,
          1
         ]
        }
       ],
       "frames": [
        {
         "data": [
          {
           "marker": {
            "color": "red",
            "size": 10
           },
           "mode": "markers",
           "type": "scatter",
           "x": [
            0
           ],
           "y": [
            1
           ]
          }
         ]
        },
        {
         "data": [
          {
           "marker": {
            "color": "red",
            "size": 10
           },
           "mode": "markers",
           "type": "scatter",
           "x": [
            5
           ],
           "y": [
            1
           ]
          }
         ]
        },
        {
         "data": [
          {
           "marker": {
            "color": "red",
            "size": 10
           },
           "mode": "markers",
           "type": "scatter",
           "x": [
            10
           ],
           "y": [
            1
           ]
          }
         ]
        },
        {
         "data": [
          {
           "marker": {
            "color": "red",
            "size": 10
           },
           "mode": "markers",
           "type": "scatter",
           "x": [
            15
           ],
           "y": [
            1
           ]
          }
         ]
        },
        {
         "data": [
          {
           "marker": {
            "color": "red",
            "size": 10
           },
           "mode": "markers",
           "type": "scatter",
           "x": [
            20
           ],
           "y": [
            1
           ]
          }
         ]
        },
        {
         "data": [
          {
           "marker": {
            "color": "red",
            "size": 10
           },
           "mode": "markers",
           "type": "scatter",
           "x": [
            25
           ],
           "y": [
            1
           ]
          }
         ]
        },
        {
         "data": [
          {
           "marker": {
            "color": "red",
            "size": 10
           },
           "mode": "markers",
           "type": "scatter",
           "x": [
            30
           ],
           "y": [
            1
           ]
          }
         ]
        },
        {
         "data": [
          {
           "marker": {
            "color": "red",
            "size": 10
           },
           "mode": "markers",
           "type": "scatter",
           "x": [
            35
           ],
           "y": [
            1
           ]
          }
         ]
        },
        {
         "data": [
          {
           "marker": {
            "color": "red",
            "size": 10
           },
           "mode": "markers",
           "type": "scatter",
           "x": [
            40
           ],
           "y": [
            1
           ]
          }
         ]
        },
        {
         "data": [
          {
           "marker": {
            "color": "red",
            "size": 10
           },
           "mode": "markers",
           "type": "scatter",
           "x": [
            45
           ],
           "y": [
            1
           ]
          }
         ]
        },
        {
         "data": [
          {
           "marker": {
            "color": "red",
            "size": 10
           },
           "mode": "markers",
           "type": "scatter",
           "x": [
            50
           ],
           "y": [
            1
           ]
          }
         ]
        },
        {
         "data": [
          {
           "marker": {
            "color": "red",
            "size": 10
           },
           "mode": "markers",
           "type": "scatter",
           "x": [
            55
           ],
           "y": [
            1
           ]
          }
         ]
        },
        {
         "data": [
          {
           "marker": {
            "color": "red",
            "size": 10
           },
           "mode": "markers",
           "type": "scatter",
           "x": [
            60
           ],
           "y": [
            1
           ]
          }
         ]
        },
        {
         "data": [
          {
           "marker": {
            "color": "red",
            "size": 10
           },
           "mode": "markers",
           "type": "scatter",
           "x": [
            65
           ],
           "y": [
            1
           ]
          }
         ]
        },
        {
         "data": [
          {
           "marker": {
            "color": "red",
            "size": 10
           },
           "mode": "markers",
           "type": "scatter",
           "x": [
            70
           ],
           "y": [
            1
           ]
          }
         ]
        },
        {
         "data": [
          {
           "marker": {
            "color": "red",
            "size": 10
           },
           "mode": "markers",
           "type": "scatter",
           "x": [
            75
           ],
           "y": [
            1
           ]
          }
         ]
        },
        {
         "data": [
          {
           "marker": {
            "color": "red",
            "size": 10
           },
           "mode": "markers",
           "type": "scatter",
           "x": [
            80
           ],
           "y": [
            1
           ]
          }
         ]
        },
        {
         "data": [
          {
           "marker": {
            "color": "red",
            "size": 10
           },
           "mode": "markers",
           "type": "scatter",
           "x": [
            85
           ],
           "y": [
            0.999713530890919
           ]
          }
         ]
        },
        {
         "data": [
          {
           "marker": {
            "color": "red",
            "size": 10
           },
           "mode": "markers",
           "type": "scatter",
           "x": [
            90
           ],
           "y": [
            0.9964987108890091
           ]
          }
         ]
        },
        {
         "data": [
          {
           "marker": {
            "color": "red",
            "size": 10
           },
           "mode": "markers",
           "type": "scatter",
           "x": [
            95
           ],
           "y": [
            0.991756055638667
           ]
          }
         ]
        },
        {
         "data": [
          {
           "marker": {
            "color": "red",
            "size": 10
           },
           "mode": "markers",
           "type": "scatter",
           "x": [
            100
           ],
           "y": [
            0.9862494827641086
           ]
          }
         ]
        },
        {
         "data": [
          {
           "marker": {
            "color": "red",
            "size": 10
           },
           "mode": "markers",
           "type": "scatter",
           "x": [
            105
           ],
           "y": [
            0.9803291211764331
           ]
          }
         ]
        },
        {
         "data": [
          {
           "marker": {
            "color": "red",
            "size": 10
           },
           "mode": "markers",
           "type": "scatter",
           "x": [
            110
           ],
           "y": [
            0.9742814399847216
           ]
          }
         ]
        },
        {
         "data": [
          {
           "marker": {
            "color": "red",
            "size": 10
           },
           "mode": "markers",
           "type": "scatter",
           "x": [
            115
           ],
           "y": [
            0.9685520578031003
           ]
          }
         ]
        },
        {
         "data": [
          {
           "marker": {
            "color": "red",
            "size": 10
           },
           "mode": "markers",
           "type": "scatter",
           "x": [
            120
           ],
           "y": [
            0.963522933443677
           ]
          }
         ]
        },
        {
         "data": [
          {
           "marker": {
            "color": "red",
            "size": 10
           },
           "mode": "markers",
           "type": "scatter",
           "x": [
            125
           ],
           "y": [
            0.9601807938377311
           ]
          }
         ]
        },
        {
         "data": [
          {
           "marker": {
            "color": "red",
            "size": 10
           },
           "mode": "markers",
           "type": "scatter",
           "x": [
            130
           ],
           "y": [
            0.9599898144316771
           ]
          }
         ]
        },
        {
         "data": [
          {
           "marker": {
            "color": "red",
            "size": 10
           },
           "mode": "markers",
           "type": "scatter",
           "x": [
            135
           ],
           "y": [
            0.9599898144316771
           ]
          }
         ]
        },
        {
         "data": [
          {
           "marker": {
            "color": "red",
            "size": 10
           },
           "mode": "markers",
           "type": "scatter",
           "x": [
            140
           ],
           "y": [
            0.9599898144316771
           ]
          }
         ]
        },
        {
         "data": [
          {
           "marker": {
            "color": "red",
            "size": 10
           },
           "mode": "markers",
           "type": "scatter",
           "x": [
            145
           ],
           "y": [
            0.9599898144316771
           ]
          }
         ]
        },
        {
         "data": [
          {
           "marker": {
            "color": "red",
            "size": 10
           },
           "mode": "markers",
           "type": "scatter",
           "x": [
            150
           ],
           "y": [
            0.9599898144316771
           ]
          }
         ]
        },
        {
         "data": [
          {
           "marker": {
            "color": "red",
            "size": 10
           },
           "mode": "markers",
           "type": "scatter",
           "x": [
            155
           ],
           "y": [
            0.9599898144316771
           ]
          }
         ]
        },
        {
         "data": [
          {
           "marker": {
            "color": "red",
            "size": 10
           },
           "mode": "markers",
           "type": "scatter",
           "x": [
            160
           ],
           "y": [
            0.9599898144316771
           ]
          }
         ]
        },
        {
         "data": [
          {
           "marker": {
            "color": "red",
            "size": 10
           },
           "mode": "markers",
           "type": "scatter",
           "x": [
            165
           ],
           "y": [
            0.9599898144316771
           ]
          }
         ]
        },
        {
         "data": [
          {
           "marker": {
            "color": "red",
            "size": 10
           },
           "mode": "markers",
           "type": "scatter",
           "x": [
            170
           ],
           "y": [
            0.9599898144316771
           ]
          }
         ]
        },
        {
         "data": [
          {
           "marker": {
            "color": "red",
            "size": 10
           },
           "mode": "markers",
           "type": "scatter",
           "x": [
            175
           ],
           "y": [
            0.9599898144316771
           ]
          }
         ]
        },
        {
         "data": [
          {
           "marker": {
            "color": "red",
            "size": 10
           },
           "mode": "markers",
           "type": "scatter",
           "x": [
            180
           ],
           "y": [
            0.9599898144316771
           ]
          }
         ]
        },
        {
         "data": [
          {
           "marker": {
            "color": "red",
            "size": 10
           },
           "mode": "markers",
           "type": "scatter",
           "x": [
            185
           ],
           "y": [
            0.9599898144316771
           ]
          }
         ]
        },
        {
         "data": [
          {
           "marker": {
            "color": "red",
            "size": 10
           },
           "mode": "markers",
           "type": "scatter",
           "x": [
            190
           ],
           "y": [
            0.9599898144316771
           ]
          }
         ]
        },
        {
         "data": [
          {
           "marker": {
            "color": "red",
            "size": 10
           },
           "mode": "markers",
           "type": "scatter",
           "x": [
            195
           ],
           "y": [
            0.9599898144316771
           ]
          }
         ]
        },
        {
         "data": [
          {
           "marker": {
            "color": "red",
            "size": 10
           },
           "mode": "markers",
           "type": "scatter",
           "x": [
            200
           ],
           "y": [
            0.9599898144316771
           ]
          }
         ]
        },
        {
         "data": [
          {
           "marker": {
            "color": "red",
            "size": 10
           },
           "mode": "markers",
           "type": "scatter",
           "x": [
            205
           ],
           "y": [
            0.9599898144316771
           ]
          }
         ]
        },
        {
         "data": [
          {
           "marker": {
            "color": "red",
            "size": 10
           },
           "mode": "markers",
           "type": "scatter",
           "x": [
            210
           ],
           "y": [
            0.9599898144316771
           ]
          }
         ]
        },
        {
         "data": [
          {
           "marker": {
            "color": "red",
            "size": 10
           },
           "mode": "markers",
           "type": "scatter",
           "x": [
            215
           ],
           "y": [
            0.9599898144316771
           ]
          }
         ]
        },
        {
         "data": [
          {
           "marker": {
            "color": "red",
            "size": 10
           },
           "mode": "markers",
           "type": "scatter",
           "x": [
            220
           ],
           "y": [
            0.9599898144316771
           ]
          }
         ]
        },
        {
         "data": [
          {
           "marker": {
            "color": "red",
            "size": 10
           },
           "mode": "markers",
           "type": "scatter",
           "x": [
            225
           ],
           "y": [
            0.9599898144316771
           ]
          }
         ]
        },
        {
         "data": [
          {
           "marker": {
            "color": "red",
            "size": 10
           },
           "mode": "markers",
           "type": "scatter",
           "x": [
            230
           ],
           "y": [
            0.9599898144316771
           ]
          }
         ]
        },
        {
         "data": [
          {
           "marker": {
            "color": "red",
            "size": 10
           },
           "mode": "markers",
           "type": "scatter",
           "x": [
            235
           ],
           "y": [
            0.9599898144316771
           ]
          }
         ]
        },
        {
         "data": [
          {
           "marker": {
            "color": "red",
            "size": 10
           },
           "mode": "markers",
           "type": "scatter",
           "x": [
            240
           ],
           "y": [
            0.9599898144316771
           ]
          }
         ]
        },
        {
         "data": [
          {
           "marker": {
            "color": "red",
            "size": 10
           },
           "mode": "markers",
           "type": "scatter",
           "x": [
            245
           ],
           "y": [
            0.9599898144316771
           ]
          }
         ]
        },
        {
         "data": [
          {
           "marker": {
            "color": "red",
            "size": 10
           },
           "mode": "markers",
           "type": "scatter",
           "x": [
            250
           ],
           "y": [
            0.9599898144316771
           ]
          }
         ]
        },
        {
         "data": [
          {
           "marker": {
            "color": "red",
            "size": 10
           },
           "mode": "markers",
           "type": "scatter",
           "x": [
            255
           ],
           "y": [
            0.9599898144316771
           ]
          }
         ]
        },
        {
         "data": [
          {
           "marker": {
            "color": "red",
            "size": 10
           },
           "mode": "markers",
           "type": "scatter",
           "x": [
            260
           ],
           "y": [
            0.9599898144316771
           ]
          }
         ]
        },
        {
         "data": [
          {
           "marker": {
            "color": "red",
            "size": 10
           },
           "mode": "markers",
           "type": "scatter",
           "x": [
            265
           ],
           "y": [
            0.9599898144316771
           ]
          }
         ]
        },
        {
         "data": [
          {
           "marker": {
            "color": "red",
            "size": 10
           },
           "mode": "markers",
           "type": "scatter",
           "x": [
            270
           ],
           "y": [
            0.9599898144316771
           ]
          }
         ]
        },
        {
         "data": [
          {
           "marker": {
            "color": "red",
            "size": 10
           },
           "mode": "markers",
           "type": "scatter",
           "x": [
            275
           ],
           "y": [
            0.9601807938377311
           ]
          }
         ]
        },
        {
         "data": [
          {
           "marker": {
            "color": "red",
            "size": 10
           },
           "mode": "markers",
           "type": "scatter",
           "x": [
            280
           ],
           "y": [
            0.963522933443677
           ]
          }
         ]
        },
        {
         "data": [
          {
           "marker": {
            "color": "red",
            "size": 10
           },
           "mode": "markers",
           "type": "scatter",
           "x": [
            285
           ],
           "y": [
            0.9685520578031003
           ]
          }
         ]
        },
        {
         "data": [
          {
           "marker": {
            "color": "red",
            "size": 10
           },
           "mode": "markers",
           "type": "scatter",
           "x": [
            290
           ],
           "y": [
            0.9742814399847216
           ]
          }
         ]
        },
        {
         "data": [
          {
           "marker": {
            "color": "red",
            "size": 10
           },
           "mode": "markers",
           "type": "scatter",
           "x": [
            295
           ],
           "y": [
            0.9803291211764331
           ]
          }
         ]
        },
        {
         "data": [
          {
           "marker": {
            "color": "red",
            "size": 10
           },
           "mode": "markers",
           "type": "scatter",
           "x": [
            300
           ],
           "y": [
            0.9862494827641086
           ]
          }
         ]
        },
        {
         "data": [
          {
           "marker": {
            "color": "red",
            "size": 10
           },
           "mode": "markers",
           "type": "scatter",
           "x": [
            305
           ],
           "y": [
            0.991756055638667
           ]
          }
         ]
        },
        {
         "data": [
          {
           "marker": {
            "color": "red",
            "size": 10
           },
           "mode": "markers",
           "type": "scatter",
           "x": [
            310
           ],
           "y": [
            0.9964987108890091
           ]
          }
         ]
        },
        {
         "data": [
          {
           "marker": {
            "color": "red",
            "size": 10
           },
           "mode": "markers",
           "type": "scatter",
           "x": [
            315
           ],
           "y": [
            0.999713530890919
           ]
          }
         ]
        },
        {
         "data": [
          {
           "marker": {
            "color": "red",
            "size": 10
           },
           "mode": "markers",
           "type": "scatter",
           "x": [
            320
           ],
           "y": [
            1
           ]
          }
         ]
        },
        {
         "data": [
          {
           "marker": {
            "color": "red",
            "size": 10
           },
           "mode": "markers",
           "type": "scatter",
           "x": [
            325
           ],
           "y": [
            1
           ]
          }
         ]
        },
        {
         "data": [
          {
           "marker": {
            "color": "red",
            "size": 10
           },
           "mode": "markers",
           "type": "scatter",
           "x": [
            330
           ],
           "y": [
            1
           ]
          }
         ]
        },
        {
         "data": [
          {
           "marker": {
            "color": "red",
            "size": 10
           },
           "mode": "markers",
           "type": "scatter",
           "x": [
            335
           ],
           "y": [
            1
           ]
          }
         ]
        },
        {
         "data": [
          {
           "marker": {
            "color": "red",
            "size": 10
           },
           "mode": "markers",
           "type": "scatter",
           "x": [
            340
           ],
           "y": [
            1
           ]
          }
         ]
        },
        {
         "data": [
          {
           "marker": {
            "color": "red",
            "size": 10
           },
           "mode": "markers",
           "type": "scatter",
           "x": [
            345
           ],
           "y": [
            1
           ]
          }
         ]
        },
        {
         "data": [
          {
           "marker": {
            "color": "red",
            "size": 10
           },
           "mode": "markers",
           "type": "scatter",
           "x": [
            350
           ],
           "y": [
            1
           ]
          }
         ]
        },
        {
         "data": [
          {
           "marker": {
            "color": "red",
            "size": 10
           },
           "mode": "markers",
           "type": "scatter",
           "x": [
            355
           ],
           "y": [
            1
           ]
          }
         ]
        },
        {
         "data": [
          {
           "marker": {
            "color": "red",
            "size": 10
           },
           "mode": "markers",
           "type": "scatter",
           "x": [
            360
           ],
           "y": [
            1
           ]
          }
         ]
        },
        {
         "data": [
          {
           "marker": {
            "color": "red",
            "size": 10
           },
           "mode": "markers",
           "type": "scatter",
           "x": [
            365
           ],
           "y": [
            1
           ]
          }
         ]
        },
        {
         "data": [
          {
           "marker": {
            "color": "red",
            "size": 10
           },
           "mode": "markers",
           "type": "scatter",
           "x": [
            370
           ],
           "y": [
            1
           ]
          }
         ]
        },
        {
         "data": [
          {
           "marker": {
            "color": "red",
            "size": 10
           },
           "mode": "markers",
           "type": "scatter",
           "x": [
            375
           ],
           "y": [
            1
           ]
          }
         ]
        },
        {
         "data": [
          {
           "marker": {
            "color": "red",
            "size": 10
           },
           "mode": "markers",
           "type": "scatter",
           "x": [
            380
           ],
           "y": [
            1
           ]
          }
         ]
        },
        {
         "data": [
          {
           "marker": {
            "color": "red",
            "size": 10
           },
           "mode": "markers",
           "type": "scatter",
           "x": [
            385
           ],
           "y": [
            1
           ]
          }
         ]
        },
        {
         "data": [
          {
           "marker": {
            "color": "red",
            "size": 10
           },
           "mode": "markers",
           "type": "scatter",
           "x": [
            390
           ],
           "y": [
            1
           ]
          }
         ]
        },
        {
         "data": [
          {
           "marker": {
            "color": "red",
            "size": 10
           },
           "mode": "markers",
           "type": "scatter",
           "x": [
            395
           ],
           "y": [
            1
           ]
          }
         ]
        }
       ],
       "layout": {
        "annotations": [
         {
          "arrowhead": 7,
          "ax": 0,
          "ay": -40,
          "showarrow": true,
          "text": "Planet starts to occult the star",
          "x": 83,
          "xref": "x",
          "y": 1,
          "yref": "y"
         },
         {
          "arrowhead": 7,
          "ax": 0,
          "ay": -40,
          "showarrow": true,
          "text": "Planet is fully in front of the star",
          "x": 125,
          "xref": "x",
          "y": 0.9601807938377311,
          "yref": "y"
         },
         {
          "arrowhead": 7,
          "ax": 0,
          "ay": 40,
          "showarrow": true,
          "text": "Planet has reached the edge of the star",
          "x": 274,
          "xref": "x",
          "y": 0.9599898144316771,
          "yref": "y"
         },
         {
          "arrowhead": 7,
          "ax": 0,
          "ay": -40,
          "showarrow": true,
          "text": "Planet has stopped occulting the star",
          "x": 316,
          "xref": "x",
          "y": 0.999968170098991,
          "yref": "y"
         }
        ],
        "hovermode": "closest",
        "showlegend": false,
        "template": {
         "data": {
          "bar": [
           {
            "error_x": {
             "color": "#2a3f5f"
            },
            "error_y": {
             "color": "#2a3f5f"
            },
            "marker": {
             "line": {
              "color": "#E5ECF6",
              "width": 0.5
             }
            },
            "type": "bar"
           }
          ],
          "barpolar": [
           {
            "marker": {
             "line": {
              "color": "#E5ECF6",
              "width": 0.5
             }
            },
            "type": "barpolar"
           }
          ],
          "carpet": [
           {
            "aaxis": {
             "endlinecolor": "#2a3f5f",
             "gridcolor": "white",
             "linecolor": "white",
             "minorgridcolor": "white",
             "startlinecolor": "#2a3f5f"
            },
            "baxis": {
             "endlinecolor": "#2a3f5f",
             "gridcolor": "white",
             "linecolor": "white",
             "minorgridcolor": "white",
             "startlinecolor": "#2a3f5f"
            },
            "type": "carpet"
           }
          ],
          "choropleth": [
           {
            "colorbar": {
             "outlinewidth": 0,
             "ticks": ""
            },
            "type": "choropleth"
           }
          ],
          "contour": [
           {
            "colorbar": {
             "outlinewidth": 0,
             "ticks": ""
            },
            "colorscale": [
             [
              0,
              "#0d0887"
             ],
             [
              0.1111111111111111,
              "#46039f"
             ],
             [
              0.2222222222222222,
              "#7201a8"
             ],
             [
              0.3333333333333333,
              "#9c179e"
             ],
             [
              0.4444444444444444,
              "#bd3786"
             ],
             [
              0.5555555555555556,
              "#d8576b"
             ],
             [
              0.6666666666666666,
              "#ed7953"
             ],
             [
              0.7777777777777778,
              "#fb9f3a"
             ],
             [
              0.8888888888888888,
              "#fdca26"
             ],
             [
              1,
              "#f0f921"
             ]
            ],
            "type": "contour"
           }
          ],
          "contourcarpet": [
           {
            "colorbar": {
             "outlinewidth": 0,
             "ticks": ""
            },
            "type": "contourcarpet"
           }
          ],
          "heatmap": [
           {
            "colorbar": {
             "outlinewidth": 0,
             "ticks": ""
            },
            "colorscale": [
             [
              0,
              "#0d0887"
             ],
             [
              0.1111111111111111,
              "#46039f"
             ],
             [
              0.2222222222222222,
              "#7201a8"
             ],
             [
              0.3333333333333333,
              "#9c179e"
             ],
             [
              0.4444444444444444,
              "#bd3786"
             ],
             [
              0.5555555555555556,
              "#d8576b"
             ],
             [
              0.6666666666666666,
              "#ed7953"
             ],
             [
              0.7777777777777778,
              "#fb9f3a"
             ],
             [
              0.8888888888888888,
              "#fdca26"
             ],
             [
              1,
              "#f0f921"
             ]
            ],
            "type": "heatmap"
           }
          ],
          "heatmapgl": [
           {
            "colorbar": {
             "outlinewidth": 0,
             "ticks": ""
            },
            "colorscale": [
             [
              0,
              "#0d0887"
             ],
             [
              0.1111111111111111,
              "#46039f"
             ],
             [
              0.2222222222222222,
              "#7201a8"
             ],
             [
              0.3333333333333333,
              "#9c179e"
             ],
             [
              0.4444444444444444,
              "#bd3786"
             ],
             [
              0.5555555555555556,
              "#d8576b"
             ],
             [
              0.6666666666666666,
              "#ed7953"
             ],
             [
              0.7777777777777778,
              "#fb9f3a"
             ],
             [
              0.8888888888888888,
              "#fdca26"
             ],
             [
              1,
              "#f0f921"
             ]
            ],
            "type": "heatmapgl"
           }
          ],
          "histogram": [
           {
            "marker": {
             "colorbar": {
              "outlinewidth": 0,
              "ticks": ""
             }
            },
            "type": "histogram"
           }
          ],
          "histogram2d": [
           {
            "colorbar": {
             "outlinewidth": 0,
             "ticks": ""
            },
            "colorscale": [
             [
              0,
              "#0d0887"
             ],
             [
              0.1111111111111111,
              "#46039f"
             ],
             [
              0.2222222222222222,
              "#7201a8"
             ],
             [
              0.3333333333333333,
              "#9c179e"
             ],
             [
              0.4444444444444444,
              "#bd3786"
             ],
             [
              0.5555555555555556,
              "#d8576b"
             ],
             [
              0.6666666666666666,
              "#ed7953"
             ],
             [
              0.7777777777777778,
              "#fb9f3a"
             ],
             [
              0.8888888888888888,
              "#fdca26"
             ],
             [
              1,
              "#f0f921"
             ]
            ],
            "type": "histogram2d"
           }
          ],
          "histogram2dcontour": [
           {
            "colorbar": {
             "outlinewidth": 0,
             "ticks": ""
            },
            "colorscale": [
             [
              0,
              "#0d0887"
             ],
             [
              0.1111111111111111,
              "#46039f"
             ],
             [
              0.2222222222222222,
              "#7201a8"
             ],
             [
              0.3333333333333333,
              "#9c179e"
             ],
             [
              0.4444444444444444,
              "#bd3786"
             ],
             [
              0.5555555555555556,
              "#d8576b"
             ],
             [
              0.6666666666666666,
              "#ed7953"
             ],
             [
              0.7777777777777778,
              "#fb9f3a"
             ],
             [
              0.8888888888888888,
              "#fdca26"
             ],
             [
              1,
              "#f0f921"
             ]
            ],
            "type": "histogram2dcontour"
           }
          ],
          "mesh3d": [
           {
            "colorbar": {
             "outlinewidth": 0,
             "ticks": ""
            },
            "type": "mesh3d"
           }
          ],
          "parcoords": [
           {
            "line": {
             "colorbar": {
              "outlinewidth": 0,
              "ticks": ""
             }
            },
            "type": "parcoords"
           }
          ],
          "pie": [
           {
            "automargin": true,
            "type": "pie"
           }
          ],
          "scatter": [
           {
            "marker": {
             "colorbar": {
              "outlinewidth": 0,
              "ticks": ""
             }
            },
            "type": "scatter"
           }
          ],
          "scatter3d": [
           {
            "line": {
             "colorbar": {
              "outlinewidth": 0,
              "ticks": ""
             }
            },
            "marker": {
             "colorbar": {
              "outlinewidth": 0,
              "ticks": ""
             }
            },
            "type": "scatter3d"
           }
          ],
          "scattercarpet": [
           {
            "marker": {
             "colorbar": {
              "outlinewidth": 0,
              "ticks": ""
             }
            },
            "type": "scattercarpet"
           }
          ],
          "scattergeo": [
           {
            "marker": {
             "colorbar": {
              "outlinewidth": 0,
              "ticks": ""
             }
            },
            "type": "scattergeo"
           }
          ],
          "scattergl": [
           {
            "marker": {
             "colorbar": {
              "outlinewidth": 0,
              "ticks": ""
             }
            },
            "type": "scattergl"
           }
          ],
          "scattermapbox": [
           {
            "marker": {
             "colorbar": {
              "outlinewidth": 0,
              "ticks": ""
             }
            },
            "type": "scattermapbox"
           }
          ],
          "scatterpolar": [
           {
            "marker": {
             "colorbar": {
              "outlinewidth": 0,
              "ticks": ""
             }
            },
            "type": "scatterpolar"
           }
          ],
          "scatterpolargl": [
           {
            "marker": {
             "colorbar": {
              "outlinewidth": 0,
              "ticks": ""
             }
            },
            "type": "scatterpolargl"
           }
          ],
          "scatterternary": [
           {
            "marker": {
             "colorbar": {
              "outlinewidth": 0,
              "ticks": ""
             }
            },
            "type": "scatterternary"
           }
          ],
          "surface": [
           {
            "colorbar": {
             "outlinewidth": 0,
             "ticks": ""
            },
            "colorscale": [
             [
              0,
              "#0d0887"
             ],
             [
              0.1111111111111111,
              "#46039f"
             ],
             [
              0.2222222222222222,
              "#7201a8"
             ],
             [
              0.3333333333333333,
              "#9c179e"
             ],
             [
              0.4444444444444444,
              "#bd3786"
             ],
             [
              0.5555555555555556,
              "#d8576b"
             ],
             [
              0.6666666666666666,
              "#ed7953"
             ],
             [
              0.7777777777777778,
              "#fb9f3a"
             ],
             [
              0.8888888888888888,
              "#fdca26"
             ],
             [
              1,
              "#f0f921"
             ]
            ],
            "type": "surface"
           }
          ],
          "table": [
           {
            "cells": {
             "fill": {
              "color": "#EBF0F8"
             },
             "line": {
              "color": "white"
             }
            },
            "header": {
             "fill": {
              "color": "#C8D4E3"
             },
             "line": {
              "color": "white"
             }
            },
            "type": "table"
           }
          ]
         },
         "layout": {
          "annotationdefaults": {
           "arrowcolor": "#2a3f5f",
           "arrowhead": 0,
           "arrowwidth": 1
          },
          "autotypenumbers": "strict",
          "coloraxis": {
           "colorbar": {
            "outlinewidth": 0,
            "ticks": ""
           }
          },
          "colorscale": {
           "diverging": [
            [
             0,
             "#8e0152"
            ],
            [
             0.1,
             "#c51b7d"
            ],
            [
             0.2,
             "#de77ae"
            ],
            [
             0.3,
             "#f1b6da"
            ],
            [
             0.4,
             "#fde0ef"
            ],
            [
             0.5,
             "#f7f7f7"
            ],
            [
             0.6,
             "#e6f5d0"
            ],
            [
             0.7,
             "#b8e186"
            ],
            [
             0.8,
             "#7fbc41"
            ],
            [
             0.9,
             "#4d9221"
            ],
            [
             1,
             "#276419"
            ]
           ],
           "sequential": [
            [
             0,
             "#0d0887"
            ],
            [
             0.1111111111111111,
             "#46039f"
            ],
            [
             0.2222222222222222,
             "#7201a8"
            ],
            [
             0.3333333333333333,
             "#9c179e"
            ],
            [
             0.4444444444444444,
             "#bd3786"
            ],
            [
             0.5555555555555556,
             "#d8576b"
            ],
            [
             0.6666666666666666,
             "#ed7953"
            ],
            [
             0.7777777777777778,
             "#fb9f3a"
            ],
            [
             0.8888888888888888,
             "#fdca26"
            ],
            [
             1,
             "#f0f921"
            ]
           ],
           "sequentialminus": [
            [
             0,
             "#0d0887"
            ],
            [
             0.1111111111111111,
             "#46039f"
            ],
            [
             0.2222222222222222,
             "#7201a8"
            ],
            [
             0.3333333333333333,
             "#9c179e"
            ],
            [
             0.4444444444444444,
             "#bd3786"
            ],
            [
             0.5555555555555556,
             "#d8576b"
            ],
            [
             0.6666666666666666,
             "#ed7953"
            ],
            [
             0.7777777777777778,
             "#fb9f3a"
            ],
            [
             0.8888888888888888,
             "#fdca26"
            ],
            [
             1,
             "#f0f921"
            ]
           ]
          },
          "colorway": [
           "#636efa",
           "#EF553B",
           "#00cc96",
           "#ab63fa",
           "#FFA15A",
           "#19d3f3",
           "#FF6692",
           "#B6E880",
           "#FF97FF",
           "#FECB52"
          ],
          "font": {
           "color": "#2a3f5f"
          },
          "geo": {
           "bgcolor": "white",
           "lakecolor": "white",
           "landcolor": "#E5ECF6",
           "showlakes": true,
           "showland": true,
           "subunitcolor": "white"
          },
          "hoverlabel": {
           "align": "left"
          },
          "hovermode": "closest",
          "mapbox": {
           "style": "light"
          },
          "paper_bgcolor": "white",
          "plot_bgcolor": "#E5ECF6",
          "polar": {
           "angularaxis": {
            "gridcolor": "white",
            "linecolor": "white",
            "ticks": ""
           },
           "bgcolor": "#E5ECF6",
           "radialaxis": {
            "gridcolor": "white",
            "linecolor": "white",
            "ticks": ""
           }
          },
          "scene": {
           "xaxis": {
            "backgroundcolor": "#E5ECF6",
            "gridcolor": "white",
            "gridwidth": 2,
            "linecolor": "white",
            "showbackground": true,
            "ticks": "",
            "zerolinecolor": "white"
           },
           "yaxis": {
            "backgroundcolor": "#E5ECF6",
            "gridcolor": "white",
            "gridwidth": 2,
            "linecolor": "white",
            "showbackground": true,
            "ticks": "",
            "zerolinecolor": "white"
           },
           "zaxis": {
            "backgroundcolor": "#E5ECF6",
            "gridcolor": "white",
            "gridwidth": 2,
            "linecolor": "white",
            "showbackground": true,
            "ticks": "",
            "zerolinecolor": "white"
           }
          },
          "shapedefaults": {
           "line": {
            "color": "#2a3f5f"
           }
          },
          "ternary": {
           "aaxis": {
            "gridcolor": "white",
            "linecolor": "white",
            "ticks": ""
           },
           "baxis": {
            "gridcolor": "white",
            "linecolor": "white",
            "ticks": ""
           },
           "bgcolor": "#E5ECF6",
           "caxis": {
            "gridcolor": "white",
            "linecolor": "white",
            "ticks": ""
           }
          },
          "title": {
           "x": 0.05
          },
          "xaxis": {
           "automargin": true,
           "gridcolor": "white",
           "linecolor": "white",
           "ticks": "",
           "title": {
            "standoff": 15
           },
           "zerolinecolor": "white",
           "zerolinewidth": 2
          },
          "yaxis": {
           "automargin": true,
           "gridcolor": "white",
           "linecolor": "white",
           "ticks": "",
           "title": {
            "standoff": 15
           },
           "zerolinecolor": "white",
           "zerolinewidth": 2
          }
         }
        },
        "title": {
         "text": "Exoplanet Transit"
        },
        "updatemenus": [
         {
          "buttons": [
           {
            "args": [
             null
            ],
            "label": "Play",
            "method": "animate"
           }
          ],
          "type": "buttons"
         }
        ],
        "xaxis": {
         "autorange": false,
         "range": [
          0,
          400
         ],
         "title": {
          "text": "Time"
         },
         "zeroline": false
        },
        "yaxis": {
         "autorange": false,
         "range": [
          0,
          1.3
         ],
         "title": {
          "text": "f, Flux"
         },
         "zeroline": false
        }
       }
      },
      "text/html": [
       "<div>                            <div id=\"4b3bbc5b-4d24-4b40-8039-8bfc3ec29eed\" class=\"plotly-graph-div\" style=\"height:525px; width:100%;\"></div>            <script type=\"text/javascript\">                require([\"plotly\"], function(Plotly) {                    window.PLOTLYENV=window.PLOTLYENV || {};                                    if (document.getElementById(\"4b3bbc5b-4d24-4b40-8039-8bfc3ec29eed\")) {                    Plotly.newPlot(                        \"4b3bbc5b-4d24-4b40-8039-8bfc3ec29eed\",                        [{\"line\": {\"color\": \"blue\", \"width\": 2}, \"mode\": \"lines\", \"name\": \"Imaginary Planet\", \"type\": \"scatter\", \"x\": [0, 1, 2, 3, 4, 5, 6, 7, 8, 9, 10, 11, 12, 13, 14, 15, 16, 17, 18, 19, 20, 21, 22, 23, 24, 25, 26, 27, 28, 29, 30, 31, 32, 33, 34, 35, 36, 37, 38, 39, 40, 41, 42, 43, 44, 45, 46, 47, 48, 49, 50, 51, 52, 53, 54, 55, 56, 57, 58, 59, 60, 61, 62, 63, 64, 65, 66, 67, 68, 69, 70, 71, 72, 73, 74, 75, 76, 77, 78, 79, 80, 81, 82, 83, 84, 85, 86, 87, 88, 89, 90, 91, 92, 93, 94, 95, 96, 97, 98, 99, 100, 101, 102, 103, 104, 105, 106, 107, 108, 109, 110, 111, 112, 113, 114, 115, 116, 117, 118, 119, 120, 121, 122, 123, 124, 125, 126, 127, 128, 129, 130, 131, 132, 133, 134, 135, 136, 137, 138, 139, 140, 141, 142, 143, 144, 145, 146, 147, 148, 149, 150, 151, 152, 153, 154, 155, 156, 157, 158, 159, 160, 161, 162, 163, 164, 165, 166, 167, 168, 169, 170, 171, 172, 173, 174, 175, 176, 177, 178, 179, 180, 181, 182, 183, 184, 185, 186, 187, 188, 189, 190, 191, 192, 193, 194, 195, 196, 197, 198, 199, 200, 201, 202, 203, 204, 205, 206, 207, 208, 209, 210, 211, 212, 213, 214, 215, 216, 217, 218, 219, 220, 221, 222, 223, 224, 225, 226, 227, 228, 229, 230, 231, 232, 233, 234, 235, 236, 237, 238, 239, 240, 241, 242, 243, 244, 245, 246, 247, 248, 249, 250, 251, 252, 253, 254, 255, 256, 257, 258, 259, 260, 261, 262, 263, 264, 265, 266, 267, 268, 269, 270, 271, 272, 273, 274, 275, 276, 277, 278, 279, 280, 281, 282, 283, 284, 285, 286, 287, 288, 289, 290, 291, 292, 293, 294, 295, 296, 297, 298, 299, 300, 301, 302, 303, 304, 305, 306, 307, 308, 309, 310, 311, 312, 313, 314, 315, 316, 317, 318, 319, 320, 321, 322, 323, 324, 325, 326, 327, 328, 329, 330, 331, 332, 333, 334, 335, 336, 337, 338, 339, 340, 341, 342, 343, 344, 345, 346, 347, 348, 349, 350, 351, 352, 353, 354, 355, 356, 357, 358, 359, 360, 361, 362, 363, 364, 365, 366, 367, 368, 369, 370, 371, 372, 373, 374, 375, 376, 377, 378, 379, 380, 381, 382, 383, 384, 385, 386, 387, 388, 389, 390, 391, 392, 393, 394, 395, 396, 397, 398, 399], \"y\": [1.0, 1.0, 1.0, 1.0, 1.0, 1.0, 1.0, 1.0, 1.0, 1.0, 1.0, 1.0, 1.0, 1.0, 1.0, 1.0, 1.0, 1.0, 1.0, 1.0, 1.0, 1.0, 1.0, 1.0, 1.0, 1.0, 1.0, 1.0, 1.0, 1.0, 1.0, 1.0, 1.0, 1.0, 1.0, 1.0, 1.0, 1.0, 1.0, 1.0, 1.0, 1.0, 1.0, 1.0, 1.0, 1.0, 1.0, 1.0, 1.0, 1.0, 1.0, 1.0, 1.0, 1.0, 1.0, 1.0, 1.0, 1.0, 1.0, 1.0, 1.0, 1.0, 1.0, 1.0, 1.0, 1.0, 1.0, 1.0, 1.0, 1.0, 1.0, 1.0, 1.0, 1.0, 1.0, 1.0, 1.0, 1.0, 1.0, 1.0, 1.0, 1.0, 1.0, 1.0, 0.999968170098991, 0.999713530890919, 0.9992679122767928, 0.9986949740586307, 0.9980265461374415, 0.9972944584142344, 0.9964987108890091, 0.9956393035617659, 0.9947480663335136, 0.9937931693032435, 0.9928064423719642, 0.991756055638667, 0.9907056689053697, 0.9896234522710634, 0.9885094057357482, 0.9873953592004329, 0.9862494827641086, 0.9850717764267753, 0.9838940700894421, 0.9827163637521087, 0.9815386574147754, 0.9803291211764331, 0.9791195849380908, 0.9778782187987395, 0.9766686825603972, 0.975459146322055, 0.9742814399847216, 0.9731037336473883, 0.9719578572110641, 0.9708119807747397, 0.9696661043384155, 0.9685520578031003, 0.967469841168794, 0.9664194544354967, 0.9654008976032085, 0.9644460005729382, 0.963522933443677, 0.9626635261164338, 0.9618996084922176, 0.9611993506700194, 0.9606264124518573, 0.9601807938377311, 0.9599898144316771, 0.9599898144316771, 0.9599898144316771, 0.9599898144316771, 0.9599898144316771, 0.9599898144316771, 0.9599898144316771, 0.9599898144316771, 0.9599898144316771, 0.9599898144316771, 0.9599898144316771, 0.9599898144316771, 0.9599898144316771, 0.9599898144316771, 0.9599898144316771, 0.9599898144316771, 0.9599898144316771, 0.9599898144316771, 0.9599898144316771, 0.9599898144316771, 0.9599898144316771, 0.9599898144316771, 0.9599898144316771, 0.9599898144316771, 0.9599898144316771, 0.9599898144316771, 0.9599898144316771, 0.9599898144316771, 0.9599898144316771, 0.9599898144316771, 0.9599898144316771, 0.9599898144316771, 0.9599898144316771, 0.9599898144316771, 0.9599898144316771, 0.9599898144316771, 0.9599898144316771, 0.9599898144316771, 0.9599898144316771, 0.9599898144316771, 0.9599898144316771, 0.9599898144316771, 0.9599898144316771, 0.9599898144316771, 0.9599898144316771, 0.9599898144316771, 0.9599898144316771, 0.9599898144316771, 0.9599898144316771, 0.9599898144316771, 0.9599898144316771, 0.9599898144316771, 0.9599898144316771, 0.9599898144316771, 0.9599898144316771, 0.9599898144316771, 0.9599898144316771, 0.9599898144316771, 0.9599898144316771, 0.9599898144316771, 0.9599898144316771, 0.9599898144316771, 0.9599898144316771, 0.9599898144316771, 0.9599898144316771, 0.9599898144316771, 0.9599898144316771, 0.9599898144316771, 0.9599898144316771, 0.9599898144316771, 0.9599898144316771, 0.9599898144316771, 0.9599898144316771, 0.9599898144316771, 0.9599898144316771, 0.9599898144316771, 0.9599898144316771, 0.9599898144316771, 0.9599898144316771, 0.9599898144316771, 0.9599898144316771, 0.9599898144316771, 0.9599898144316771, 0.9599898144316771, 0.9599898144316771, 0.9599898144316771, 0.9599898144316771, 0.9599898144316771, 0.9599898144316771, 0.9599898144316771, 0.9599898144316771, 0.9599898144316771, 0.9599898144316771, 0.9599898144316771, 0.9599898144316771, 0.9599898144316771, 0.9599898144316771, 0.9599898144316771, 0.9599898144316771, 0.9599898144316771, 0.9599898144316771, 0.9599898144316771, 0.9599898144316771, 0.9599898144316771, 0.9599898144316771, 0.9599898144316771, 0.9599898144316771, 0.9599898144316771, 0.9599898144316771, 0.9599898144316771, 0.9599898144316771, 0.9599898144316771, 0.9599898144316771, 0.9599898144316771, 0.9599898144316771, 0.9599898144316771, 0.9599898144316771, 0.9599898144316771, 0.9599898144316771, 0.9599898144316771, 0.9599898144316771, 0.9599898144316771, 0.9599898144316771, 0.9599898144316771, 0.9599898144316771, 0.9599898144316771, 0.9599898144316771, 0.9599898144316771, 0.9599898144316771, 0.9599898144316771, 0.9599898144316771, 0.9599898144316771, 0.9599898144316771, 0.9599898144316771, 0.9599898144316771, 0.9599898144316771, 0.9599898144316771, 0.9599898144316771, 0.9599898144316771, 0.9599898144316771, 0.9599898144316771, 0.9599898144316771, 0.9599898144316771, 0.9599898144316771, 0.9599898144316771, 0.9599898144316771, 0.9599898144316771, 0.9599898144316771, 0.9599898144316771, 0.9601807938377311, 0.9606264124518573, 0.9611993506700194, 0.9618996084922176, 0.9626635261164338, 0.963522933443677, 0.9644460005729382, 0.9654008976032085, 0.9664194544354967, 0.967469841168794, 0.9685520578031003, 0.9696661043384155, 0.9708119807747397, 0.9719578572110641, 0.9731037336473883, 0.9742814399847216, 0.975459146322055, 0.9766686825603972, 0.9778782187987395, 0.9791195849380908, 0.9803291211764331, 0.9815386574147754, 0.9827163637521087, 0.9838940700894421, 0.9850717764267753, 0.9862494827641086, 0.9873953592004329, 0.9885094057357482, 0.9896234522710634, 0.9907056689053697, 0.991756055638667, 0.9928064423719642, 0.9937931693032435, 0.9947480663335136, 0.9956393035617659, 0.9964987108890091, 0.9972944584142344, 0.9980265461374415, 0.9986949740586307, 0.9992679122767928, 0.999713530890919, 0.999968170098991, 1.0, 1.0, 1.0, 1.0, 1.0, 1.0, 1.0, 1.0, 1.0, 1.0, 1.0, 1.0, 1.0, 1.0, 1.0, 1.0, 1.0, 1.0, 1.0, 1.0, 1.0, 1.0, 1.0, 1.0, 1.0, 1.0, 1.0, 1.0, 1.0, 1.0, 1.0, 1.0, 1.0, 1.0, 1.0, 1.0, 1.0, 1.0, 1.0, 1.0, 1.0, 1.0, 1.0, 1.0, 1.0, 1.0, 1.0, 1.0, 1.0, 1.0, 1.0, 1.0, 1.0, 1.0, 1.0, 1.0, 1.0, 1.0, 1.0, 1.0, 1.0, 1.0, 1.0, 1.0, 1.0, 1.0, 1.0, 1.0, 1.0, 1.0, 1.0, 1.0, 1.0, 1.0, 1.0, 1.0, 1.0, 1.0, 1.0, 1.0, 1.0, 1.0, 1.0]}, {\"line\": {\"color\": \"blue\", \"width\": 2}, \"mode\": \"lines\", \"name\": \"Light from a Star\", \"type\": \"scatter\", \"x\": [0, 1, 2, 3, 4, 5, 6, 7, 8, 9, 10, 11, 12, 13, 14, 15, 16, 17, 18, 19, 20, 21, 22, 23, 24, 25, 26, 27, 28, 29, 30, 31, 32, 33, 34, 35, 36, 37, 38, 39, 40, 41, 42, 43, 44, 45, 46, 47, 48, 49, 50, 51, 52, 53, 54, 55, 56, 57, 58, 59, 60, 61, 62, 63, 64, 65, 66, 67, 68, 69, 70, 71, 72, 73, 74, 75, 76, 77, 78, 79, 80, 81, 82, 83, 84, 85, 86, 87, 88, 89, 90, 91, 92, 93, 94, 95, 96, 97, 98, 99, 100, 101, 102, 103, 104, 105, 106, 107, 108, 109, 110, 111, 112, 113, 114, 115, 116, 117, 118, 119, 120, 121, 122, 123, 124, 125, 126, 127, 128, 129, 130, 131, 132, 133, 134, 135, 136, 137, 138, 139, 140, 141, 142, 143, 144, 145, 146, 147, 148, 149, 150, 151, 152, 153, 154, 155, 156, 157, 158, 159, 160, 161, 162, 163, 164, 165, 166, 167, 168, 169, 170, 171, 172, 173, 174, 175, 176, 177, 178, 179, 180, 181, 182, 183, 184, 185, 186, 187, 188, 189, 190, 191, 192, 193, 194, 195, 196, 197, 198, 199, 200, 201, 202, 203, 204, 205, 206, 207, 208, 209, 210, 211, 212, 213, 214, 215, 216, 217, 218, 219, 220, 221, 222, 223, 224, 225, 226, 227, 228, 229, 230, 231, 232, 233, 234, 235, 236, 237, 238, 239, 240, 241, 242, 243, 244, 245, 246, 247, 248, 249, 250, 251, 252, 253, 254, 255, 256, 257, 258, 259, 260, 261, 262, 263, 264, 265, 266, 267, 268, 269, 270, 271, 272, 273, 274, 275, 276, 277, 278, 279, 280, 281, 282, 283, 284, 285, 286, 287, 288, 289, 290, 291, 292, 293, 294, 295, 296, 297, 298, 299, 300, 301, 302, 303, 304, 305, 306, 307, 308, 309, 310, 311, 312, 313, 314, 315, 316, 317, 318, 319, 320, 321, 322, 323, 324, 325, 326, 327, 328, 329, 330, 331, 332, 333, 334, 335, 336, 337, 338, 339, 340, 341, 342, 343, 344, 345, 346, 347, 348, 349, 350, 351, 352, 353, 354, 355, 356, 357, 358, 359, 360, 361, 362, 363, 364, 365, 366, 367, 368, 369, 370, 371, 372, 373, 374, 375, 376, 377, 378, 379, 380, 381, 382, 383, 384, 385, 386, 387, 388, 389, 390, 391, 392, 393, 394, 395, 396, 397, 398, 399], \"y\": [1.0, 1.0, 1.0, 1.0, 1.0, 1.0, 1.0, 1.0, 1.0, 1.0, 1.0, 1.0, 1.0, 1.0, 1.0, 1.0, 1.0, 1.0, 1.0, 1.0, 1.0, 1.0, 1.0, 1.0, 1.0, 1.0, 1.0, 1.0, 1.0, 1.0, 1.0, 1.0, 1.0, 1.0, 1.0, 1.0, 1.0, 1.0, 1.0, 1.0, 1.0, 1.0, 1.0, 1.0, 1.0, 1.0, 1.0, 1.0, 1.0, 1.0, 1.0, 1.0, 1.0, 1.0, 1.0, 1.0, 1.0, 1.0, 1.0, 1.0, 1.0, 1.0, 1.0, 1.0, 1.0, 1.0, 1.0, 1.0, 1.0, 1.0, 1.0, 1.0, 1.0, 1.0, 1.0, 1.0, 1.0, 1.0, 1.0, 1.0, 1.0, 1.0, 1.0, 1.0, 0.999968170098991, 0.999713530890919, 0.9992679122767928, 0.9986949740586307, 0.9980265461374415, 0.9972944584142344, 0.9964987108890091, 0.9956393035617659, 0.9947480663335136, 0.9937931693032435, 0.9928064423719642, 0.991756055638667, 0.9907056689053697, 0.9896234522710634, 0.9885094057357482, 0.9873953592004329, 0.9862494827641086, 0.9850717764267753, 0.9838940700894421, 0.9827163637521087, 0.9815386574147754, 0.9803291211764331, 0.9791195849380908, 0.9778782187987395, 0.9766686825603972, 0.975459146322055, 0.9742814399847216, 0.9731037336473883, 0.9719578572110641, 0.9708119807747397, 0.9696661043384155, 0.9685520578031003, 0.967469841168794, 0.9664194544354967, 0.9654008976032085, 0.9644460005729382, 0.963522933443677, 0.9626635261164338, 0.9618996084922176, 0.9611993506700194, 0.9606264124518573, 0.9601807938377311, 0.9599898144316771, 0.9599898144316771, 0.9599898144316771, 0.9599898144316771, 0.9599898144316771, 0.9599898144316771, 0.9599898144316771, 0.9599898144316771, 0.9599898144316771, 0.9599898144316771, 0.9599898144316771, 0.9599898144316771, 0.9599898144316771, 0.9599898144316771, 0.9599898144316771, 0.9599898144316771, 0.9599898144316771, 0.9599898144316771, 0.9599898144316771, 0.9599898144316771, 0.9599898144316771, 0.9599898144316771, 0.9599898144316771, 0.9599898144316771, 0.9599898144316771, 0.9599898144316771, 0.9599898144316771, 0.9599898144316771, 0.9599898144316771, 0.9599898144316771, 0.9599898144316771, 0.9599898144316771, 0.9599898144316771, 0.9599898144316771, 0.9599898144316771, 0.9599898144316771, 0.9599898144316771, 0.9599898144316771, 0.9599898144316771, 0.9599898144316771, 0.9599898144316771, 0.9599898144316771, 0.9599898144316771, 0.9599898144316771, 0.9599898144316771, 0.9599898144316771, 0.9599898144316771, 0.9599898144316771, 0.9599898144316771, 0.9599898144316771, 0.9599898144316771, 0.9599898144316771, 0.9599898144316771, 0.9599898144316771, 0.9599898144316771, 0.9599898144316771, 0.9599898144316771, 0.9599898144316771, 0.9599898144316771, 0.9599898144316771, 0.9599898144316771, 0.9599898144316771, 0.9599898144316771, 0.9599898144316771, 0.9599898144316771, 0.9599898144316771, 0.9599898144316771, 0.9599898144316771, 0.9599898144316771, 0.9599898144316771, 0.9599898144316771, 0.9599898144316771, 0.9599898144316771, 0.9599898144316771, 0.9599898144316771, 0.9599898144316771, 0.9599898144316771, 0.9599898144316771, 0.9599898144316771, 0.9599898144316771, 0.9599898144316771, 0.9599898144316771, 0.9599898144316771, 0.9599898144316771, 0.9599898144316771, 0.9599898144316771, 0.9599898144316771, 0.9599898144316771, 0.9599898144316771, 0.9599898144316771, 0.9599898144316771, 0.9599898144316771, 0.9599898144316771, 0.9599898144316771, 0.9599898144316771, 0.9599898144316771, 0.9599898144316771, 0.9599898144316771, 0.9599898144316771, 0.9599898144316771, 0.9599898144316771, 0.9599898144316771, 0.9599898144316771, 0.9599898144316771, 0.9599898144316771, 0.9599898144316771, 0.9599898144316771, 0.9599898144316771, 0.9599898144316771, 0.9599898144316771, 0.9599898144316771, 0.9599898144316771, 0.9599898144316771, 0.9599898144316771, 0.9599898144316771, 0.9599898144316771, 0.9599898144316771, 0.9599898144316771, 0.9599898144316771, 0.9599898144316771, 0.9599898144316771, 0.9599898144316771, 0.9599898144316771, 0.9599898144316771, 0.9599898144316771, 0.9599898144316771, 0.9599898144316771, 0.9599898144316771, 0.9599898144316771, 0.9599898144316771, 0.9599898144316771, 0.9599898144316771, 0.9599898144316771, 0.9599898144316771, 0.9599898144316771, 0.9599898144316771, 0.9599898144316771, 0.9599898144316771, 0.9599898144316771, 0.9599898144316771, 0.9599898144316771, 0.9599898144316771, 0.9599898144316771, 0.9599898144316771, 0.9599898144316771, 0.9599898144316771, 0.9599898144316771, 0.9599898144316771, 0.9599898144316771, 0.9601807938377311, 0.9606264124518573, 0.9611993506700194, 0.9618996084922176, 0.9626635261164338, 0.963522933443677, 0.9644460005729382, 0.9654008976032085, 0.9664194544354967, 0.967469841168794, 0.9685520578031003, 0.9696661043384155, 0.9708119807747397, 0.9719578572110641, 0.9731037336473883, 0.9742814399847216, 0.975459146322055, 0.9766686825603972, 0.9778782187987395, 0.9791195849380908, 0.9803291211764331, 0.9815386574147754, 0.9827163637521087, 0.9838940700894421, 0.9850717764267753, 0.9862494827641086, 0.9873953592004329, 0.9885094057357482, 0.9896234522710634, 0.9907056689053697, 0.991756055638667, 0.9928064423719642, 0.9937931693032435, 0.9947480663335136, 0.9956393035617659, 0.9964987108890091, 0.9972944584142344, 0.9980265461374415, 0.9986949740586307, 0.9992679122767928, 0.999713530890919, 0.999968170098991, 1.0, 1.0, 1.0, 1.0, 1.0, 1.0, 1.0, 1.0, 1.0, 1.0, 1.0, 1.0, 1.0, 1.0, 1.0, 1.0, 1.0, 1.0, 1.0, 1.0, 1.0, 1.0, 1.0, 1.0, 1.0, 1.0, 1.0, 1.0, 1.0, 1.0, 1.0, 1.0, 1.0, 1.0, 1.0, 1.0, 1.0, 1.0, 1.0, 1.0, 1.0, 1.0, 1.0, 1.0, 1.0, 1.0, 1.0, 1.0, 1.0, 1.0, 1.0, 1.0, 1.0, 1.0, 1.0, 1.0, 1.0, 1.0, 1.0, 1.0, 1.0, 1.0, 1.0, 1.0, 1.0, 1.0, 1.0, 1.0, 1.0, 1.0, 1.0, 1.0, 1.0, 1.0, 1.0, 1.0, 1.0, 1.0, 1.0, 1.0, 1.0, 1.0, 1.0]}],                        {\"annotations\": [{\"arrowhead\": 7, \"ax\": 0, \"ay\": -40, \"showarrow\": true, \"text\": \"Planet starts to occult the star\", \"x\": 83, \"xref\": \"x\", \"y\": 1.0, \"yref\": \"y\"}, {\"arrowhead\": 7, \"ax\": 0, \"ay\": -40, \"showarrow\": true, \"text\": \"Planet is fully in front of the star\", \"x\": 125, \"xref\": \"x\", \"y\": 0.9601807938377311, \"yref\": \"y\"}, {\"arrowhead\": 7, \"ax\": 0, \"ay\": 40, \"showarrow\": true, \"text\": \"Planet has reached the edge of the star\", \"x\": 274, \"xref\": \"x\", \"y\": 0.9599898144316771, \"yref\": \"y\"}, {\"arrowhead\": 7, \"ax\": 0, \"ay\": -40, \"showarrow\": true, \"text\": \"Planet has stopped occulting the star\", \"x\": 316, \"xref\": \"x\", \"y\": 0.999968170098991, \"yref\": \"y\"}], \"hovermode\": \"closest\", \"showlegend\": false, \"template\": {\"data\": {\"bar\": [{\"error_x\": {\"color\": \"#2a3f5f\"}, \"error_y\": {\"color\": \"#2a3f5f\"}, \"marker\": {\"line\": {\"color\": \"#E5ECF6\", \"width\": 0.5}}, \"type\": \"bar\"}], \"barpolar\": [{\"marker\": {\"line\": {\"color\": \"#E5ECF6\", \"width\": 0.5}}, \"type\": \"barpolar\"}], \"carpet\": [{\"aaxis\": {\"endlinecolor\": \"#2a3f5f\", \"gridcolor\": \"white\", \"linecolor\": \"white\", \"minorgridcolor\": \"white\", \"startlinecolor\": \"#2a3f5f\"}, \"baxis\": {\"endlinecolor\": \"#2a3f5f\", \"gridcolor\": \"white\", \"linecolor\": \"white\", \"minorgridcolor\": \"white\", \"startlinecolor\": \"#2a3f5f\"}, \"type\": \"carpet\"}], \"choropleth\": [{\"colorbar\": {\"outlinewidth\": 0, \"ticks\": \"\"}, \"type\": \"choropleth\"}], \"contour\": [{\"colorbar\": {\"outlinewidth\": 0, \"ticks\": \"\"}, \"colorscale\": [[0.0, \"#0d0887\"], [0.1111111111111111, \"#46039f\"], [0.2222222222222222, \"#7201a8\"], [0.3333333333333333, \"#9c179e\"], [0.4444444444444444, \"#bd3786\"], [0.5555555555555556, \"#d8576b\"], [0.6666666666666666, \"#ed7953\"], [0.7777777777777778, \"#fb9f3a\"], [0.8888888888888888, \"#fdca26\"], [1.0, \"#f0f921\"]], \"type\": \"contour\"}], \"contourcarpet\": [{\"colorbar\": {\"outlinewidth\": 0, \"ticks\": \"\"}, \"type\": \"contourcarpet\"}], \"heatmap\": [{\"colorbar\": {\"outlinewidth\": 0, \"ticks\": \"\"}, \"colorscale\": [[0.0, \"#0d0887\"], [0.1111111111111111, \"#46039f\"], [0.2222222222222222, \"#7201a8\"], [0.3333333333333333, \"#9c179e\"], [0.4444444444444444, \"#bd3786\"], [0.5555555555555556, \"#d8576b\"], [0.6666666666666666, \"#ed7953\"], [0.7777777777777778, \"#fb9f3a\"], [0.8888888888888888, \"#fdca26\"], [1.0, \"#f0f921\"]], \"type\": \"heatmap\"}], \"heatmapgl\": [{\"colorbar\": {\"outlinewidth\": 0, \"ticks\": \"\"}, \"colorscale\": [[0.0, \"#0d0887\"], [0.1111111111111111, \"#46039f\"], [0.2222222222222222, \"#7201a8\"], [0.3333333333333333, \"#9c179e\"], [0.4444444444444444, \"#bd3786\"], [0.5555555555555556, \"#d8576b\"], [0.6666666666666666, \"#ed7953\"], [0.7777777777777778, \"#fb9f3a\"], [0.8888888888888888, \"#fdca26\"], [1.0, \"#f0f921\"]], \"type\": \"heatmapgl\"}], \"histogram\": [{\"marker\": {\"colorbar\": {\"outlinewidth\": 0, \"ticks\": \"\"}}, \"type\": \"histogram\"}], \"histogram2d\": [{\"colorbar\": {\"outlinewidth\": 0, \"ticks\": \"\"}, \"colorscale\": [[0.0, \"#0d0887\"], [0.1111111111111111, \"#46039f\"], [0.2222222222222222, \"#7201a8\"], [0.3333333333333333, \"#9c179e\"], [0.4444444444444444, \"#bd3786\"], [0.5555555555555556, \"#d8576b\"], [0.6666666666666666, \"#ed7953\"], [0.7777777777777778, \"#fb9f3a\"], [0.8888888888888888, \"#fdca26\"], [1.0, \"#f0f921\"]], \"type\": \"histogram2d\"}], \"histogram2dcontour\": [{\"colorbar\": {\"outlinewidth\": 0, \"ticks\": \"\"}, \"colorscale\": [[0.0, \"#0d0887\"], [0.1111111111111111, \"#46039f\"], [0.2222222222222222, \"#7201a8\"], [0.3333333333333333, \"#9c179e\"], [0.4444444444444444, \"#bd3786\"], [0.5555555555555556, \"#d8576b\"], [0.6666666666666666, \"#ed7953\"], [0.7777777777777778, \"#fb9f3a\"], [0.8888888888888888, \"#fdca26\"], [1.0, \"#f0f921\"]], \"type\": \"histogram2dcontour\"}], \"mesh3d\": [{\"colorbar\": {\"outlinewidth\": 0, \"ticks\": \"\"}, \"type\": \"mesh3d\"}], \"parcoords\": [{\"line\": {\"colorbar\": {\"outlinewidth\": 0, \"ticks\": \"\"}}, \"type\": \"parcoords\"}], \"pie\": [{\"automargin\": true, \"type\": \"pie\"}], \"scatter\": [{\"marker\": {\"colorbar\": {\"outlinewidth\": 0, \"ticks\": \"\"}}, \"type\": \"scatter\"}], \"scatter3d\": [{\"line\": {\"colorbar\": {\"outlinewidth\": 0, \"ticks\": \"\"}}, \"marker\": {\"colorbar\": {\"outlinewidth\": 0, \"ticks\": \"\"}}, \"type\": \"scatter3d\"}], \"scattercarpet\": [{\"marker\": {\"colorbar\": {\"outlinewidth\": 0, \"ticks\": \"\"}}, \"type\": \"scattercarpet\"}], \"scattergeo\": [{\"marker\": {\"colorbar\": {\"outlinewidth\": 0, \"ticks\": \"\"}}, \"type\": \"scattergeo\"}], \"scattergl\": [{\"marker\": {\"colorbar\": {\"outlinewidth\": 0, \"ticks\": \"\"}}, \"type\": \"scattergl\"}], \"scattermapbox\": [{\"marker\": {\"colorbar\": {\"outlinewidth\": 0, \"ticks\": \"\"}}, \"type\": \"scattermapbox\"}], \"scatterpolar\": [{\"marker\": {\"colorbar\": {\"outlinewidth\": 0, \"ticks\": \"\"}}, \"type\": \"scatterpolar\"}], \"scatterpolargl\": [{\"marker\": {\"colorbar\": {\"outlinewidth\": 0, \"ticks\": \"\"}}, \"type\": \"scatterpolargl\"}], \"scatterternary\": [{\"marker\": {\"colorbar\": {\"outlinewidth\": 0, \"ticks\": \"\"}}, \"type\": \"scatterternary\"}], \"surface\": [{\"colorbar\": {\"outlinewidth\": 0, \"ticks\": \"\"}, \"colorscale\": [[0.0, \"#0d0887\"], [0.1111111111111111, \"#46039f\"], [0.2222222222222222, \"#7201a8\"], [0.3333333333333333, \"#9c179e\"], [0.4444444444444444, \"#bd3786\"], [0.5555555555555556, \"#d8576b\"], [0.6666666666666666, \"#ed7953\"], [0.7777777777777778, \"#fb9f3a\"], [0.8888888888888888, \"#fdca26\"], [1.0, \"#f0f921\"]], \"type\": \"surface\"}], \"table\": [{\"cells\": {\"fill\": {\"color\": \"#EBF0F8\"}, \"line\": {\"color\": \"white\"}}, \"header\": {\"fill\": {\"color\": \"#C8D4E3\"}, \"line\": {\"color\": \"white\"}}, \"type\": \"table\"}]}, \"layout\": {\"annotationdefaults\": {\"arrowcolor\": \"#2a3f5f\", \"arrowhead\": 0, \"arrowwidth\": 1}, \"autotypenumbers\": \"strict\", \"coloraxis\": {\"colorbar\": {\"outlinewidth\": 0, \"ticks\": \"\"}}, \"colorscale\": {\"diverging\": [[0, \"#8e0152\"], [0.1, \"#c51b7d\"], [0.2, \"#de77ae\"], [0.3, \"#f1b6da\"], [0.4, \"#fde0ef\"], [0.5, \"#f7f7f7\"], [0.6, \"#e6f5d0\"], [0.7, \"#b8e186\"], [0.8, \"#7fbc41\"], [0.9, \"#4d9221\"], [1, \"#276419\"]], \"sequential\": [[0.0, \"#0d0887\"], [0.1111111111111111, \"#46039f\"], [0.2222222222222222, \"#7201a8\"], [0.3333333333333333, \"#9c179e\"], [0.4444444444444444, \"#bd3786\"], [0.5555555555555556, \"#d8576b\"], [0.6666666666666666, \"#ed7953\"], [0.7777777777777778, \"#fb9f3a\"], [0.8888888888888888, \"#fdca26\"], [1.0, \"#f0f921\"]], \"sequentialminus\": [[0.0, \"#0d0887\"], [0.1111111111111111, \"#46039f\"], [0.2222222222222222, \"#7201a8\"], [0.3333333333333333, \"#9c179e\"], [0.4444444444444444, \"#bd3786\"], [0.5555555555555556, \"#d8576b\"], [0.6666666666666666, \"#ed7953\"], [0.7777777777777778, \"#fb9f3a\"], [0.8888888888888888, \"#fdca26\"], [1.0, \"#f0f921\"]]}, \"colorway\": [\"#636efa\", \"#EF553B\", \"#00cc96\", \"#ab63fa\", \"#FFA15A\", \"#19d3f3\", \"#FF6692\", \"#B6E880\", \"#FF97FF\", \"#FECB52\"], \"font\": {\"color\": \"#2a3f5f\"}, \"geo\": {\"bgcolor\": \"white\", \"lakecolor\": \"white\", \"landcolor\": \"#E5ECF6\", \"showlakes\": true, \"showland\": true, \"subunitcolor\": \"white\"}, \"hoverlabel\": {\"align\": \"left\"}, \"hovermode\": \"closest\", \"mapbox\": {\"style\": \"light\"}, \"paper_bgcolor\": \"white\", \"plot_bgcolor\": \"#E5ECF6\", \"polar\": {\"angularaxis\": {\"gridcolor\": \"white\", \"linecolor\": \"white\", \"ticks\": \"\"}, \"bgcolor\": \"#E5ECF6\", \"radialaxis\": {\"gridcolor\": \"white\", \"linecolor\": \"white\", \"ticks\": \"\"}}, \"scene\": {\"xaxis\": {\"backgroundcolor\": \"#E5ECF6\", \"gridcolor\": \"white\", \"gridwidth\": 2, \"linecolor\": \"white\", \"showbackground\": true, \"ticks\": \"\", \"zerolinecolor\": \"white\"}, \"yaxis\": {\"backgroundcolor\": \"#E5ECF6\", \"gridcolor\": \"white\", \"gridwidth\": 2, \"linecolor\": \"white\", \"showbackground\": true, \"ticks\": \"\", \"zerolinecolor\": \"white\"}, \"zaxis\": {\"backgroundcolor\": \"#E5ECF6\", \"gridcolor\": \"white\", \"gridwidth\": 2, \"linecolor\": \"white\", \"showbackground\": true, \"ticks\": \"\", \"zerolinecolor\": \"white\"}}, \"shapedefaults\": {\"line\": {\"color\": \"#2a3f5f\"}}, \"ternary\": {\"aaxis\": {\"gridcolor\": \"white\", \"linecolor\": \"white\", \"ticks\": \"\"}, \"baxis\": {\"gridcolor\": \"white\", \"linecolor\": \"white\", \"ticks\": \"\"}, \"bgcolor\": \"#E5ECF6\", \"caxis\": {\"gridcolor\": \"white\", \"linecolor\": \"white\", \"ticks\": \"\"}}, \"title\": {\"x\": 0.05}, \"xaxis\": {\"automargin\": true, \"gridcolor\": \"white\", \"linecolor\": \"white\", \"ticks\": \"\", \"title\": {\"standoff\": 15}, \"zerolinecolor\": \"white\", \"zerolinewidth\": 2}, \"yaxis\": {\"automargin\": true, \"gridcolor\": \"white\", \"linecolor\": \"white\", \"ticks\": \"\", \"title\": {\"standoff\": 15}, \"zerolinecolor\": \"white\", \"zerolinewidth\": 2}}}, \"title\": {\"text\": \"Exoplanet Transit\"}, \"updatemenus\": [{\"buttons\": [{\"args\": [null], \"label\": \"Play\", \"method\": \"animate\"}], \"type\": \"buttons\"}], \"xaxis\": {\"autorange\": false, \"range\": [0, 400], \"title\": {\"text\": \"Time\"}, \"zeroline\": false}, \"yaxis\": {\"autorange\": false, \"range\": [0, 1.3], \"title\": {\"text\": \"f, Flux\"}, \"zeroline\": false}},                        {\"responsive\": true}                    ).then(function(){\n",
       "                            Plotly.addFrames('4b3bbc5b-4d24-4b40-8039-8bfc3ec29eed', [{\"data\": [{\"marker\": {\"color\": \"red\", \"size\": 10}, \"mode\": \"markers\", \"x\": [0], \"y\": [1.0], \"type\": \"scatter\"}]}, {\"data\": [{\"marker\": {\"color\": \"red\", \"size\": 10}, \"mode\": \"markers\", \"x\": [5], \"y\": [1.0], \"type\": \"scatter\"}]}, {\"data\": [{\"marker\": {\"color\": \"red\", \"size\": 10}, \"mode\": \"markers\", \"x\": [10], \"y\": [1.0], \"type\": \"scatter\"}]}, {\"data\": [{\"marker\": {\"color\": \"red\", \"size\": 10}, \"mode\": \"markers\", \"x\": [15], \"y\": [1.0], \"type\": \"scatter\"}]}, {\"data\": [{\"marker\": {\"color\": \"red\", \"size\": 10}, \"mode\": \"markers\", \"x\": [20], \"y\": [1.0], \"type\": \"scatter\"}]}, {\"data\": [{\"marker\": {\"color\": \"red\", \"size\": 10}, \"mode\": \"markers\", \"x\": [25], \"y\": [1.0], \"type\": \"scatter\"}]}, {\"data\": [{\"marker\": {\"color\": \"red\", \"size\": 10}, \"mode\": \"markers\", \"x\": [30], \"y\": [1.0], \"type\": \"scatter\"}]}, {\"data\": [{\"marker\": {\"color\": \"red\", \"size\": 10}, \"mode\": \"markers\", \"x\": [35], \"y\": [1.0], \"type\": \"scatter\"}]}, {\"data\": [{\"marker\": {\"color\": \"red\", \"size\": 10}, \"mode\": \"markers\", \"x\": [40], \"y\": [1.0], \"type\": \"scatter\"}]}, {\"data\": [{\"marker\": {\"color\": \"red\", \"size\": 10}, \"mode\": \"markers\", \"x\": [45], \"y\": [1.0], \"type\": \"scatter\"}]}, {\"data\": [{\"marker\": {\"color\": \"red\", \"size\": 10}, \"mode\": \"markers\", \"x\": [50], \"y\": [1.0], \"type\": \"scatter\"}]}, {\"data\": [{\"marker\": {\"color\": \"red\", \"size\": 10}, \"mode\": \"markers\", \"x\": [55], \"y\": [1.0], \"type\": \"scatter\"}]}, {\"data\": [{\"marker\": {\"color\": \"red\", \"size\": 10}, \"mode\": \"markers\", \"x\": [60], \"y\": [1.0], \"type\": \"scatter\"}]}, {\"data\": [{\"marker\": {\"color\": \"red\", \"size\": 10}, \"mode\": \"markers\", \"x\": [65], \"y\": [1.0], \"type\": \"scatter\"}]}, {\"data\": [{\"marker\": {\"color\": \"red\", \"size\": 10}, \"mode\": \"markers\", \"x\": [70], \"y\": [1.0], \"type\": \"scatter\"}]}, {\"data\": [{\"marker\": {\"color\": \"red\", \"size\": 10}, \"mode\": \"markers\", \"x\": [75], \"y\": [1.0], \"type\": \"scatter\"}]}, {\"data\": [{\"marker\": {\"color\": \"red\", \"size\": 10}, \"mode\": \"markers\", \"x\": [80], \"y\": [1.0], \"type\": \"scatter\"}]}, {\"data\": [{\"marker\": {\"color\": \"red\", \"size\": 10}, \"mode\": \"markers\", \"x\": [85], \"y\": [0.999713530890919], \"type\": \"scatter\"}]}, {\"data\": [{\"marker\": {\"color\": \"red\", \"size\": 10}, \"mode\": \"markers\", \"x\": [90], \"y\": [0.9964987108890091], \"type\": \"scatter\"}]}, {\"data\": [{\"marker\": {\"color\": \"red\", \"size\": 10}, \"mode\": \"markers\", \"x\": [95], \"y\": [0.991756055638667], \"type\": \"scatter\"}]}, {\"data\": [{\"marker\": {\"color\": \"red\", \"size\": 10}, \"mode\": \"markers\", \"x\": [100], \"y\": [0.9862494827641086], \"type\": \"scatter\"}]}, {\"data\": [{\"marker\": {\"color\": \"red\", \"size\": 10}, \"mode\": \"markers\", \"x\": [105], \"y\": [0.9803291211764331], \"type\": \"scatter\"}]}, {\"data\": [{\"marker\": {\"color\": \"red\", \"size\": 10}, \"mode\": \"markers\", \"x\": [110], \"y\": [0.9742814399847216], \"type\": \"scatter\"}]}, {\"data\": [{\"marker\": {\"color\": \"red\", \"size\": 10}, \"mode\": \"markers\", \"x\": [115], \"y\": [0.9685520578031003], \"type\": \"scatter\"}]}, {\"data\": [{\"marker\": {\"color\": \"red\", \"size\": 10}, \"mode\": \"markers\", \"x\": [120], \"y\": [0.963522933443677], \"type\": \"scatter\"}]}, {\"data\": [{\"marker\": {\"color\": \"red\", \"size\": 10}, \"mode\": \"markers\", \"x\": [125], \"y\": [0.9601807938377311], \"type\": \"scatter\"}]}, {\"data\": [{\"marker\": {\"color\": \"red\", \"size\": 10}, \"mode\": \"markers\", \"x\": [130], \"y\": [0.9599898144316771], \"type\": \"scatter\"}]}, {\"data\": [{\"marker\": {\"color\": \"red\", \"size\": 10}, \"mode\": \"markers\", \"x\": [135], \"y\": [0.9599898144316771], \"type\": \"scatter\"}]}, {\"data\": [{\"marker\": {\"color\": \"red\", \"size\": 10}, \"mode\": \"markers\", \"x\": [140], \"y\": [0.9599898144316771], \"type\": \"scatter\"}]}, {\"data\": [{\"marker\": {\"color\": \"red\", \"size\": 10}, \"mode\": \"markers\", \"x\": [145], \"y\": [0.9599898144316771], \"type\": \"scatter\"}]}, {\"data\": [{\"marker\": {\"color\": \"red\", \"size\": 10}, \"mode\": \"markers\", \"x\": [150], \"y\": [0.9599898144316771], \"type\": \"scatter\"}]}, {\"data\": [{\"marker\": {\"color\": \"red\", \"size\": 10}, \"mode\": \"markers\", \"x\": [155], \"y\": [0.9599898144316771], \"type\": \"scatter\"}]}, {\"data\": [{\"marker\": {\"color\": \"red\", \"size\": 10}, \"mode\": \"markers\", \"x\": [160], \"y\": [0.9599898144316771], \"type\": \"scatter\"}]}, {\"data\": [{\"marker\": {\"color\": \"red\", \"size\": 10}, \"mode\": \"markers\", \"x\": [165], \"y\": [0.9599898144316771], \"type\": \"scatter\"}]}, {\"data\": [{\"marker\": {\"color\": \"red\", \"size\": 10}, \"mode\": \"markers\", \"x\": [170], \"y\": [0.9599898144316771], \"type\": \"scatter\"}]}, {\"data\": [{\"marker\": {\"color\": \"red\", \"size\": 10}, \"mode\": \"markers\", \"x\": [175], \"y\": [0.9599898144316771], \"type\": \"scatter\"}]}, {\"data\": [{\"marker\": {\"color\": \"red\", \"size\": 10}, \"mode\": \"markers\", \"x\": [180], \"y\": [0.9599898144316771], \"type\": \"scatter\"}]}, {\"data\": [{\"marker\": {\"color\": \"red\", \"size\": 10}, \"mode\": \"markers\", \"x\": [185], \"y\": [0.9599898144316771], \"type\": \"scatter\"}]}, {\"data\": [{\"marker\": {\"color\": \"red\", \"size\": 10}, \"mode\": \"markers\", \"x\": [190], \"y\": [0.9599898144316771], \"type\": \"scatter\"}]}, {\"data\": [{\"marker\": {\"color\": \"red\", \"size\": 10}, \"mode\": \"markers\", \"x\": [195], \"y\": [0.9599898144316771], \"type\": \"scatter\"}]}, {\"data\": [{\"marker\": {\"color\": \"red\", \"size\": 10}, \"mode\": \"markers\", \"x\": [200], \"y\": [0.9599898144316771], \"type\": \"scatter\"}]}, {\"data\": [{\"marker\": {\"color\": \"red\", \"size\": 10}, \"mode\": \"markers\", \"x\": [205], \"y\": [0.9599898144316771], \"type\": \"scatter\"}]}, {\"data\": [{\"marker\": {\"color\": \"red\", \"size\": 10}, \"mode\": \"markers\", \"x\": [210], \"y\": [0.9599898144316771], \"type\": \"scatter\"}]}, {\"data\": [{\"marker\": {\"color\": \"red\", \"size\": 10}, \"mode\": \"markers\", \"x\": [215], \"y\": [0.9599898144316771], \"type\": \"scatter\"}]}, {\"data\": [{\"marker\": {\"color\": \"red\", \"size\": 10}, \"mode\": \"markers\", \"x\": [220], \"y\": [0.9599898144316771], \"type\": \"scatter\"}]}, {\"data\": [{\"marker\": {\"color\": \"red\", \"size\": 10}, \"mode\": \"markers\", \"x\": [225], \"y\": [0.9599898144316771], \"type\": \"scatter\"}]}, {\"data\": [{\"marker\": {\"color\": \"red\", \"size\": 10}, \"mode\": \"markers\", \"x\": [230], \"y\": [0.9599898144316771], \"type\": \"scatter\"}]}, {\"data\": [{\"marker\": {\"color\": \"red\", \"size\": 10}, \"mode\": \"markers\", \"x\": [235], \"y\": [0.9599898144316771], \"type\": \"scatter\"}]}, {\"data\": [{\"marker\": {\"color\": \"red\", \"size\": 10}, \"mode\": \"markers\", \"x\": [240], \"y\": [0.9599898144316771], \"type\": \"scatter\"}]}, {\"data\": [{\"marker\": {\"color\": \"red\", \"size\": 10}, \"mode\": \"markers\", \"x\": [245], \"y\": [0.9599898144316771], \"type\": \"scatter\"}]}, {\"data\": [{\"marker\": {\"color\": \"red\", \"size\": 10}, \"mode\": \"markers\", \"x\": [250], \"y\": [0.9599898144316771], \"type\": \"scatter\"}]}, {\"data\": [{\"marker\": {\"color\": \"red\", \"size\": 10}, \"mode\": \"markers\", \"x\": [255], \"y\": [0.9599898144316771], \"type\": \"scatter\"}]}, {\"data\": [{\"marker\": {\"color\": \"red\", \"size\": 10}, \"mode\": \"markers\", \"x\": [260], \"y\": [0.9599898144316771], \"type\": \"scatter\"}]}, {\"data\": [{\"marker\": {\"color\": \"red\", \"size\": 10}, \"mode\": \"markers\", \"x\": [265], \"y\": [0.9599898144316771], \"type\": \"scatter\"}]}, {\"data\": [{\"marker\": {\"color\": \"red\", \"size\": 10}, \"mode\": \"markers\", \"x\": [270], \"y\": [0.9599898144316771], \"type\": \"scatter\"}]}, {\"data\": [{\"marker\": {\"color\": \"red\", \"size\": 10}, \"mode\": \"markers\", \"x\": [275], \"y\": [0.9601807938377311], \"type\": \"scatter\"}]}, {\"data\": [{\"marker\": {\"color\": \"red\", \"size\": 10}, \"mode\": \"markers\", \"x\": [280], \"y\": [0.963522933443677], \"type\": \"scatter\"}]}, {\"data\": [{\"marker\": {\"color\": \"red\", \"size\": 10}, \"mode\": \"markers\", \"x\": [285], \"y\": [0.9685520578031003], \"type\": \"scatter\"}]}, {\"data\": [{\"marker\": {\"color\": \"red\", \"size\": 10}, \"mode\": \"markers\", \"x\": [290], \"y\": [0.9742814399847216], \"type\": \"scatter\"}]}, {\"data\": [{\"marker\": {\"color\": \"red\", \"size\": 10}, \"mode\": \"markers\", \"x\": [295], \"y\": [0.9803291211764331], \"type\": \"scatter\"}]}, {\"data\": [{\"marker\": {\"color\": \"red\", \"size\": 10}, \"mode\": \"markers\", \"x\": [300], \"y\": [0.9862494827641086], \"type\": \"scatter\"}]}, {\"data\": [{\"marker\": {\"color\": \"red\", \"size\": 10}, \"mode\": \"markers\", \"x\": [305], \"y\": [0.991756055638667], \"type\": \"scatter\"}]}, {\"data\": [{\"marker\": {\"color\": \"red\", \"size\": 10}, \"mode\": \"markers\", \"x\": [310], \"y\": [0.9964987108890091], \"type\": \"scatter\"}]}, {\"data\": [{\"marker\": {\"color\": \"red\", \"size\": 10}, \"mode\": \"markers\", \"x\": [315], \"y\": [0.999713530890919], \"type\": \"scatter\"}]}, {\"data\": [{\"marker\": {\"color\": \"red\", \"size\": 10}, \"mode\": \"markers\", \"x\": [320], \"y\": [1.0], \"type\": \"scatter\"}]}, {\"data\": [{\"marker\": {\"color\": \"red\", \"size\": 10}, \"mode\": \"markers\", \"x\": [325], \"y\": [1.0], \"type\": \"scatter\"}]}, {\"data\": [{\"marker\": {\"color\": \"red\", \"size\": 10}, \"mode\": \"markers\", \"x\": [330], \"y\": [1.0], \"type\": \"scatter\"}]}, {\"data\": [{\"marker\": {\"color\": \"red\", \"size\": 10}, \"mode\": \"markers\", \"x\": [335], \"y\": [1.0], \"type\": \"scatter\"}]}, {\"data\": [{\"marker\": {\"color\": \"red\", \"size\": 10}, \"mode\": \"markers\", \"x\": [340], \"y\": [1.0], \"type\": \"scatter\"}]}, {\"data\": [{\"marker\": {\"color\": \"red\", \"size\": 10}, \"mode\": \"markers\", \"x\": [345], \"y\": [1.0], \"type\": \"scatter\"}]}, {\"data\": [{\"marker\": {\"color\": \"red\", \"size\": 10}, \"mode\": \"markers\", \"x\": [350], \"y\": [1.0], \"type\": \"scatter\"}]}, {\"data\": [{\"marker\": {\"color\": \"red\", \"size\": 10}, \"mode\": \"markers\", \"x\": [355], \"y\": [1.0], \"type\": \"scatter\"}]}, {\"data\": [{\"marker\": {\"color\": \"red\", \"size\": 10}, \"mode\": \"markers\", \"x\": [360], \"y\": [1.0], \"type\": \"scatter\"}]}, {\"data\": [{\"marker\": {\"color\": \"red\", \"size\": 10}, \"mode\": \"markers\", \"x\": [365], \"y\": [1.0], \"type\": \"scatter\"}]}, {\"data\": [{\"marker\": {\"color\": \"red\", \"size\": 10}, \"mode\": \"markers\", \"x\": [370], \"y\": [1.0], \"type\": \"scatter\"}]}, {\"data\": [{\"marker\": {\"color\": \"red\", \"size\": 10}, \"mode\": \"markers\", \"x\": [375], \"y\": [1.0], \"type\": \"scatter\"}]}, {\"data\": [{\"marker\": {\"color\": \"red\", \"size\": 10}, \"mode\": \"markers\", \"x\": [380], \"y\": [1.0], \"type\": \"scatter\"}]}, {\"data\": [{\"marker\": {\"color\": \"red\", \"size\": 10}, \"mode\": \"markers\", \"x\": [385], \"y\": [1.0], \"type\": \"scatter\"}]}, {\"data\": [{\"marker\": {\"color\": \"red\", \"size\": 10}, \"mode\": \"markers\", \"x\": [390], \"y\": [1.0], \"type\": \"scatter\"}]}, {\"data\": [{\"marker\": {\"color\": \"red\", \"size\": 10}, \"mode\": \"markers\", \"x\": [395], \"y\": [1.0], \"type\": \"scatter\"}]}]);\n",
       "                        }).then(function(){\n",
       "                            \n",
       "var gd = document.getElementById('4b3bbc5b-4d24-4b40-8039-8bfc3ec29eed');\n",
       "var x = new MutationObserver(function (mutations, observer) {{\n",
       "        var display = window.getComputedStyle(gd).display;\n",
       "        if (!display || display === 'none') {{\n",
       "            console.log([gd, 'removed!']);\n",
       "            Plotly.purge(gd);\n",
       "            observer.disconnect();\n",
       "        }}\n",
       "}});\n",
       "\n",
       "// Listen for the removal of the full notebook cells\n",
       "var notebookContainer = gd.closest('#notebook-container');\n",
       "if (notebookContainer) {{\n",
       "    x.observe(notebookContainer, {childList: true});\n",
       "}}\n",
       "\n",
       "// Listen for the clearing of the current output cell\n",
       "var outputEl = gd.closest('.output');\n",
       "if (outputEl) {{\n",
       "    x.observe(outputEl, {childList: true});\n",
       "}}\n",
       "\n",
       "                        })                };                });            </script>        </div>"
      ]
     },
     "metadata": {},
     "output_type": "display_data"
    }
   ],
   "source": [
    "simulate(planet_radius, star_radius, inclination)"
   ]
  },
  {
   "cell_type": "code",
   "execution_count": null,
   "metadata": {},
   "outputs": [],
   "source": []
  }
 ],
 "metadata": {
  "kernelspec": {
   "display_name": "Python 3",
   "language": "python",
   "name": "python3"
  },
  "language_info": {
   "codemirror_mode": {
    "name": "ipython",
    "version": 3
   },
   "file_extension": ".py",
   "mimetype": "text/x-python",
   "name": "python",
   "nbconvert_exporter": "python",
   "pygments_lexer": "ipython3",
   "version": "3.7.3"
  }
 },
 "nbformat": 4,
 "nbformat_minor": 4
}
