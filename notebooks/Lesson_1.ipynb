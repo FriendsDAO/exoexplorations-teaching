{
 "cells": [
  {
   "cell_type": "markdown",
   "metadata": {},
   "source": [
    "<img src=\"https://static1.squarespace.com/static/5a3d47364c326d77c53c659d/t/5c3b8d456d2a73d481f72c11/1592871723538/?format=1500w\" width=\"240\" height=\"240\" align=\"center\"/>\n",
    "\n",
    "# Welcome to ExoExploration's Transit Lab! \n",
    "\n",
    "By the end of this short course, we will understand how astronomers detect exoplanets, and learn some of the technology they use as well.\n",
    "\n",
    "The first thing we have to understand, is how you're reading this text in the first place, and what this website is all about.\n",
    "\n",
    "It's actually not a website, its a way of interacting with the programming language `Python`. Programming languages use computers to perform customized tasks for their users. Scientists use programming languages to do their research, and we are going to learn some science through programming!\n",
    "\n",
    "<img src=\"https://seeklogo.com/images/P/python-logo-C50EED1930-seeklogo.com.png\" width=\"240\" height=\"240\" align=\"center\"/>\n",
    "\n",
    "This transit lab is _not_ a dedicated programming course, it is meant to get our feet wet and show you that the world of astrophysics isn't as far away as it seems.\n",
    "\n",
    "This website is run on `Jupyter` which runs `Python` code for us. We don't have to worry about any nitty gritty details, we just need to tell the website what we want our Python code to do, and it will do it!\n",
    "\n",
    "<img src=\"https://upload.wikimedia.org/wikipedia/commons/thumb/3/38/Jupyter_logo.svg/883px-Jupyter_logo.svg.png\" width=\"240\" height=\"240\" align=\"center\"/>\n",
    "\n",
    "\n",
    "How it works is we write some text into a `Jupyter` cell, or code cell. We will just call them _cells_. You're currently reading text in a `cell`. A `cell` is a unit of code in an application we are using called `Jupyter`. `Jupyter` is just a way for us to use our programming language, Python.\n",
    "After we have written our Python into a cell, we need to `execute` a cell's code. Executing is means we just want to run the program! In the same way that you `execute` a Google Search to tell Google what we want, we can execute code to tell Python what we want.\n",
    "\n",
    "The easiest way to `execute` as cell in Jupyter to hold `shift+enter`, that is, hold the `shift` key on your keyboard, while hitting the `enter` key at the same time. You do not need to hold the `enter` key! The results of running our code in the cell will appear below the cell. You select which cell you want to edit simply by clicking somewhere inside it.\n",
    "\n",
    "Give it a try in the cell below. Don't worry about what the code means right now, just experiment with it and the sliders above it!"
   ]
  },
  {
   "cell_type": "code",
   "execution_count": 1,
   "metadata": {},
   "outputs": [
    {
     "data": {
      "application/vnd.jupyter.widget-view+json": {
       "model_id": "4be92947ae7441ca9d3e9d371223c360",
       "version_major": 2,
       "version_minor": 0
      },
      "text/plain": [
       "interactive(children=(FloatSlider(value=0.0, description='m', max=2.0, min=-2.0), FloatSlider(value=0.0, descr…"
      ]
     },
     "metadata": {},
     "output_type": "display_data"
    }
   ],
   "source": [
    "%matplotlib inline\n",
    "from ipywidgets import interactive\n",
    "import matplotlib.pyplot as plt\n",
    "import numpy as np\n",
    "\n",
    "def f(m, b):\n",
    "    plt.figure(2)\n",
    "    x = np.linspace(-10, 10, num=1000)\n",
    "    plt.plot(x, m * x + b)\n",
    "    plt.title(\"Hello, World!\")\n",
    "    plt.ylim(-5, 5)\n",
    "    plt.show()\n",
    "\n",
    "interactive_plot = interactive(f, m=(-2.0, 2.0), b=(-3, 3, 0.5))\n",
    "output = interactive_plot.children[-1]\n",
    "output.layout.height = '350px'\n",
    "interactive_plot"
   ]
  },
  {
   "cell_type": "markdown",
   "metadata": {},
   "source": [
    "One of the - if not _the_ - most powerful ways of doing science, is to visualize information using graphs (also known as charts, plots, and figures). Python is _extremely_ good at doing this and it cuts down on some of the more boring parts of graphing on paper. Now that you've had an introduction to `Jupyter`, in the next lesson, we will learn how to produce graphs using `Python` in `Jupyter`.\n",
    "\n",
    "Until then, we can play around with Python some more and get used to it! Execute the cells below and see that they do!"
   ]
  },
  {
   "cell_type": "code",
   "execution_count": 12,
   "metadata": {},
   "outputs": [
    {
     "name": "stdout",
     "output_type": "stream",
     "text": [
      "This line will be printed and is called a string.\n"
     ]
    }
   ],
   "source": [
    "print(\"This line will be printed and is called a string.\")"
   ]
  },
  {
   "cell_type": "code",
   "execution_count": 18,
   "metadata": {},
   "outputs": [],
   "source": [
    "# This is a comment! Note that nothing happens! We can use comments to describe what we want our code to do."
   ]
  },
  {
   "cell_type": "code",
   "execution_count": 19,
   "metadata": {},
   "outputs": [
    {
     "name": "stdout",
     "output_type": "stream",
     "text": [
      "7\n"
     ]
    }
   ],
   "source": [
    "# myint is a variable that stores the number 7\n",
    "myint = 7\n",
    "print(myint)"
   ]
  },
  {
   "cell_type": "code",
   "execution_count": 20,
   "metadata": {},
   "outputs": [
    {
     "name": "stdout",
     "output_type": "stream",
     "text": [
      "7\n"
     ]
    }
   ],
   "source": [
    "# Note that myint sticks around even in a new cell!\n",
    "print(myint)"
   ]
  },
  {
   "cell_type": "code",
   "execution_count": 21,
   "metadata": {},
   "outputs": [
    {
     "name": "stdout",
     "output_type": "stream",
     "text": [
      "1.75\n"
     ]
    }
   ],
   "source": [
    "# We can also do some math!\n",
    "print(myint/4)"
   ]
  },
  {
   "cell_type": "code",
   "execution_count": 22,
   "metadata": {},
   "outputs": [
    {
     "name": "stdout",
     "output_type": "stream",
     "text": [
      "43\n"
     ]
    }
   ],
   "source": [
    "# We can also to some complicated math!\n",
    "this_is_a_number = 10\n",
    "print(myint*7+4-this_is_a_number)"
   ]
  },
  {
   "cell_type": "code",
   "execution_count": null,
   "metadata": {},
   "outputs": [],
   "source": []
  }
 ],
 "metadata": {
  "kernelspec": {
   "display_name": "Python 3",
   "language": "python",
   "name": "python3"
  },
  "language_info": {
   "codemirror_mode": {
    "name": "ipython",
    "version": 3
   },
   "file_extension": ".py",
   "mimetype": "text/x-python",
   "name": "python",
   "nbconvert_exporter": "python",
   "pygments_lexer": "ipython3",
   "version": "3.6.9"
  }
 },
 "nbformat": 4,
 "nbformat_minor": 4
}
